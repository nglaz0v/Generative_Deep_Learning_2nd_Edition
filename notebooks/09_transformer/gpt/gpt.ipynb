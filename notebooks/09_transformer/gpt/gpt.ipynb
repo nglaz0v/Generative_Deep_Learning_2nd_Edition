{
 "cells": [
  {
   "cell_type": "markdown",
   "id": "b076bd1a-b236-4fbc-953d-8295b25122ae",
   "metadata": {},
   "source": [
    "# 🚀 GPT"
   ]
  },
  {
   "cell_type": "markdown",
   "id": "4dca6836-0007-43f3-af65-d12ae1922c02",
   "metadata": {
    "tags": []
   },
   "source": [
    "In this notebook, we'll walk through the steps required to train your own GPT model on the wine review dataset"
   ]
  },
  {
   "cell_type": "markdown",
   "id": "3e6cb7c7-d3d5-4b12-b357-1f6118edffe0",
   "metadata": {},
   "source": [
    "The code is adapted from the excellent [GPT tutorial](https://keras.io/examples/generative/text_generation_with_miniature_gpt/) created by Apoorv Nandan available on the Keras website."
   ]
  },
  {
   "cell_type": "code",
   "execution_count": 1,
   "id": "73350761-bef2-4e96-b3ac-a158eabd2b65",
   "metadata": {
    "tags": []
   },
   "outputs": [],
   "source": [
    "%load_ext autoreload\n",
    "%autoreload 2\n",
    "import numpy as np\n",
    "import json\n",
    "import re\n",
    "import string\n",
    "from IPython.display import display, HTML\n",
    "\n",
    "import tensorflow as tf\n",
    "from tensorflow.keras import layers, models, losses, callbacks"
   ]
  },
  {
   "cell_type": "markdown",
   "id": "339e6268-ebd7-4feb-86db-1fe7abccdbe5",
   "metadata": {},
   "source": [
    "## 0. Parameters <a name=\"parameters\"></a>"
   ]
  },
  {
   "cell_type": "code",
   "execution_count": 2,
   "id": "2d8352af-343e-4c2e-8c91-95f8bac1c8a1",
   "metadata": {},
   "outputs": [],
   "source": [
    "VOCAB_SIZE = 10000\n",
    "MAX_LEN = 80\n",
    "EMBEDDING_DIM = 256\n",
    "KEY_DIM = 256\n",
    "N_HEADS = 2\n",
    "FEED_FORWARD_DIM = 256\n",
    "VALIDATION_SPLIT = 0.2\n",
    "SEED = 42\n",
    "LOAD_MODEL = False\n",
    "BATCH_SIZE = 32\n",
    "EPOCHS = 5"
   ]
  },
  {
   "cell_type": "markdown",
   "id": "b7716fac-0010-49b0-b98e-53be2259edde",
   "metadata": {},
   "source": [
    "## 1. Load the data <a name=\"load\"></a>"
   ]
  },
  {
   "cell_type": "code",
   "execution_count": 3,
   "id": "396ee9cc-25fe-4caa-8563-6f7ebe6cb5da",
   "metadata": {},
   "outputs": [],
   "source": [
    "def read_and_write_json(input_file, output_file):\n",
    "    # Read the JSON file\n",
    "    with open(input_file, 'r', encoding='utf-8') as file:\n",
    "        data = json.load(file)\n",
    "    \n",
    "    # Write the JSON data to a new file with indentation\n",
    "    with open(output_file, 'w', encoding='utf-8') as file:\n",
    "        json.dump(data, file, indent=4)\n",
    "\n",
    "\n",
    "def replace_unicode_with_question_mark(input_file, output_file):\n",
    "    # Read the content of the file\n",
    "    with open(input_file, 'r', encoding='utf-8') as file:\n",
    "        content = file.read()\n",
    "    \n",
    "    # Replace all occurrences of \\uXXXX with ?\n",
    "    modified_content = re.sub(r'\\\\u[0-9a-fA-F]{4}', '?', content)\n",
    "    \n",
    "    # Write the modified content to a new file\n",
    "    with open(output_file, 'w', encoding='utf-8') as file:\n",
    "        file.write(modified_content)\n",
    "\n",
    "\n",
    "input_file = \"../../../data/wine-reviews/winemag-data-130k-v2.json\"  # Replace with your input file name\n",
    "output_file = \"../../../data/wine-reviews/winemag-data-130k-v2_.json\"  # Replace with your desired output file name\n",
    "# read_and_write_json(input_file, input_file)\n",
    "replace_unicode_with_question_mark(input_file, output_file)"
   ]
  },
  {
   "cell_type": "code",
   "execution_count": 4,
   "id": "93cf6b0f-9667-4146-8911-763a8a2925d3",
   "metadata": {
    "tags": []
   },
   "outputs": [],
   "source": [
    "# Load the full dataset\n",
    "with open(\"../../../data/wine-reviews/winemag-data-130k-v2_.json\") as json_data:\n",
    "    wine_data = json.load(json_data)"
   ]
  },
  {
   "cell_type": "code",
   "execution_count": 5,
   "id": "2db5c0fc-0d5f-42ab-ade1-57e594c416ec",
   "metadata": {
    "tags": []
   },
   "outputs": [
    {
     "data": {
      "text/plain": [
       "{'points': '87',\n",
       " 'title': 'Kirkland Signature 2011 Mountain Cuv?e Cabernet Sauvignon (Napa Valley)',\n",
       " 'description': 'Soft, supple plum envelopes an oaky structure in this Cabernet, supported by 15% Merlot. Coffee and chocolate complete the picture, finishing strong at the end, resulting in a value-priced wine of attractive flavor and immediate accessibility.',\n",
       " 'taster_name': 'Virginie Boone',\n",
       " 'taster_twitter_handle': '@vboone',\n",
       " 'price': 19,\n",
       " 'designation': 'Mountain Cuv?e',\n",
       " 'variety': 'Cabernet Sauvignon',\n",
       " 'region_1': 'Napa Valley',\n",
       " 'region_2': 'Napa',\n",
       " 'province': 'California',\n",
       " 'country': 'US',\n",
       " 'winery': 'Kirkland Signature'}"
      ]
     },
     "execution_count": 5,
     "metadata": {},
     "output_type": "execute_result"
    }
   ],
   "source": [
    "wine_data[10]"
   ]
  },
  {
   "cell_type": "code",
   "execution_count": 6,
   "id": "23a74eca-f1b7-4a46-9a1f-b5806a4ed361",
   "metadata": {
    "tags": []
   },
   "outputs": [],
   "source": [
    "# Filter the dataset\n",
    "filtered_data = [\n",
    "    \"wine review : \"\n",
    "    + x[\"country\"]\n",
    "    + \" : \"\n",
    "    + x[\"province\"]\n",
    "    + \" : \"\n",
    "    + x[\"variety\"]\n",
    "    + \" : \"\n",
    "    + x[\"description\"]\n",
    "    for x in wine_data\n",
    "    if x[\"country\"] is not None\n",
    "    and x[\"province\"] is not None\n",
    "    and x[\"variety\"] is not None\n",
    "    and x[\"description\"] is not None\n",
    "]"
   ]
  },
  {
   "cell_type": "code",
   "execution_count": 7,
   "id": "389c20de-0422-4c48-a7b4-6ee12a7bf0e2",
   "metadata": {
    "tags": []
   },
   "outputs": [
    {
     "name": "stdout",
     "output_type": "stream",
     "text": [
      "129907 recipes loaded\n"
     ]
    }
   ],
   "source": [
    "# Count the recipes\n",
    "n_wines = len(filtered_data)\n",
    "print(f\"{n_wines} recipes loaded\")"
   ]
  },
  {
   "cell_type": "code",
   "execution_count": 8,
   "id": "1b2e3cf7-e416-460e-874a-0dd9637bca36",
   "metadata": {},
   "outputs": [
    {
     "name": "stdout",
     "output_type": "stream",
     "text": [
      "wine review : US : California : Pinot Noir : Oak and earth intermingle around robust aromas of wet forest floor in this vineyard-designated Pinot that hails from a high-elevation site. Small in production, it offers intense, full-bodied raspberry and blackberry steeped in smoky spice and smooth texture.\n"
     ]
    }
   ],
   "source": [
    "example = filtered_data[25]\n",
    "print(example)"
   ]
  },
  {
   "cell_type": "markdown",
   "id": "3f871aaf-d873-41c7-8946-e4eef7ac17c1",
   "metadata": {},
   "source": [
    "## 2. Tokenize the data <a name=\"tokenize\"></a>"
   ]
  },
  {
   "cell_type": "code",
   "execution_count": 9,
   "id": "5b2064fb-5dcc-4657-b470-0928d10e2ddc",
   "metadata": {
    "tags": []
   },
   "outputs": [],
   "source": [
    "# Pad the punctuation, to treat them as separate 'words'\n",
    "def pad_punctuation(s):\n",
    "    s = re.sub(f\"([{string.punctuation}, '\\n'])\", r\" \\1 \", s)\n",
    "    s = re.sub(\" +\", \" \", s)\n",
    "    return s\n",
    "\n",
    "\n",
    "text_data = [pad_punctuation(x) for x in filtered_data]"
   ]
  },
  {
   "cell_type": "code",
   "execution_count": 10,
   "id": "b87d7c65-9a46-492a-a5c0-a043b0d252f3",
   "metadata": {},
   "outputs": [
    {
     "data": {
      "text/plain": [
       "'wine review : US : California : Pinot Noir : Oak and earth intermingle around robust aromas of wet forest floor in this vineyard - designated Pinot that hails from a high - elevation site . Small in production , it offers intense , full - bodied raspberry and blackberry steeped in smoky spice and smooth texture . '"
      ]
     },
     "execution_count": 10,
     "metadata": {},
     "output_type": "execute_result"
    }
   ],
   "source": [
    "# Display an example of a recipe\n",
    "example_data = text_data[25]\n",
    "example_data"
   ]
  },
  {
   "cell_type": "code",
   "execution_count": 11,
   "id": "9834f916-b21a-4104-acc9-f28d3bd7a8c1",
   "metadata": {
    "tags": []
   },
   "outputs": [],
   "source": [
    "# Convert to a Tensorflow Dataset\n",
    "text_ds = (\n",
    "    tf.data.Dataset.from_tensor_slices(text_data)\n",
    "    .batch(BATCH_SIZE)\n",
    "    .shuffle(1000)\n",
    ")"
   ]
  },
  {
   "cell_type": "code",
   "execution_count": 12,
   "id": "884c0bcb-0807-45a1-8f7e-a32f2c6fa4de",
   "metadata": {},
   "outputs": [],
   "source": [
    "# Create a vectorisation layer\n",
    "vectorize_layer = layers.TextVectorization(\n",
    "    standardize=\"lower\",\n",
    "    max_tokens=VOCAB_SIZE,\n",
    "    output_mode=\"int\",\n",
    "    output_sequence_length=MAX_LEN + 1,\n",
    ")"
   ]
  },
  {
   "cell_type": "code",
   "execution_count": 13,
   "id": "4d6dd34a-d905-497b-926a-405380ebcf98",
   "metadata": {},
   "outputs": [],
   "source": [
    "# Adapt the layer to the training set\n",
    "vectorize_layer.adapt(text_ds)\n",
    "vocab = vectorize_layer.get_vocabulary()"
   ]
  },
  {
   "cell_type": "code",
   "execution_count": 14,
   "id": "f6c1c7ce-3cf0-40d4-a3dc-ab7090f69f2f",
   "metadata": {},
   "outputs": [
    {
     "name": "stdout",
     "output_type": "stream",
     "text": [
      "0: \n",
      "1: [UNK]\n",
      "2: :\n",
      "3: ,\n",
      "4: .\n",
      "5: and\n",
      "6: the\n",
      "7: wine\n",
      "8: a\n",
      "9: of\n"
     ]
    }
   ],
   "source": [
    "# Display some token:word mappings\n",
    "for i, word in enumerate(vocab[:10]):\n",
    "    print(f\"{i}: {word}\")"
   ]
  },
  {
   "cell_type": "code",
   "execution_count": 15,
   "id": "1cc30186-7ec6-4eb6-b29a-65df6714d321",
   "metadata": {},
   "outputs": [
    {
     "name": "stdout",
     "output_type": "stream",
     "text": [
      "[   7   10    2   20    2   30    2   44   64    2   56    5  245 4141\n",
      "  460  642   26    9  503  506  675   17   12  143   14 2226   44   25\n",
      " 2499   33    8  227   14 2217  963    4  604   17 1004    3   15   77\n",
      "  238    3   66   14   83   98    5   75 2649   17  200   49    5  126\n",
      "   78    4    0    0    0    0    0    0    0    0    0    0    0    0\n",
      "    0    0    0    0    0    0    0    0    0    0    0]\n"
     ]
    }
   ],
   "source": [
    "# Display the same example converted to ints\n",
    "example_tokenised = vectorize_layer(example_data)\n",
    "print(example_tokenised.numpy())"
   ]
  },
  {
   "cell_type": "markdown",
   "id": "8c195efb-84c6-4be0-a989-a7542188ad35",
   "metadata": {},
   "source": [
    "## 3. Create the Training Set <a name=\"create\"></a>"
   ]
  },
  {
   "cell_type": "code",
   "execution_count": 16,
   "id": "740294a1-1a6b-4c89-92f2-036d7d1b788b",
   "metadata": {},
   "outputs": [],
   "source": [
    "# Create the training set of recipes and the same text shifted by one word\n",
    "def prepare_inputs(text):\n",
    "    text = tf.expand_dims(text, -1)\n",
    "    tokenized_sentences = vectorize_layer(text)\n",
    "    x = tokenized_sentences[:, :-1]\n",
    "    y = tokenized_sentences[:, 1:]\n",
    "    return x, y\n",
    "\n",
    "\n",
    "train_ds = text_ds.map(prepare_inputs)"
   ]
  },
  {
   "cell_type": "code",
   "execution_count": 17,
   "id": "cad80ffb-4298-4249-86b4-9918d62534c5",
   "metadata": {},
   "outputs": [],
   "source": [
    "example_input_output = train_ds.take(1).get_single_element()"
   ]
  },
  {
   "cell_type": "code",
   "execution_count": 18,
   "id": "67ff7263-f62d-44c1-997b-1aa99a393521",
   "metadata": {},
   "outputs": [
    {
     "data": {
      "text/plain": [
       "<tf.Tensor: shape=(80,), dtype=int64, numpy=\n",
       "array([   7,   10,    2,   20,    2,   30,    2,   46,   45,    2, 1785,\n",
       "          5,  439,   17,   35,    5,  424,    3,   34,   12,   13,    8,\n",
       "        285,  100,  441,   47,    8,   59,    3,   66,   14,   83,   24,\n",
       "          7,   11,   75,    5,  133,   16,    4,   36,   11,  575, 1226,\n",
       "          3,  824,   52, 2375,  122, 1236,   11, 4541,    4,    0,    0,\n",
       "          0,    0,    0,    0,    0,    0,    0,    0,    0,    0,    0,\n",
       "          0,    0,    0,    0,    0,    0,    0,    0,    0,    0,    0,\n",
       "          0,    0,    0], dtype=int64)>"
      ]
     },
     "execution_count": 18,
     "metadata": {},
     "output_type": "execute_result"
    }
   ],
   "source": [
    "# Example Input\n",
    "example_input_output[0][0]"
   ]
  },
  {
   "cell_type": "code",
   "execution_count": 19,
   "id": "ef2e2cad-414c-4e6d-a2ac-6b9598f9dd01",
   "metadata": {},
   "outputs": [
    {
     "data": {
      "text/plain": [
       "<tf.Tensor: shape=(80,), dtype=int64, numpy=\n",
       "array([  10,    2,   20,    2,   30,    2,   46,   45,    2, 1785,    5,\n",
       "        439,   17,   35,    5,  424,    3,   34,   12,   13,    8,  285,\n",
       "        100,  441,   47,    8,   59,    3,   66,   14,   83,   24,    7,\n",
       "         11,   75,    5,  133,   16,    4,   36,   11,  575, 1226,    3,\n",
       "        824,   52, 2375,  122, 1236,   11, 4541,    4,    0,    0,    0,\n",
       "          0,    0,    0,    0,    0,    0,    0,    0,    0,    0,    0,\n",
       "          0,    0,    0,    0,    0,    0,    0,    0,    0,    0,    0,\n",
       "          0,    0,    0], dtype=int64)>"
      ]
     },
     "execution_count": 19,
     "metadata": {},
     "output_type": "execute_result"
    }
   ],
   "source": [
    "# Example Output (shifted by one token)\n",
    "example_input_output[1][0]"
   ]
  },
  {
   "cell_type": "markdown",
   "id": "aff50401-3abe-4c10-bba8-b35bc13ad7d5",
   "metadata": {
    "tags": []
   },
   "source": [
    "## 5. Create the causal attention mask function <a name=\"causal\"></a>"
   ]
  },
  {
   "cell_type": "code",
   "execution_count": 20,
   "id": "554a4184-61c2-4eb7-a063-d965586a8188",
   "metadata": {},
   "outputs": [
    {
     "data": {
      "text/plain": [
       "array([[1, 1, 1, 1, 1, 1, 1, 1, 1, 1],\n",
       "       [0, 1, 1, 1, 1, 1, 1, 1, 1, 1],\n",
       "       [0, 0, 1, 1, 1, 1, 1, 1, 1, 1],\n",
       "       [0, 0, 0, 1, 1, 1, 1, 1, 1, 1],\n",
       "       [0, 0, 0, 0, 1, 1, 1, 1, 1, 1],\n",
       "       [0, 0, 0, 0, 0, 1, 1, 1, 1, 1],\n",
       "       [0, 0, 0, 0, 0, 0, 1, 1, 1, 1],\n",
       "       [0, 0, 0, 0, 0, 0, 0, 1, 1, 1],\n",
       "       [0, 0, 0, 0, 0, 0, 0, 0, 1, 1],\n",
       "       [0, 0, 0, 0, 0, 0, 0, 0, 0, 1]])"
      ]
     },
     "execution_count": 20,
     "metadata": {},
     "output_type": "execute_result"
    }
   ],
   "source": [
    "def causal_attention_mask(batch_size, n_dest, n_src, dtype):\n",
    "    i = tf.range(n_dest)[:, None]\n",
    "    j = tf.range(n_src)\n",
    "    m = i >= j - n_src + n_dest\n",
    "    mask = tf.cast(m, dtype)\n",
    "    mask = tf.reshape(mask, [1, n_dest, n_src])\n",
    "    mult = tf.concat(\n",
    "        [tf.expand_dims(batch_size, -1), tf.constant([1, 1], dtype=tf.int32)], 0\n",
    "    )\n",
    "    return tf.tile(mask, mult)\n",
    "\n",
    "\n",
    "np.transpose(causal_attention_mask(1, 10, 10, dtype=tf.int32)[0])"
   ]
  },
  {
   "cell_type": "markdown",
   "id": "3501dbad-0860-40ad-b7d6-47950e37858f",
   "metadata": {},
   "source": [
    "## 6. Create a Transformer Block layer <a name=\"transformer\"></a>"
   ]
  },
  {
   "cell_type": "code",
   "execution_count": 21,
   "id": "5285a1cb-fce1-46b1-b088-b596002fa9ae",
   "metadata": {},
   "outputs": [],
   "source": [
    "class TransformerBlock(layers.Layer):\n",
    "    def __init__(self, num_heads, key_dim, embed_dim, ff_dim, dropout_rate=0.1):\n",
    "        super(TransformerBlock, self).__init__()\n",
    "        self.num_heads = num_heads\n",
    "        self.key_dim = key_dim\n",
    "        self.embed_dim = embed_dim\n",
    "        self.ff_dim = ff_dim\n",
    "        self.dropout_rate = dropout_rate\n",
    "        self.attn = layers.MultiHeadAttention(\n",
    "            num_heads, key_dim, output_shape=embed_dim\n",
    "        )\n",
    "        self.dropout_1 = layers.Dropout(self.dropout_rate)\n",
    "        self.ln_1 = layers.LayerNormalization(epsilon=1e-6)\n",
    "        self.ffn_1 = layers.Dense(self.ff_dim, activation=\"relu\")\n",
    "        self.ffn_2 = layers.Dense(self.embed_dim)\n",
    "        self.dropout_2 = layers.Dropout(self.dropout_rate)\n",
    "        self.ln_2 = layers.LayerNormalization(epsilon=1e-6)\n",
    "\n",
    "    def call(self, inputs):\n",
    "        input_shape = tf.shape(inputs)\n",
    "        batch_size = input_shape[0]\n",
    "        seq_len = input_shape[1]\n",
    "        causal_mask = causal_attention_mask(\n",
    "            batch_size, seq_len, seq_len, tf.bool\n",
    "        )\n",
    "        attention_output, attention_scores = self.attn(\n",
    "            inputs,\n",
    "            inputs,\n",
    "            attention_mask=causal_mask,\n",
    "            return_attention_scores=True,\n",
    "        )\n",
    "        attention_output = self.dropout_1(attention_output)\n",
    "        out1 = self.ln_1(inputs + attention_output)\n",
    "        ffn_1 = self.ffn_1(out1)\n",
    "        ffn_2 = self.ffn_2(ffn_1)\n",
    "        ffn_output = self.dropout_2(ffn_2)\n",
    "        return (self.ln_2(out1 + ffn_output), attention_scores)\n",
    "\n",
    "    def get_config(self):\n",
    "        config = super().get_config()\n",
    "        config.update(\n",
    "            {\n",
    "                \"key_dim\": self.key_dim,\n",
    "                \"embed_dim\": self.embed_dim,\n",
    "                \"num_heads\": self.num_heads,\n",
    "                \"ff_dim\": self.ff_dim,\n",
    "                \"dropout_rate\": self.dropout_rate,\n",
    "            }\n",
    "        )\n",
    "        return config"
   ]
  },
  {
   "cell_type": "markdown",
   "id": "076a6be0-9796-4974-9bcd-6ebbcfe7514e",
   "metadata": {
    "tags": []
   },
   "source": [
    "## 7. Create the Token and Position Embedding <a name=\"embedder\"></a>"
   ]
  },
  {
   "cell_type": "code",
   "execution_count": 22,
   "id": "fdf5cb25-88ae-4026-9e21-c1e6b5094a2c",
   "metadata": {},
   "outputs": [],
   "source": [
    "class TokenAndPositionEmbedding(layers.Layer):\n",
    "    def __init__(self, max_len, vocab_size, embed_dim):\n",
    "        super(TokenAndPositionEmbedding, self).__init__()\n",
    "        self.max_len = max_len\n",
    "        self.vocab_size = vocab_size\n",
    "        self.embed_dim = embed_dim\n",
    "        self.token_emb = layers.Embedding(\n",
    "            input_dim=vocab_size, output_dim=embed_dim\n",
    "        )\n",
    "        self.pos_emb = layers.Embedding(input_dim=max_len, output_dim=embed_dim)\n",
    "\n",
    "    def call(self, x):\n",
    "        maxlen = tf.shape(x)[-1]\n",
    "        positions = tf.range(start=0, limit=maxlen, delta=1)\n",
    "        positions = self.pos_emb(positions)\n",
    "        x = self.token_emb(x)\n",
    "        return x + positions\n",
    "\n",
    "    def get_config(self):\n",
    "        config = super().get_config()\n",
    "        config.update(\n",
    "            {\n",
    "                \"max_len\": self.max_len,\n",
    "                \"vocab_size\": self.vocab_size,\n",
    "                \"embed_dim\": self.embed_dim,\n",
    "            }\n",
    "        )\n",
    "        return config"
   ]
  },
  {
   "cell_type": "markdown",
   "id": "aac2e2d4-5980-47e3-b5b0-6c41c0c2d152",
   "metadata": {},
   "source": [
    "## 8. Build the Transformer model <a name=\"transformer_decoder\"></a>"
   ]
  },
  {
   "cell_type": "code",
   "execution_count": 23,
   "id": "8c57596e-e17d-4959-b6e8-7581b0bace3a",
   "metadata": {},
   "outputs": [],
   "source": [
    "inputs = layers.Input(shape=(None,), dtype=tf.int32)\n",
    "x = TokenAndPositionEmbedding(MAX_LEN, VOCAB_SIZE, EMBEDDING_DIM)(inputs)\n",
    "x, attention_scores = TransformerBlock(\n",
    "    N_HEADS, KEY_DIM, EMBEDDING_DIM, FEED_FORWARD_DIM\n",
    ")(x)\n",
    "outputs = layers.Dense(VOCAB_SIZE, activation=\"softmax\")(x)\n",
    "gpt = models.Model(inputs=inputs, outputs=[outputs, attention_scores])\n",
    "gpt.compile(\"adam\", loss=[losses.SparseCategoricalCrossentropy(), None])"
   ]
  },
  {
   "cell_type": "code",
   "execution_count": 24,
   "id": "1a1c3b0f-3382-444d-bb04-bae143ae5d61",
   "metadata": {},
   "outputs": [
    {
     "name": "stdout",
     "output_type": "stream",
     "text": [
      "Model: \"model\"\n",
      "_________________________________________________________________\n",
      " Layer (type)                Output Shape              Param #   \n",
      "=================================================================\n",
      " input_1 (InputLayer)        [(None, None)]            0         \n",
      "                                                                 \n",
      " token_and_position_embeddin  (None, None, 256)        2580480   \n",
      " g (TokenAndPositionEmbeddin                                     \n",
      " g)                                                              \n",
      "                                                                 \n",
      " transformer_block (Transfor  ((None, None, 256),      658688    \n",
      " merBlock)                    (None, 2, None, None))             \n",
      "                                                                 \n",
      " dense_2 (Dense)             (None, None, 10000)       2570000   \n",
      "                                                                 \n",
      "=================================================================\n",
      "Total params: 5,809,168\n",
      "Trainable params: 5,809,168\n",
      "Non-trainable params: 0\n",
      "_________________________________________________________________\n"
     ]
    }
   ],
   "source": [
    "gpt.summary()"
   ]
  },
  {
   "cell_type": "code",
   "execution_count": 25,
   "id": "800a3c6e-fb11-4792-b6bc-9a43a7c977ad",
   "metadata": {
    "tags": []
   },
   "outputs": [],
   "source": [
    "if LOAD_MODEL:\n",
    "    # model.load_weights('./models/model')\n",
    "    gpt = models.load_model(\"./models/gpt\", compile=True)"
   ]
  },
  {
   "cell_type": "markdown",
   "id": "35b14665-4359-447b-be58-3fd58ba69084",
   "metadata": {},
   "source": [
    "## 9. Train the Transformer <a name=\"train\"></a>"
   ]
  },
  {
   "cell_type": "code",
   "execution_count": 26,
   "id": "3ddcff5f-829d-4449-99d2-9a3cb68f7d72",
   "metadata": {},
   "outputs": [],
   "source": [
    "# Create a TextGenerator checkpoint\n",
    "class TextGenerator(callbacks.Callback):\n",
    "    def __init__(self, index_to_word, top_k=10):\n",
    "        self.index_to_word = index_to_word\n",
    "        self.word_to_index = {\n",
    "            word: index for index, word in enumerate(index_to_word)\n",
    "        }\n",
    "\n",
    "    def sample_from(self, probs, temperature):\n",
    "        probs = probs ** (1 / temperature)\n",
    "        probs = probs / np.sum(probs)\n",
    "        return np.random.choice(len(probs), p=probs), probs\n",
    "\n",
    "    def generate(self, start_prompt, max_tokens, temperature):\n",
    "        start_tokens = [\n",
    "            self.word_to_index.get(x, 1) for x in start_prompt.split()\n",
    "        ]\n",
    "        sample_token = None\n",
    "        info = []\n",
    "        while len(start_tokens) < max_tokens and sample_token != 0:\n",
    "            x = np.array([start_tokens])\n",
    "            y, att = self.model.predict(x, verbose=0)\n",
    "            sample_token, probs = self.sample_from(y[0][-1], temperature)\n",
    "            info.append(\n",
    "                {\n",
    "                    \"prompt\": start_prompt,\n",
    "                    \"word_probs\": probs,\n",
    "                    \"atts\": att[0, :, -1, :],\n",
    "                }\n",
    "            )\n",
    "            start_tokens.append(sample_token)\n",
    "            start_prompt = start_prompt + \" \" + self.index_to_word[sample_token]\n",
    "        print(f\"\\ngenerated text:\\n{start_prompt}\\n\")\n",
    "        return info\n",
    "\n",
    "    def on_epoch_end(self, epoch, logs=None):\n",
    "        self.generate(\"wine review\", max_tokens=80, temperature=1.0)"
   ]
  },
  {
   "cell_type": "code",
   "execution_count": 27,
   "id": "349865fe-ffbe-450e-97be-043ae1740e78",
   "metadata": {},
   "outputs": [],
   "source": [
    "# Create a model save checkpoint\n",
    "model_checkpoint_callback = callbacks.ModelCheckpoint(\n",
    "    filepath=\"./checkpoint/checkpoint.ckpt\",\n",
    "    save_weights_only=True,\n",
    "    save_freq=\"epoch\",\n",
    "    verbose=0,\n",
    ")\n",
    "\n",
    "tensorboard_callback = callbacks.TensorBoard(log_dir=\"./logs\")\n",
    "\n",
    "# Tokenize starting prompt\n",
    "text_generator = TextGenerator(vocab)"
   ]
  },
  {
   "cell_type": "code",
   "execution_count": 28,
   "id": "461c2b3e-b5ae-4def-8bd9-e7bab8c63d8e",
   "metadata": {
    "tags": []
   },
   "outputs": [
    {
     "name": "stdout",
     "output_type": "stream",
     "text": [
      "Epoch 1/5\n",
      "4060/4060 [==============================] - ETA: 0s - loss: 2.2599 - dense_2_loss: 2.2599     \n",
      "generated text:\n",
      "wine review : france : bordeaux : bordeaux - style red blend : 92 - 94 a blend of malbec , this wine is soft and rounded . cherry , full and ripe , it has forward fruit flavors on hints of spice and wood on the finish . it ' s attractive . \n",
      "\n",
      "4060/4060 [==============================] - 123s 30ms/step - loss: 2.2599 - dense_2_loss: 2.2599\n",
      "Epoch 2/5\n",
      "4060/4060 [==============================] - ETA: 0s - loss: 1.9654 - dense_2_loss: 1.9654  \n",
      "generated text:\n",
      "wine review : us : oregon : chenin blanc : awkward in tannic , this bright and fruity wine , with an emphasis on fruit flavors that include citrus rind and some chalk . not bordering on smoke , as much as fruit or some bitter bean . \n",
      "\n",
      "4060/4060 [==============================] - 121s 30ms/step - loss: 1.9654 - dense_2_loss: 1.9654\n",
      "Epoch 3/5\n",
      "4060/4060 [==============================] - ETA: 0s - loss: 1.8948 - dense_2_loss: 1.8948  \n",
      "generated text:\n",
      "wine review : argentina : mendoza province : malbec : opaque ruby colored oak , with herbal , mint and herb aromas . this feels wide and grabby , with points red plum and cherry flavors . a short finish with a bit oak twist and buttery oak [UNK] add down . \n",
      "\n",
      "4060/4060 [==============================] - 122s 30ms/step - loss: 1.8948 - dense_2_loss: 1.8948\n",
      "Epoch 4/5\n",
      "4060/4060 [==============================] - ETA: 0s - loss: 1.8523 - dense_2_loss: 1.8523  \n",
      "generated text:\n",
      "wine review : spain : catalonia : grenache : there ' s an at this high - elevation malbec and verdejo is tight with sharp acidity . dusty tannins and a slight burn , while spice and an overriding clover underlay of charred nose and controlled bitterness . bright and tangy , it ' s a finish for good but overall balance . \n",
      "\n",
      "4060/4060 [==============================] - 123s 30ms/step - loss: 1.8523 - dense_2_loss: 1.8523\n",
      "Epoch 5/5\n",
      "4059/4060 [============================>.] - ETA: 0s - loss: 1.8222 - dense_2_loss: 1.8222  \n",
      "generated text:\n",
      "wine review : us : oregon : pinot noir : pretty cherry fruit is set against the tannins love , but it is not simple or fancy , with nearly equal nuances of vanilla and smoke . \n",
      "\n",
      "4060/4060 [==============================] - 121s 30ms/step - loss: 1.8222 - dense_2_loss: 1.8222\n"
     ]
    },
    {
     "data": {
      "text/plain": [
       "<keras.callbacks.History at 0x2dca19b9490>"
      ]
     },
     "execution_count": 28,
     "metadata": {},
     "output_type": "execute_result"
    }
   ],
   "source": [
    "gpt.fit(\n",
    "    train_ds,\n",
    "    epochs=EPOCHS,\n",
    "    callbacks=[model_checkpoint_callback, tensorboard_callback, text_generator],\n",
    ")"
   ]
  },
  {
   "cell_type": "code",
   "execution_count": 29,
   "id": "369bde44-2e39-4bc6-8549-a3a27ecce55c",
   "metadata": {
    "tags": []
   },
   "outputs": [
    {
     "name": "stderr",
     "output_type": "stream",
     "text": [
      "WARNING:absl:Found untraced functions such as embedding_layer_call_fn, embedding_layer_call_and_return_conditional_losses, embedding_1_layer_call_fn, embedding_1_layer_call_and_return_conditional_losses, multi_head_attention_layer_call_fn while saving (showing 5 of 30). These functions will not be directly callable after loading.\n"
     ]
    },
    {
     "name": "stdout",
     "output_type": "stream",
     "text": [
      "INFO:tensorflow:Assets written to: ./models/gpt\\assets\n"
     ]
    },
    {
     "name": "stderr",
     "output_type": "stream",
     "text": [
      "INFO:tensorflow:Assets written to: ./models/gpt\\assets\n"
     ]
    }
   ],
   "source": [
    "# Save the final model\n",
    "gpt.save(\"./models/gpt\")"
   ]
  },
  {
   "cell_type": "markdown",
   "id": "d64e02d2-84dc-40c8-8446-40c09adf1e20",
   "metadata": {},
   "source": [
    "# 3. Generate text using the Transformer"
   ]
  },
  {
   "cell_type": "code",
   "execution_count": 30,
   "id": "4ad23adb-3ec9-4e9a-9a59-b9f9bafca649",
   "metadata": {},
   "outputs": [],
   "source": [
    "def print_probs(info, vocab, top_k=5):\n",
    "    for i in info:\n",
    "        highlighted_text = []\n",
    "        for word, att_score in zip(\n",
    "            i[\"prompt\"].split(), np.mean(i[\"atts\"], axis=0)\n",
    "        ):\n",
    "            highlighted_text.append(\n",
    "                '<span style=\"background-color:rgba(135,206,250,'\n",
    "                + str(att_score / max(np.mean(i[\"atts\"], axis=0)))\n",
    "                + ');\">'\n",
    "                + word\n",
    "                + \"</span>\"\n",
    "            )\n",
    "        highlighted_text = \" \".join(highlighted_text)\n",
    "        display(HTML(highlighted_text))\n",
    "\n",
    "        word_probs = i[\"word_probs\"]\n",
    "        p_sorted = np.sort(word_probs)[::-1][:top_k]\n",
    "        i_sorted = np.argsort(word_probs)[::-1][:top_k]\n",
    "        for p, i in zip(p_sorted, i_sorted):\n",
    "            print(f\"{vocab[i]}:   \\t{np.round(100*p,2)}%\")\n",
    "        print(\"--------\\n\")"
   ]
  },
  {
   "cell_type": "code",
   "execution_count": 31,
   "id": "3cf25578-d47c-4b26-8252-fcdf2316a4ac",
   "metadata": {},
   "outputs": [
    {
     "name": "stdout",
     "output_type": "stream",
     "text": [
      "\n",
      "generated text:\n",
      "wine review : us : california : rh ? ne - style red blend : [UNK] [UNK] ii is comprised of sangiovese forest floor , blue plum and currant , and dried plum skins aromas and flavors that finish baked into a very solid tannic backbone . drink now . \n",
      "\n"
     ]
    }
   ],
   "source": [
    "info = text_generator.generate(\n",
    "    \"wine review : us\", max_tokens=80, temperature=1.0\n",
    ")"
   ]
  },
  {
   "cell_type": "code",
   "execution_count": 32,
   "id": "4ae2da8e-9b7c-4b71-b37b-021115b3d7ea",
   "metadata": {},
   "outputs": [
    {
     "name": "stdout",
     "output_type": "stream",
     "text": [
      "\n",
      "generated text:\n",
      "wine review : italy : tuscany : sangiovese grosso : there ' s a touch of spice and dried fruit here . the wine has a tight , compact feel in the mouth with a bright , streamlined feel and bright acidity . \n",
      "\n"
     ]
    }
   ],
   "source": [
    "info = text_generator.generate(\n",
    "    \"wine review : italy\", max_tokens=80, temperature=0.5\n",
    ")"
   ]
  },
  {
   "cell_type": "code",
   "execution_count": 33,
   "id": "5cae6d5d-263d-4455-b96c-f315cbe284ee",
   "metadata": {
    "scrolled": true
   },
   "outputs": [
    {
     "name": "stdout",
     "output_type": "stream",
     "text": [
      "\n",
      "generated text:\n",
      "wine review : germany : mosel : riesling : a touch of smoke lends complexity to this dry riesling . it ' s a delicately framed riesling , with a delicate hint of petrol . it ' s a waxy , racy wine , with a delicate , ethereal expression of the mosel riesling that ' s penetrating on the palate , with a long , lingering finish . \n",
      "\n"
     ]
    },
    {
     "data": {
      "text/html": [
       "<span style=\"background-color:rgba(135,206,250,0.9718733);\">wine</span> <span style=\"background-color:rgba(135,206,250,1.0);\">review</span> <span style=\"background-color:rgba(135,206,250,0.5438698);\">:</span> <span style=\"background-color:rgba(135,206,250,0.31075364);\">germany</span>"
      ],
      "text/plain": [
       "<IPython.core.display.HTML object>"
      ]
     },
     "metadata": {},
     "output_type": "display_data"
    },
    {
     "name": "stdout",
     "output_type": "stream",
     "text": [
      "::   \t100.0%\n",
      "zealand:   \t0.0%\n",
      "grosso:   \t0.0%\n",
      "-:   \t0.0%\n",
      "africa:   \t0.0%\n",
      "--------\n",
      "\n"
     ]
    },
    {
     "data": {
      "text/html": [
       "<span style=\"background-color:rgba(135,206,250,0.33570173);\">wine</span> <span style=\"background-color:rgba(135,206,250,0.384054);\">review</span> <span style=\"background-color:rgba(135,206,250,0.61575603);\">:</span> <span style=\"background-color:rgba(135,206,250,1.0);\">germany</span> <span style=\"background-color:rgba(135,206,250,0.33349714);\">:</span>"
      ],
      "text/plain": [
       "<IPython.core.display.HTML object>"
      ]
     },
     "metadata": {},
     "output_type": "display_data"
    },
    {
     "name": "stdout",
     "output_type": "stream",
     "text": [
      "mosel:   \t87.41%\n",
      "rheingau:   \t5.61%\n",
      "rheinhessen:   \t5.44%\n",
      "pfalz:   \t0.97%\n",
      "nahe:   \t0.55%\n",
      "--------\n",
      "\n"
     ]
    },
    {
     "data": {
      "text/html": [
       "<span style=\"background-color:rgba(135,206,250,1.0);\">wine</span> <span style=\"background-color:rgba(135,206,250,0.7640779);\">review</span> <span style=\"background-color:rgba(135,206,250,0.33695444);\">:</span> <span style=\"background-color:rgba(135,206,250,0.15214351);\">germany</span> <span style=\"background-color:rgba(135,206,250,0.69996893);\">:</span> <span style=\"background-color:rgba(135,206,250,0.13719204);\">mosel</span>"
      ],
      "text/plain": [
       "<IPython.core.display.HTML object>"
      ]
     },
     "metadata": {},
     "output_type": "display_data"
    },
    {
     "name": "stdout",
     "output_type": "stream",
     "text": [
      "::   \t98.12%\n",
      "-:   \t1.88%\n",
      "in:   \t0.0%\n",
      "and:   \t0.0%\n",
      ".:   \t0.0%\n",
      "--------\n",
      "\n"
     ]
    },
    {
     "data": {
      "text/html": [
       "<span style=\"background-color:rgba(135,206,250,0.28780872);\">wine</span> <span style=\"background-color:rgba(135,206,250,0.22866735);\">review</span> <span style=\"background-color:rgba(135,206,250,0.2250116);\">:</span> <span style=\"background-color:rgba(135,206,250,0.37074703);\">germany</span> <span style=\"background-color:rgba(135,206,250,0.20147707);\">:</span> <span style=\"background-color:rgba(135,206,250,1.0);\">mosel</span> <span style=\"background-color:rgba(135,206,250,0.17700715);\">:</span>"
      ],
      "text/plain": [
       "<IPython.core.display.HTML object>"
      ]
     },
     "metadata": {},
     "output_type": "display_data"
    },
    {
     "name": "stdout",
     "output_type": "stream",
     "text": [
      "riesling:   \t100.0%\n",
      "pinot:   \t0.0%\n",
      "white:   \t0.0%\n",
      "ros:   \t0.0%\n",
      "gr:   \t0.0%\n",
      "--------\n",
      "\n"
     ]
    },
    {
     "data": {
      "text/html": [
       "<span style=\"background-color:rgba(135,206,250,1.0);\">wine</span> <span style=\"background-color:rgba(135,206,250,0.91696936);\">review</span> <span style=\"background-color:rgba(135,206,250,0.36002082);\">:</span> <span style=\"background-color:rgba(135,206,250,0.18135548);\">germany</span> <span style=\"background-color:rgba(135,206,250,0.5721131);\">:</span> <span style=\"background-color:rgba(135,206,250,0.31377953);\">mosel</span> <span style=\"background-color:rgba(135,206,250,0.4640014);\">:</span> <span style=\"background-color:rgba(135,206,250,0.12720276);\">riesling</span>"
      ],
      "text/plain": [
       "<IPython.core.display.HTML object>"
      ]
     },
     "metadata": {},
     "output_type": "display_data"
    },
    {
     "name": "stdout",
     "output_type": "stream",
     "text": [
      "::   \t100.0%\n",
      "-:   \t0.0%\n",
      "grosso:   \t0.0%\n",
      "blanc:   \t0.0%\n",
      "?:   \t0.0%\n",
      "--------\n",
      "\n"
     ]
    },
    {
     "data": {
      "text/html": [
       "<span style=\"background-color:rgba(135,206,250,0.62127006);\">wine</span> <span style=\"background-color:rgba(135,206,250,0.484112);\">review</span> <span style=\"background-color:rgba(135,206,250,0.39407372);\">:</span> <span style=\"background-color:rgba(135,206,250,0.51769245);\">germany</span> <span style=\"background-color:rgba(135,206,250,0.4734629);\">:</span> <span style=\"background-color:rgba(135,206,250,1.0);\">mosel</span> <span style=\"background-color:rgba(135,206,250,0.48272786);\">:</span> <span style=\"background-color:rgba(135,206,250,0.63530797);\">riesling</span> <span style=\"background-color:rgba(135,206,250,0.51354665);\">:</span>"
      ],
      "text/plain": [
       "<IPython.core.display.HTML object>"
      ]
     },
     "metadata": {},
     "output_type": "display_data"
    },
    {
     "name": "stdout",
     "output_type": "stream",
     "text": [
      "while:   \t38.26%\n",
      "a:   \t12.63%\n",
      "this:   \t9.39%\n",
      "dusty:   \t5.21%\n",
      "fresh:   \t4.92%\n",
      "--------\n",
      "\n"
     ]
    },
    {
     "data": {
      "text/html": [
       "<span style=\"background-color:rgba(135,206,250,1.0);\">wine</span> <span style=\"background-color:rgba(135,206,250,0.8681202);\">review</span> <span style=\"background-color:rgba(135,206,250,0.3676503);\">:</span> <span style=\"background-color:rgba(135,206,250,0.48870635);\">germany</span> <span style=\"background-color:rgba(135,206,250,0.37206);\">:</span> <span style=\"background-color:rgba(135,206,250,0.7071433);\">mosel</span> <span style=\"background-color:rgba(135,206,250,0.3183605);\">:</span> <span style=\"background-color:rgba(135,206,250,0.58837575);\">riesling</span> <span style=\"background-color:rgba(135,206,250,0.59589964);\">:</span> <span style=\"background-color:rgba(135,206,250,0.36566573);\">a</span>"
      ],
      "text/plain": [
       "<IPython.core.display.HTML object>"
      ]
     },
     "metadata": {},
     "output_type": "display_data"
    },
    {
     "name": "stdout",
     "output_type": "stream",
     "text": [
      "whiff:   \t28.26%\n",
      "bit:   \t16.01%\n",
      "hint:   \t13.51%\n",
      "crush:   \t10.97%\n",
      "wisp:   \t10.34%\n",
      "--------\n",
      "\n"
     ]
    },
    {
     "data": {
      "text/html": [
       "<span style=\"background-color:rgba(135,206,250,1.0);\">wine</span> <span style=\"background-color:rgba(135,206,250,0.9594947);\">review</span> <span style=\"background-color:rgba(135,206,250,0.48672625);\">:</span> <span style=\"background-color:rgba(135,206,250,0.34135264);\">germany</span> <span style=\"background-color:rgba(135,206,250,0.6297181);\">:</span> <span style=\"background-color:rgba(135,206,250,0.35558343);\">mosel</span> <span style=\"background-color:rgba(135,206,250,0.35990888);\">:</span> <span style=\"background-color:rgba(135,206,250,0.3999413);\">riesling</span> <span style=\"background-color:rgba(135,206,250,0.63025004);\">:</span> <span style=\"background-color:rgba(135,206,250,0.5341722);\">a</span> <span style=\"background-color:rgba(135,206,250,0.35841602);\">touch</span>"
      ],
      "text/plain": [
       "<IPython.core.display.HTML object>"
      ]
     },
     "metadata": {},
     "output_type": "display_data"
    },
    {
     "name": "stdout",
     "output_type": "stream",
     "text": [
      "of:   \t100.0%\n",
      "[UNK]:   \t0.0%\n",
      "on:   \t0.0%\n",
      "off:   \t0.0%\n",
      "weightier:   \t0.0%\n",
      "--------\n",
      "\n"
     ]
    },
    {
     "data": {
      "text/html": [
       "<span style=\"background-color:rgba(135,206,250,0.5673854);\">wine</span> <span style=\"background-color:rgba(135,206,250,0.38446593);\">review</span> <span style=\"background-color:rgba(135,206,250,0.29324928);\">:</span> <span style=\"background-color:rgba(135,206,250,0.33961073);\">germany</span> <span style=\"background-color:rgba(135,206,250,0.26995113);\">:</span> <span style=\"background-color:rgba(135,206,250,0.5068766);\">mosel</span> <span style=\"background-color:rgba(135,206,250,0.2880015);\">:</span> <span style=\"background-color:rgba(135,206,250,0.3947756);\">riesling</span> <span style=\"background-color:rgba(135,206,250,0.30140278);\">:</span> <span style=\"background-color:rgba(135,206,250,0.5339057);\">a</span> <span style=\"background-color:rgba(135,206,250,1.0);\">touch</span> <span style=\"background-color:rgba(135,206,250,0.224847);\">of</span>"
      ],
      "text/plain": [
       "<IPython.core.display.HTML object>"
      ]
     },
     "metadata": {},
     "output_type": "display_data"
    },
    {
     "name": "stdout",
     "output_type": "stream",
     "text": [
      "smoke:   \t42.42%\n",
      "honey:   \t25.23%\n",
      "sweet:   \t10.93%\n",
      "saffron:   \t6.32%\n",
      "petrol:   \t1.65%\n",
      "--------\n",
      "\n"
     ]
    },
    {
     "data": {
      "text/html": [
       "<span style=\"background-color:rgba(135,206,250,0.81347597);\">wine</span> <span style=\"background-color:rgba(135,206,250,0.73903227);\">review</span> <span style=\"background-color:rgba(135,206,250,0.29347113);\">:</span> <span style=\"background-color:rgba(135,206,250,0.43057433);\">germany</span> <span style=\"background-color:rgba(135,206,250,0.3055605);\">:</span> <span style=\"background-color:rgba(135,206,250,0.19193128);\">mosel</span> <span style=\"background-color:rgba(135,206,250,0.31914908);\">:</span> <span style=\"background-color:rgba(135,206,250,0.17276087);\">riesling</span> <span style=\"background-color:rgba(135,206,250,0.43227977);\">:</span> <span style=\"background-color:rgba(135,206,250,0.6877256);\">a</span> <span style=\"background-color:rgba(135,206,250,1.0);\">touch</span> <span style=\"background-color:rgba(135,206,250,0.8047822);\">of</span> <span style=\"background-color:rgba(135,206,250,0.4671954);\">smoke</span>"
      ],
      "text/plain": [
       "<IPython.core.display.HTML object>"
      ]
     },
     "metadata": {},
     "output_type": "display_data"
    },
    {
     "name": "stdout",
     "output_type": "stream",
     "text": [
      "lends:   \t56.96%\n",
      "and:   \t40.13%\n",
      "in:   \t0.95%\n",
      ",:   \t0.77%\n",
      "on:   \t0.36%\n",
      "--------\n",
      "\n"
     ]
    },
    {
     "data": {
      "text/html": [
       "<span style=\"background-color:rgba(135,206,250,0.92685455);\">wine</span> <span style=\"background-color:rgba(135,206,250,1.0);\">review</span> <span style=\"background-color:rgba(135,206,250,0.5103549);\">:</span> <span style=\"background-color:rgba(135,206,250,0.39699912);\">germany</span> <span style=\"background-color:rgba(135,206,250,0.5762051);\">:</span> <span style=\"background-color:rgba(135,206,250,0.3956125);\">mosel</span> <span style=\"background-color:rgba(135,206,250,0.3513056);\">:</span> <span style=\"background-color:rgba(135,206,250,0.33559114);\">riesling</span> <span style=\"background-color:rgba(135,206,250,0.3660346);\">:</span> <span style=\"background-color:rgba(135,206,250,0.34174997);\">a</span> <span style=\"background-color:rgba(135,206,250,0.4700088);\">touch</span> <span style=\"background-color:rgba(135,206,250,0.35394374);\">of</span> <span style=\"background-color:rgba(135,206,250,0.82214326);\">smoke</span> <span style=\"background-color:rgba(135,206,250,0.48712638);\">lends</span>"
      ],
      "text/plain": [
       "<IPython.core.display.HTML object>"
      ]
     },
     "metadata": {},
     "output_type": "display_data"
    },
    {
     "name": "stdout",
     "output_type": "stream",
     "text": [
      "a:   \t36.13%\n",
      "nuance:   \t29.6%\n",
      "complexity:   \t25.49%\n",
      "elegance:   \t1.63%\n",
      "freshness:   \t1.35%\n",
      "--------\n",
      "\n"
     ]
    },
    {
     "data": {
      "text/html": [
       "<span style=\"background-color:rgba(135,206,250,0.2928973);\">wine</span> <span style=\"background-color:rgba(135,206,250,0.3193065);\">review</span> <span style=\"background-color:rgba(135,206,250,0.15342541);\">:</span> <span style=\"background-color:rgba(135,206,250,0.16279638);\">germany</span> <span style=\"background-color:rgba(135,206,250,0.19158074);\">:</span> <span style=\"background-color:rgba(135,206,250,0.10878204);\">mosel</span> <span style=\"background-color:rgba(135,206,250,0.13404112);\">:</span> <span style=\"background-color:rgba(135,206,250,0.08661167);\">riesling</span> <span style=\"background-color:rgba(135,206,250,0.17979208);\">:</span> <span style=\"background-color:rgba(135,206,250,0.17200927);\">a</span> <span style=\"background-color:rgba(135,206,250,0.1938385);\">touch</span> <span style=\"background-color:rgba(135,206,250,0.19094718);\">of</span> <span style=\"background-color:rgba(135,206,250,0.17339891);\">smoke</span> <span style=\"background-color:rgba(135,206,250,1.0);\">lends</span> <span style=\"background-color:rgba(135,206,250,0.21710514);\">complexity</span>"
      ],
      "text/plain": [
       "<IPython.core.display.HTML object>"
      ]
     },
     "metadata": {},
     "output_type": "display_data"
    },
    {
     "name": "stdout",
     "output_type": "stream",
     "text": [
      "to:   \t99.87%\n",
      "and:   \t0.07%\n",
      "on:   \t0.04%\n",
      "in:   \t0.01%\n",
      ",:   \t0.0%\n",
      "--------\n",
      "\n"
     ]
    },
    {
     "data": {
      "text/html": [
       "<span style=\"background-color:rgba(135,206,250,0.20863439);\">wine</span> <span style=\"background-color:rgba(135,206,250,0.22129165);\">review</span> <span style=\"background-color:rgba(135,206,250,0.123889595);\">:</span> <span style=\"background-color:rgba(135,206,250,0.1750126);\">germany</span> <span style=\"background-color:rgba(135,206,250,0.11852411);\">:</span> <span style=\"background-color:rgba(135,206,250,0.16042906);\">mosel</span> <span style=\"background-color:rgba(135,206,250,0.077466354);\">:</span> <span style=\"background-color:rgba(135,206,250,0.15854461);\">riesling</span> <span style=\"background-color:rgba(135,206,250,0.106556274);\">:</span> <span style=\"background-color:rgba(135,206,250,0.104475476);\">a</span> <span style=\"background-color:rgba(135,206,250,0.16975391);\">touch</span> <span style=\"background-color:rgba(135,206,250,0.11665959);\">of</span> <span style=\"background-color:rgba(135,206,250,0.15851337);\">smoke</span> <span style=\"background-color:rgba(135,206,250,1.0);\">lends</span> <span style=\"background-color:rgba(135,206,250,0.47144663);\">complexity</span> <span style=\"background-color:rgba(135,206,250,0.1169733);\">to</span>"
      ],
      "text/plain": [
       "<IPython.core.display.HTML object>"
      ]
     },
     "metadata": {},
     "output_type": "display_data"
    },
    {
     "name": "stdout",
     "output_type": "stream",
     "text": [
      "this:   \t98.48%\n",
      "the:   \t0.84%\n",
      "a:   \t0.5%\n",
      "fresh:   \t0.07%\n",
      "an:   \t0.02%\n",
      "--------\n",
      "\n"
     ]
    },
    {
     "data": {
      "text/html": [
       "<span style=\"background-color:rgba(135,206,250,0.534447);\">wine</span> <span style=\"background-color:rgba(135,206,250,0.8894642);\">review</span> <span style=\"background-color:rgba(135,206,250,0.40907913);\">:</span> <span style=\"background-color:rgba(135,206,250,0.84258705);\">germany</span> <span style=\"background-color:rgba(135,206,250,0.44998002);\">:</span> <span style=\"background-color:rgba(135,206,250,0.73641485);\">mosel</span> <span style=\"background-color:rgba(135,206,250,0.2669894);\">:</span> <span style=\"background-color:rgba(135,206,250,0.8412344);\">riesling</span> <span style=\"background-color:rgba(135,206,250,0.4128774);\">:</span> <span style=\"background-color:rgba(135,206,250,0.3200149);\">a</span> <span style=\"background-color:rgba(135,206,250,0.41618633);\">touch</span> <span style=\"background-color:rgba(135,206,250,0.31457087);\">of</span> <span style=\"background-color:rgba(135,206,250,0.48830938);\">smoke</span> <span style=\"background-color:rgba(135,206,250,1.0);\">lends</span> <span style=\"background-color:rgba(135,206,250,0.8961624);\">complexity</span> <span style=\"background-color:rgba(135,206,250,0.9751561);\">to</span> <span style=\"background-color:rgba(135,206,250,0.38764873);\">this</span>"
      ],
      "text/plain": [
       "<IPython.core.display.HTML object>"
      ]
     },
     "metadata": {},
     "output_type": "display_data"
    },
    {
     "name": "stdout",
     "output_type": "stream",
     "text": [
      "dry:   \t34.77%\n",
      "off:   \t26.23%\n",
      "gorgeously:   \t6.5%\n",
      "sweet:   \t6.39%\n",
      "elegant:   \t2.94%\n",
      "--------\n",
      "\n"
     ]
    },
    {
     "data": {
      "text/html": [
       "<span style=\"background-color:rgba(135,206,250,0.29420087);\">wine</span> <span style=\"background-color:rgba(135,206,250,0.3589291);\">review</span> <span style=\"background-color:rgba(135,206,250,0.23061742);\">:</span> <span style=\"background-color:rgba(135,206,250,0.31015968);\">germany</span> <span style=\"background-color:rgba(135,206,250,0.2499356);\">:</span> <span style=\"background-color:rgba(135,206,250,0.28812996);\">mosel</span> <span style=\"background-color:rgba(135,206,250,0.19084576);\">:</span> <span style=\"background-color:rgba(135,206,250,0.5677716);\">riesling</span> <span style=\"background-color:rgba(135,206,250,0.27375856);\">:</span> <span style=\"background-color:rgba(135,206,250,0.21434118);\">a</span> <span style=\"background-color:rgba(135,206,250,0.34837237);\">touch</span> <span style=\"background-color:rgba(135,206,250,0.21213913);\">of</span> <span style=\"background-color:rgba(135,206,250,0.23552148);\">smoke</span> <span style=\"background-color:rgba(135,206,250,0.81635225);\">lends</span> <span style=\"background-color:rgba(135,206,250,0.4441961);\">complexity</span> <span style=\"background-color:rgba(135,206,250,0.60418576);\">to</span> <span style=\"background-color:rgba(135,206,250,1.0);\">this</span> <span style=\"background-color:rgba(135,206,250,0.27554533);\">dry</span>"
      ],
      "text/plain": [
       "<IPython.core.display.HTML object>"
      ]
     },
     "metadata": {},
     "output_type": "display_data"
    },
    {
     "name": "stdout",
     "output_type": "stream",
     "text": [
      "riesling:   \t64.34%\n",
      ",:   \t35.2%\n",
      "wine:   \t0.29%\n",
      "white:   \t0.08%\n",
      "and:   \t0.05%\n",
      "--------\n",
      "\n"
     ]
    },
    {
     "data": {
      "text/html": [
       "<span style=\"background-color:rgba(135,206,250,0.3835852);\">wine</span> <span style=\"background-color:rgba(135,206,250,0.6912144);\">review</span> <span style=\"background-color:rgba(135,206,250,0.20196341);\">:</span> <span style=\"background-color:rgba(135,206,250,0.18518455);\">germany</span> <span style=\"background-color:rgba(135,206,250,0.27667952);\">:</span> <span style=\"background-color:rgba(135,206,250,0.1245072);\">mosel</span> <span style=\"background-color:rgba(135,206,250,0.20173971);\">:</span> <span style=\"background-color:rgba(135,206,250,0.11130143);\">riesling</span> <span style=\"background-color:rgba(135,206,250,0.2847213);\">:</span> <span style=\"background-color:rgba(135,206,250,0.3934489);\">a</span> <span style=\"background-color:rgba(135,206,250,0.2632037);\">touch</span> <span style=\"background-color:rgba(135,206,250,0.20483474);\">of</span> <span style=\"background-color:rgba(135,206,250,0.13535117);\">smoke</span> <span style=\"background-color:rgba(135,206,250,1.0);\">lends</span> <span style=\"background-color:rgba(135,206,250,0.38664556);\">complexity</span> <span style=\"background-color:rgba(135,206,250,0.68466234);\">to</span> <span style=\"background-color:rgba(135,206,250,0.6453072);\">this</span> <span style=\"background-color:rgba(135,206,250,0.38636208);\">dry</span> <span style=\"background-color:rgba(135,206,250,0.2857531);\">riesling</span>"
      ],
      "text/plain": [
       "<IPython.core.display.HTML object>"
      ]
     },
     "metadata": {},
     "output_type": "display_data"
    },
    {
     "name": "stdout",
     "output_type": "stream",
     "text": [
      ".:   \t62.29%\n",
      ",:   \t35.7%\n",
      "full:   \t0.82%\n",
      "that:   \t0.72%\n",
      "':   \t0.12%\n",
      "--------\n",
      "\n"
     ]
    },
    {
     "data": {
      "text/html": [
       "<span style=\"background-color:rgba(135,206,250,0.5296132);\">wine</span> <span style=\"background-color:rgba(135,206,250,0.73719454);\">review</span> <span style=\"background-color:rgba(135,206,250,0.3055812);\">:</span> <span style=\"background-color:rgba(135,206,250,0.5472375);\">germany</span> <span style=\"background-color:rgba(135,206,250,1.0);\">:</span> <span style=\"background-color:rgba(135,206,250,0.5856644);\">mosel</span> <span style=\"background-color:rgba(135,206,250,0.3550136);\">:</span> <span style=\"background-color:rgba(135,206,250,0.540494);\">riesling</span> <span style=\"background-color:rgba(135,206,250,0.41801232);\">:</span> <span style=\"background-color:rgba(135,206,250,0.25121257);\">a</span> <span style=\"background-color:rgba(135,206,250,0.28415745);\">touch</span> <span style=\"background-color:rgba(135,206,250,0.23058999);\">of</span> <span style=\"background-color:rgba(135,206,250,0.26997387);\">smoke</span> <span style=\"background-color:rgba(135,206,250,0.60444593);\">lends</span> <span style=\"background-color:rgba(135,206,250,0.49905112);\">complexity</span> <span style=\"background-color:rgba(135,206,250,0.29609916);\">to</span> <span style=\"background-color:rgba(135,206,250,0.57497907);\">this</span> <span style=\"background-color:rgba(135,206,250,0.5183289);\">dry</span> <span style=\"background-color:rgba(135,206,250,0.8599059);\">riesling</span> <span style=\"background-color:rgba(135,206,250,0.6724955);\">.</span>"
      ],
      "text/plain": [
       "<IPython.core.display.HTML object>"
      ]
     },
     "metadata": {},
     "output_type": "display_data"
    },
    {
     "name": "stdout",
     "output_type": "stream",
     "text": [
      "it:   \t89.73%\n",
      "the:   \t6.38%\n",
      "fresh:   \t0.91%\n",
      "sweet:   \t0.47%\n",
      "this:   \t0.32%\n",
      "--------\n",
      "\n"
     ]
    },
    {
     "data": {
      "text/html": [
       "<span style=\"background-color:rgba(135,206,250,0.11838914);\">wine</span> <span style=\"background-color:rgba(135,206,250,0.21604097);\">review</span> <span style=\"background-color:rgba(135,206,250,0.2048887);\">:</span> <span style=\"background-color:rgba(135,206,250,0.33012742);\">germany</span> <span style=\"background-color:rgba(135,206,250,0.09215865);\">:</span> <span style=\"background-color:rgba(135,206,250,0.16761465);\">mosel</span> <span style=\"background-color:rgba(135,206,250,0.07722524);\">:</span> <span style=\"background-color:rgba(135,206,250,0.10866452);\">riesling</span> <span style=\"background-color:rgba(135,206,250,0.1176782);\">:</span> <span style=\"background-color:rgba(135,206,250,0.050287243);\">a</span> <span style=\"background-color:rgba(135,206,250,0.09486175);\">touch</span> <span style=\"background-color:rgba(135,206,250,0.058792703);\">of</span> <span style=\"background-color:rgba(135,206,250,0.08208919);\">smoke</span> <span style=\"background-color:rgba(135,206,250,0.2136811);\">lends</span> <span style=\"background-color:rgba(135,206,250,0.1330767);\">complexity</span> <span style=\"background-color:rgba(135,206,250,0.14834523);\">to</span> <span style=\"background-color:rgba(135,206,250,0.087049544);\">this</span> <span style=\"background-color:rgba(135,206,250,0.19456056);\">dry</span> <span style=\"background-color:rgba(135,206,250,0.2170908);\">riesling</span> <span style=\"background-color:rgba(135,206,250,1.0);\">.</span> <span style=\"background-color:rgba(135,206,250,0.18293928);\">it</span>"
      ],
      "text/plain": [
       "<IPython.core.display.HTML object>"
      ]
     },
     "metadata": {},
     "output_type": "display_data"
    },
    {
     "name": "stdout",
     "output_type": "stream",
     "text": [
      "':   \t99.99%\n",
      "is:   \t0.01%\n",
      "has:   \t0.0%\n",
      "balances:   \t0.0%\n",
      "starts:   \t0.0%\n",
      "--------\n",
      "\n"
     ]
    },
    {
     "data": {
      "text/html": [
       "<span style=\"background-color:rgba(135,206,250,0.1929306);\">wine</span> <span style=\"background-color:rgba(135,206,250,0.27149);\">review</span> <span style=\"background-color:rgba(135,206,250,0.1442728);\">:</span> <span style=\"background-color:rgba(135,206,250,0.13343467);\">germany</span> <span style=\"background-color:rgba(135,206,250,0.15968068);\">:</span> <span style=\"background-color:rgba(135,206,250,0.13026762);\">mosel</span> <span style=\"background-color:rgba(135,206,250,0.09789124);\">:</span> <span style=\"background-color:rgba(135,206,250,0.1678387);\">riesling</span> <span style=\"background-color:rgba(135,206,250,0.12669988);\">:</span> <span style=\"background-color:rgba(135,206,250,0.103358746);\">a</span> <span style=\"background-color:rgba(135,206,250,0.098672815);\">touch</span> <span style=\"background-color:rgba(135,206,250,0.07654574);\">of</span> <span style=\"background-color:rgba(135,206,250,0.08232969);\">smoke</span> <span style=\"background-color:rgba(135,206,250,0.18128681);\">lends</span> <span style=\"background-color:rgba(135,206,250,0.12543958);\">complexity</span> <span style=\"background-color:rgba(135,206,250,0.12571944);\">to</span> <span style=\"background-color:rgba(135,206,250,0.18306199);\">this</span> <span style=\"background-color:rgba(135,206,250,0.14547357);\">dry</span> <span style=\"background-color:rgba(135,206,250,0.31515607);\">riesling</span> <span style=\"background-color:rgba(135,206,250,0.87600654);\">.</span> <span style=\"background-color:rgba(135,206,250,1.0);\">it</span> <span style=\"background-color:rgba(135,206,250,0.21381514);\">'</span>"
      ],
      "text/plain": [
       "<IPython.core.display.HTML object>"
      ]
     },
     "metadata": {},
     "output_type": "display_data"
    },
    {
     "name": "stdout",
     "output_type": "stream",
     "text": [
      "s:   \t100.0%\n",
      "ll:   \t0.0%\n",
      "[UNK]:   \t0.0%\n",
      "11:   \t0.0%\n",
      "d:   \t0.0%\n",
      "--------\n",
      "\n"
     ]
    },
    {
     "data": {
      "text/html": [
       "<span style=\"background-color:rgba(135,206,250,0.18280707);\">wine</span> <span style=\"background-color:rgba(135,206,250,0.32243252);\">review</span> <span style=\"background-color:rgba(135,206,250,0.2076863);\">:</span> <span style=\"background-color:rgba(135,206,250,0.2822355);\">germany</span> <span style=\"background-color:rgba(135,206,250,0.14070028);\">:</span> <span style=\"background-color:rgba(135,206,250,0.21258831);\">mosel</span> <span style=\"background-color:rgba(135,206,250,0.09483681);\">:</span> <span style=\"background-color:rgba(135,206,250,0.2779666);\">riesling</span> <span style=\"background-color:rgba(135,206,250,0.17290539);\">:</span> <span style=\"background-color:rgba(135,206,250,0.07154449);\">a</span> <span style=\"background-color:rgba(135,206,250,0.11026376);\">touch</span> <span style=\"background-color:rgba(135,206,250,0.071414836);\">of</span> <span style=\"background-color:rgba(135,206,250,0.09342813);\">smoke</span> <span style=\"background-color:rgba(135,206,250,0.20406824);\">lends</span> <span style=\"background-color:rgba(135,206,250,0.16588491);\">complexity</span> <span style=\"background-color:rgba(135,206,250,0.12152668);\">to</span> <span style=\"background-color:rgba(135,206,250,0.14655943);\">this</span> <span style=\"background-color:rgba(135,206,250,0.2515868);\">dry</span> <span style=\"background-color:rgba(135,206,250,0.3285667);\">riesling</span> <span style=\"background-color:rgba(135,206,250,1.0);\">.</span> <span style=\"background-color:rgba(135,206,250,0.76237994);\">it</span> <span style=\"background-color:rgba(135,206,250,0.25395262);\">'</span> <span style=\"background-color:rgba(135,206,250,0.20907228);\">s</span>"
      ],
      "text/plain": [
       "<IPython.core.display.HTML object>"
      ]
     },
     "metadata": {},
     "output_type": "display_data"
    },
    {
     "name": "stdout",
     "output_type": "stream",
     "text": [
      "a:   \t57.2%\n",
      "full:   \t9.53%\n",
      "straightforward:   \t4.09%\n",
      "light:   \t2.4%\n",
      "dry:   \t2.39%\n",
      "--------\n",
      "\n"
     ]
    },
    {
     "data": {
      "text/html": [
       "<span style=\"background-color:rgba(135,206,250,0.23087554);\">wine</span> <span style=\"background-color:rgba(135,206,250,0.35262328);\">review</span> <span style=\"background-color:rgba(135,206,250,0.22843292);\">:</span> <span style=\"background-color:rgba(135,206,250,0.45163155);\">germany</span> <span style=\"background-color:rgba(135,206,250,0.1419854);\">:</span> <span style=\"background-color:rgba(135,206,250,0.37246943);\">mosel</span> <span style=\"background-color:rgba(135,206,250,0.10611988);\">:</span> <span style=\"background-color:rgba(135,206,250,0.36814004);\">riesling</span> <span style=\"background-color:rgba(135,206,250,0.19512926);\">:</span> <span style=\"background-color:rgba(135,206,250,0.0630493);\">a</span> <span style=\"background-color:rgba(135,206,250,0.12637725);\">touch</span> <span style=\"background-color:rgba(135,206,250,0.0858268);\">of</span> <span style=\"background-color:rgba(135,206,250,0.13385214);\">smoke</span> <span style=\"background-color:rgba(135,206,250,0.19051729);\">lends</span> <span style=\"background-color:rgba(135,206,250,0.21333846);\">complexity</span> <span style=\"background-color:rgba(135,206,250,0.14827943);\">to</span> <span style=\"background-color:rgba(135,206,250,0.19266303);\">this</span> <span style=\"background-color:rgba(135,206,250,0.28712052);\">dry</span> <span style=\"background-color:rgba(135,206,250,0.47768068);\">riesling</span> <span style=\"background-color:rgba(135,206,250,1.0);\">.</span> <span style=\"background-color:rgba(135,206,250,0.6085772);\">it</span> <span style=\"background-color:rgba(135,206,250,0.16266839);\">'</span> <span style=\"background-color:rgba(135,206,250,0.90619993);\">s</span> <span style=\"background-color:rgba(135,206,250,0.40261564);\">a</span>"
      ],
      "text/plain": [
       "<IPython.core.display.HTML object>"
      ]
     },
     "metadata": {},
     "output_type": "display_data"
    },
    {
     "name": "stdout",
     "output_type": "stream",
     "text": [
      "bit:   \t32.4%\n",
      "straightforward:   \t29.52%\n",
      "sweet:   \t4.55%\n",
      "bright:   \t3.15%\n",
      "light:   \t2.99%\n",
      "--------\n",
      "\n"
     ]
    },
    {
     "data": {
      "text/html": [
       "<span style=\"background-color:rgba(135,206,250,0.26657575);\">wine</span> <span style=\"background-color:rgba(135,206,250,0.5309814);\">review</span> <span style=\"background-color:rgba(135,206,250,0.58399856);\">:</span> <span style=\"background-color:rgba(135,206,250,0.7053041);\">germany</span> <span style=\"background-color:rgba(135,206,250,0.31287232);\">:</span> <span style=\"background-color:rgba(135,206,250,0.39263925);\">mosel</span> <span style=\"background-color:rgba(135,206,250,0.23343056);\">:</span> <span style=\"background-color:rgba(135,206,250,0.42634615);\">riesling</span> <span style=\"background-color:rgba(135,206,250,0.30310595);\">:</span> <span style=\"background-color:rgba(135,206,250,0.10171952);\">a</span> <span style=\"background-color:rgba(135,206,250,0.15553018);\">touch</span> <span style=\"background-color:rgba(135,206,250,0.16081026);\">of</span> <span style=\"background-color:rgba(135,206,250,0.13655838);\">smoke</span> <span style=\"background-color:rgba(135,206,250,0.3224501);\">lends</span> <span style=\"background-color:rgba(135,206,250,0.15904416);\">complexity</span> <span style=\"background-color:rgba(135,206,250,0.21859309);\">to</span> <span style=\"background-color:rgba(135,206,250,0.21375515);\">this</span> <span style=\"background-color:rgba(135,206,250,0.30686626);\">dry</span> <span style=\"background-color:rgba(135,206,250,0.34689546);\">riesling</span> <span style=\"background-color:rgba(135,206,250,0.78566736);\">.</span> <span style=\"background-color:rgba(135,206,250,0.46385852);\">it</span> <span style=\"background-color:rgba(135,206,250,0.26987243);\">'</span> <span style=\"background-color:rgba(135,206,250,0.6013504);\">s</span> <span style=\"background-color:rgba(135,206,250,1.0);\">a</span> <span style=\"background-color:rgba(135,206,250,0.4481339);\">delicately</span>"
      ],
      "text/plain": [
       "<IPython.core.display.HTML object>"
      ]
     },
     "metadata": {},
     "output_type": "display_data"
    },
    {
     "name": "stdout",
     "output_type": "stream",
     "text": [
      "sweet:   \t52.45%\n",
      "textured:   \t16.55%\n",
      "structured:   \t10.67%\n",
      "perfumed:   \t6.66%\n",
      "concentrated:   \t5.42%\n",
      "--------\n",
      "\n"
     ]
    },
    {
     "data": {
      "text/html": [
       "<span style=\"background-color:rgba(135,206,250,0.21344258);\">wine</span> <span style=\"background-color:rgba(135,206,250,0.38870057);\">review</span> <span style=\"background-color:rgba(135,206,250,0.3308711);\">:</span> <span style=\"background-color:rgba(135,206,250,0.26868612);\">germany</span> <span style=\"background-color:rgba(135,206,250,0.29717654);\">:</span> <span style=\"background-color:rgba(135,206,250,0.16901748);\">mosel</span> <span style=\"background-color:rgba(135,206,250,0.13865933);\">:</span> <span style=\"background-color:rgba(135,206,250,0.30129224);\">riesling</span> <span style=\"background-color:rgba(135,206,250,0.22503455);\">:</span> <span style=\"background-color:rgba(135,206,250,0.11223445);\">a</span> <span style=\"background-color:rgba(135,206,250,0.06601472);\">touch</span> <span style=\"background-color:rgba(135,206,250,0.06936479);\">of</span> <span style=\"background-color:rgba(135,206,250,0.06768756);\">smoke</span> <span style=\"background-color:rgba(135,206,250,0.13747428);\">lends</span> <span style=\"background-color:rgba(135,206,250,0.09053567);\">complexity</span> <span style=\"background-color:rgba(135,206,250,0.08615399);\">to</span> <span style=\"background-color:rgba(135,206,250,0.11118642);\">this</span> <span style=\"background-color:rgba(135,206,250,0.105101846);\">dry</span> <span style=\"background-color:rgba(135,206,250,0.23109087);\">riesling</span> <span style=\"background-color:rgba(135,206,250,0.47624916);\">.</span> <span style=\"background-color:rgba(135,206,250,0.25285852);\">it</span> <span style=\"background-color:rgba(135,206,250,0.093982734);\">'</span> <span style=\"background-color:rgba(135,206,250,0.35816982);\">s</span> <span style=\"background-color:rgba(135,206,250,0.5750564);\">a</span> <span style=\"background-color:rgba(135,206,250,1.0);\">delicately</span> <span style=\"background-color:rgba(135,206,250,0.3107994);\">framed</span>"
      ],
      "text/plain": [
       "<IPython.core.display.HTML object>"
      ]
     },
     "metadata": {},
     "output_type": "display_data"
    },
    {
     "name": "stdout",
     "output_type": "stream",
     "text": [
      "riesling:   \t64.06%\n",
      "kabinett:   \t25.6%\n",
      ",:   \t3.44%\n",
      "wine:   \t3.41%\n",
      "auslese:   \t2.44%\n",
      "--------\n",
      "\n"
     ]
    },
    {
     "data": {
      "text/html": [
       "<span style=\"background-color:rgba(135,206,250,0.29174286);\">wine</span> <span style=\"background-color:rgba(135,206,250,0.8548377);\">review</span> <span style=\"background-color:rgba(135,206,250,0.32787767);\">:</span> <span style=\"background-color:rgba(135,206,250,0.30973804);\">germany</span> <span style=\"background-color:rgba(135,206,250,0.31406432);\">:</span> <span style=\"background-color:rgba(135,206,250,0.14042161);\">mosel</span> <span style=\"background-color:rgba(135,206,250,0.24664214);\">:</span> <span style=\"background-color:rgba(135,206,250,0.14998601);\">riesling</span> <span style=\"background-color:rgba(135,206,250,0.30900416);\">:</span> <span style=\"background-color:rgba(135,206,250,0.3027813);\">a</span> <span style=\"background-color:rgba(135,206,250,0.17274132);\">touch</span> <span style=\"background-color:rgba(135,206,250,0.12365566);\">of</span> <span style=\"background-color:rgba(135,206,250,0.08992133);\">smoke</span> <span style=\"background-color:rgba(135,206,250,0.43139893);\">lends</span> <span style=\"background-color:rgba(135,206,250,0.21221611);\">complexity</span> <span style=\"background-color:rgba(135,206,250,0.21736214);\">to</span> <span style=\"background-color:rgba(135,206,250,0.29993254);\">this</span> <span style=\"background-color:rgba(135,206,250,0.14593497);\">dry</span> <span style=\"background-color:rgba(135,206,250,0.12144113);\">riesling</span> <span style=\"background-color:rgba(135,206,250,0.99841005);\">.</span> <span style=\"background-color:rgba(135,206,250,0.4606387);\">it</span> <span style=\"background-color:rgba(135,206,250,0.1834491);\">'</span> <span style=\"background-color:rgba(135,206,250,0.5598575);\">s</span> <span style=\"background-color:rgba(135,206,250,0.8595951);\">a</span> <span style=\"background-color:rgba(135,206,250,0.70328915);\">delicately</span> <span style=\"background-color:rgba(135,206,250,1.0);\">framed</span> <span style=\"background-color:rgba(135,206,250,0.47711733);\">riesling</span>"
      ],
      "text/plain": [
       "<IPython.core.display.HTML object>"
      ]
     },
     "metadata": {},
     "output_type": "display_data"
    },
    {
     "name": "stdout",
     "output_type": "stream",
     "text": [
      ",:   \t64.98%\n",
      "with:   \t21.85%\n",
      "that:   \t11.46%\n",
      ".:   \t0.91%\n",
      "to:   \t0.2%\n",
      "--------\n",
      "\n"
     ]
    },
    {
     "data": {
      "text/html": [
       "<span style=\"background-color:rgba(135,206,250,0.07363066);\">wine</span> <span style=\"background-color:rgba(135,206,250,0.17898118);\">review</span> <span style=\"background-color:rgba(135,206,250,0.1163407);\">:</span> <span style=\"background-color:rgba(135,206,250,0.23540552);\">germany</span> <span style=\"background-color:rgba(135,206,250,0.070037395);\">:</span> <span style=\"background-color:rgba(135,206,250,0.11507727);\">mosel</span> <span style=\"background-color:rgba(135,206,250,0.058302447);\">:</span> <span style=\"background-color:rgba(135,206,250,0.21466884);\">riesling</span> <span style=\"background-color:rgba(135,206,250,0.09794597);\">:</span> <span style=\"background-color:rgba(135,206,250,0.04555197);\">a</span> <span style=\"background-color:rgba(135,206,250,0.06825229);\">touch</span> <span style=\"background-color:rgba(135,206,250,0.03800875);\">of</span> <span style=\"background-color:rgba(135,206,250,0.05033643);\">smoke</span> <span style=\"background-color:rgba(135,206,250,0.18632089);\">lends</span> <span style=\"background-color:rgba(135,206,250,0.04589701);\">complexity</span> <span style=\"background-color:rgba(135,206,250,0.050099447);\">to</span> <span style=\"background-color:rgba(135,206,250,0.12278081);\">this</span> <span style=\"background-color:rgba(135,206,250,0.077198215);\">dry</span> <span style=\"background-color:rgba(135,206,250,0.11379356);\">riesling</span> <span style=\"background-color:rgba(135,206,250,0.280432);\">.</span> <span style=\"background-color:rgba(135,206,250,0.19664277);\">it</span> <span style=\"background-color:rgba(135,206,250,0.022911133);\">'</span> <span style=\"background-color:rgba(135,206,250,0.20731772);\">s</span> <span style=\"background-color:rgba(135,206,250,0.24599725);\">a</span> <span style=\"background-color:rgba(135,206,250,0.40023604);\">delicately</span> <span style=\"background-color:rgba(135,206,250,0.5806552);\">framed</span> <span style=\"background-color:rgba(135,206,250,1.0);\">riesling</span> <span style=\"background-color:rgba(135,206,250,0.42473033);\">,</span>"
      ],
      "text/plain": [
       "<IPython.core.display.HTML object>"
      ]
     },
     "metadata": {},
     "output_type": "display_data"
    },
    {
     "name": "stdout",
     "output_type": "stream",
     "text": [
      "but:   \t50.27%\n",
      "with:   \t48.32%\n",
      "yet:   \t1.09%\n",
      "and:   \t0.1%\n",
      "showing:   \t0.04%\n",
      "--------\n",
      "\n"
     ]
    },
    {
     "data": {
      "text/html": [
       "<span style=\"background-color:rgba(135,206,250,0.11907516);\">wine</span> <span style=\"background-color:rgba(135,206,250,0.19541737);\">review</span> <span style=\"background-color:rgba(135,206,250,0.24746172);\">:</span> <span style=\"background-color:rgba(135,206,250,0.38790387);\">germany</span> <span style=\"background-color:rgba(135,206,250,0.10914178);\">:</span> <span style=\"background-color:rgba(135,206,250,0.22674926);\">mosel</span> <span style=\"background-color:rgba(135,206,250,0.09068358);\">:</span> <span style=\"background-color:rgba(135,206,250,0.28660145);\">riesling</span> <span style=\"background-color:rgba(135,206,250,0.1331758);\">:</span> <span style=\"background-color:rgba(135,206,250,0.063785724);\">a</span> <span style=\"background-color:rgba(135,206,250,0.066897556);\">touch</span> <span style=\"background-color:rgba(135,206,250,0.040118884);\">of</span> <span style=\"background-color:rgba(135,206,250,0.09229075);\">smoke</span> <span style=\"background-color:rgba(135,206,250,0.079047136);\">lends</span> <span style=\"background-color:rgba(135,206,250,0.119394824);\">complexity</span> <span style=\"background-color:rgba(135,206,250,0.05537562);\">to</span> <span style=\"background-color:rgba(135,206,250,0.08741446);\">this</span> <span style=\"background-color:rgba(135,206,250,0.120700575);\">dry</span> <span style=\"background-color:rgba(135,206,250,0.1563363);\">riesling</span> <span style=\"background-color:rgba(135,206,250,0.26429006);\">.</span> <span style=\"background-color:rgba(135,206,250,0.10144008);\">it</span> <span style=\"background-color:rgba(135,206,250,0.03748409);\">'</span> <span style=\"background-color:rgba(135,206,250,0.1186486);\">s</span> <span style=\"background-color:rgba(135,206,250,0.16570467);\">a</span> <span style=\"background-color:rgba(135,206,250,0.24965656);\">delicately</span> <span style=\"background-color:rgba(135,206,250,0.71164924);\">framed</span> <span style=\"background-color:rgba(135,206,250,0.51638824);\">riesling</span> <span style=\"background-color:rgba(135,206,250,1.0);\">,</span> <span style=\"background-color:rgba(135,206,250,0.4724165);\">with</span>"
      ],
      "text/plain": [
       "<IPython.core.display.HTML object>"
      ]
     },
     "metadata": {},
     "output_type": "display_data"
    },
    {
     "name": "stdout",
     "output_type": "stream",
     "text": [
      "a:   \t71.62%\n",
      "sweet:   \t3.78%\n",
      "fresh:   \t2.58%\n",
      "notes:   \t1.92%\n",
      "bright:   \t1.88%\n",
      "--------\n",
      "\n"
     ]
    },
    {
     "data": {
      "text/html": [
       "<span style=\"background-color:rgba(135,206,250,0.13174666);\">wine</span> <span style=\"background-color:rgba(135,206,250,0.21324661);\">review</span> <span style=\"background-color:rgba(135,206,250,0.16870636);\">:</span> <span style=\"background-color:rgba(135,206,250,0.361991);\">germany</span> <span style=\"background-color:rgba(135,206,250,0.09123845);\">:</span> <span style=\"background-color:rgba(135,206,250,0.25892672);\">mosel</span> <span style=\"background-color:rgba(135,206,250,0.06793827);\">:</span> <span style=\"background-color:rgba(135,206,250,0.269928);\">riesling</span> <span style=\"background-color:rgba(135,206,250,0.12654246);\">:</span> <span style=\"background-color:rgba(135,206,250,0.03392023);\">a</span> <span style=\"background-color:rgba(135,206,250,0.06101712);\">touch</span> <span style=\"background-color:rgba(135,206,250,0.04375892);\">of</span> <span style=\"background-color:rgba(135,206,250,0.06952306);\">smoke</span> <span style=\"background-color:rgba(135,206,250,0.07510395);\">lends</span> <span style=\"background-color:rgba(135,206,250,0.10008503);\">complexity</span> <span style=\"background-color:rgba(135,206,250,0.04353551);\">to</span> <span style=\"background-color:rgba(135,206,250,0.0744376);\">this</span> <span style=\"background-color:rgba(135,206,250,0.11011814);\">dry</span> <span style=\"background-color:rgba(135,206,250,0.13852683);\">riesling</span> <span style=\"background-color:rgba(135,206,250,0.18828197);\">.</span> <span style=\"background-color:rgba(135,206,250,0.07767565);\">it</span> <span style=\"background-color:rgba(135,206,250,0.029899664);\">'</span> <span style=\"background-color:rgba(135,206,250,0.10473338);\">s</span> <span style=\"background-color:rgba(135,206,250,0.05497203);\">a</span> <span style=\"background-color:rgba(135,206,250,0.25791493);\">delicately</span> <span style=\"background-color:rgba(135,206,250,0.62710947);\">framed</span> <span style=\"background-color:rgba(135,206,250,0.6018323);\">riesling</span> <span style=\"background-color:rgba(135,206,250,0.6013828);\">,</span> <span style=\"background-color:rgba(135,206,250,1.0);\">with</span> <span style=\"background-color:rgba(135,206,250,0.28287905);\">a</span>"
      ],
      "text/plain": [
       "<IPython.core.display.HTML object>"
      ]
     },
     "metadata": {},
     "output_type": "display_data"
    },
    {
     "name": "stdout",
     "output_type": "stream",
     "text": [
      "steely:   \t13.0%\n",
      "brisk:   \t7.7%\n",
      "bracing:   \t7.19%\n",
      "delicate:   \t6.58%\n",
      "hint:   \t5.4%\n",
      "--------\n",
      "\n"
     ]
    },
    {
     "data": {
      "text/html": [
       "<span style=\"background-color:rgba(135,206,250,0.106973924);\">wine</span> <span style=\"background-color:rgba(135,206,250,0.19973928);\">review</span> <span style=\"background-color:rgba(135,206,250,0.20372754);\">:</span> <span style=\"background-color:rgba(135,206,250,0.31953585);\">germany</span> <span style=\"background-color:rgba(135,206,250,0.11014283);\">:</span> <span style=\"background-color:rgba(135,206,250,0.21915591);\">mosel</span> <span style=\"background-color:rgba(135,206,250,0.100397944);\">:</span> <span style=\"background-color:rgba(135,206,250,0.31708673);\">riesling</span> <span style=\"background-color:rgba(135,206,250,0.14817117);\">:</span> <span style=\"background-color:rgba(135,206,250,0.054853212);\">a</span> <span style=\"background-color:rgba(135,206,250,0.069385394);\">touch</span> <span style=\"background-color:rgba(135,206,250,0.04102628);\">of</span> <span style=\"background-color:rgba(135,206,250,0.07330564);\">smoke</span> <span style=\"background-color:rgba(135,206,250,0.07970536);\">lends</span> <span style=\"background-color:rgba(135,206,250,0.08155163);\">complexity</span> <span style=\"background-color:rgba(135,206,250,0.050546113);\">to</span> <span style=\"background-color:rgba(135,206,250,0.077357985);\">this</span> <span style=\"background-color:rgba(135,206,250,0.08244);\">dry</span> <span style=\"background-color:rgba(135,206,250,0.15846866);\">riesling</span> <span style=\"background-color:rgba(135,206,250,0.24620026);\">.</span> <span style=\"background-color:rgba(135,206,250,0.10043108);\">it</span> <span style=\"background-color:rgba(135,206,250,0.027809694);\">'</span> <span style=\"background-color:rgba(135,206,250,0.10962963);\">s</span> <span style=\"background-color:rgba(135,206,250,0.12111621);\">a</span> <span style=\"background-color:rgba(135,206,250,0.11666582);\">delicately</span> <span style=\"background-color:rgba(135,206,250,0.5355974);\">framed</span> <span style=\"background-color:rgba(135,206,250,0.51434636);\">riesling</span> <span style=\"background-color:rgba(135,206,250,0.3552631);\">,</span> <span style=\"background-color:rgba(135,206,250,0.86685485);\">with</span> <span style=\"background-color:rgba(135,206,250,1.0);\">a</span> <span style=\"background-color:rgba(135,206,250,0.31613258);\">delicate</span>"
      ],
      "text/plain": [
       "<IPython.core.display.HTML object>"
      ]
     },
     "metadata": {},
     "output_type": "display_data"
    },
    {
     "name": "stdout",
     "output_type": "stream",
     "text": [
      ",:   \t30.68%\n",
      "mouthfeel:   \t20.85%\n",
      "floral:   \t7.65%\n",
      "hint:   \t5.68%\n",
      "mineral:   \t5.52%\n",
      "--------\n",
      "\n"
     ]
    },
    {
     "data": {
      "text/html": [
       "<span style=\"background-color:rgba(135,206,250,0.1630862);\">wine</span> <span style=\"background-color:rgba(135,206,250,0.4390152);\">review</span> <span style=\"background-color:rgba(135,206,250,0.35497096);\">:</span> <span style=\"background-color:rgba(135,206,250,0.2707719);\">germany</span> <span style=\"background-color:rgba(135,206,250,0.27261284);\">:</span> <span style=\"background-color:rgba(135,206,250,0.089646116);\">mosel</span> <span style=\"background-color:rgba(135,206,250,0.134192);\">:</span> <span style=\"background-color:rgba(135,206,250,0.14509799);\">riesling</span> <span style=\"background-color:rgba(135,206,250,0.16935182);\">:</span> <span style=\"background-color:rgba(135,206,250,0.048213024);\">a</span> <span style=\"background-color:rgba(135,206,250,0.04797585);\">touch</span> <span style=\"background-color:rgba(135,206,250,0.08649026);\">of</span> <span style=\"background-color:rgba(135,206,250,0.036578804);\">smoke</span> <span style=\"background-color:rgba(135,206,250,0.19070622);\">lends</span> <span style=\"background-color:rgba(135,206,250,0.045196008);\">complexity</span> <span style=\"background-color:rgba(135,206,250,0.070693284);\">to</span> <span style=\"background-color:rgba(135,206,250,0.09412583);\">this</span> <span style=\"background-color:rgba(135,206,250,0.056179877);\">dry</span> <span style=\"background-color:rgba(135,206,250,0.08688057);\">riesling</span> <span style=\"background-color:rgba(135,206,250,0.22942765);\">.</span> <span style=\"background-color:rgba(135,206,250,0.13303952);\">it</span> <span style=\"background-color:rgba(135,206,250,0.041140694);\">'</span> <span style=\"background-color:rgba(135,206,250,0.124432415);\">s</span> <span style=\"background-color:rgba(135,206,250,0.10901469);\">a</span> <span style=\"background-color:rgba(135,206,250,0.12994173);\">delicately</span> <span style=\"background-color:rgba(135,206,250,0.28421018);\">framed</span> <span style=\"background-color:rgba(135,206,250,0.45414805);\">riesling</span> <span style=\"background-color:rgba(135,206,250,0.44682992);\">,</span> <span style=\"background-color:rgba(135,206,250,1.0);\">with</span> <span style=\"background-color:rgba(135,206,250,0.58069015);\">a</span> <span style=\"background-color:rgba(135,206,250,0.6304267);\">delicate</span> <span style=\"background-color:rgba(135,206,250,0.8216851);\">hint</span>"
      ],
      "text/plain": [
       "<IPython.core.display.HTML object>"
      ]
     },
     "metadata": {},
     "output_type": "display_data"
    },
    {
     "name": "stdout",
     "output_type": "stream",
     "text": [
      "of:   \t100.0%\n",
      "suggesting:   \t0.0%\n",
      "at:   \t0.0%\n",
      "to:   \t0.0%\n",
      "that:   \t0.0%\n",
      "--------\n",
      "\n"
     ]
    },
    {
     "data": {
      "text/html": [
       "<span style=\"background-color:rgba(135,206,250,0.08640481);\">wine</span> <span style=\"background-color:rgba(135,206,250,0.12008071);\">review</span> <span style=\"background-color:rgba(135,206,250,0.11925675);\">:</span> <span style=\"background-color:rgba(135,206,250,0.22433454);\">germany</span> <span style=\"background-color:rgba(135,206,250,0.08213032);\">:</span> <span style=\"background-color:rgba(135,206,250,0.19036867);\">mosel</span> <span style=\"background-color:rgba(135,206,250,0.0653506);\">:</span> <span style=\"background-color:rgba(135,206,250,0.2652916);\">riesling</span> <span style=\"background-color:rgba(135,206,250,0.08070085);\">:</span> <span style=\"background-color:rgba(135,206,250,0.04970362);\">a</span> <span style=\"background-color:rgba(135,206,250,0.03849999);\">touch</span> <span style=\"background-color:rgba(135,206,250,0.019798681);\">of</span> <span style=\"background-color:rgba(135,206,250,0.076867424);\">smoke</span> <span style=\"background-color:rgba(135,206,250,0.047827754);\">lends</span> <span style=\"background-color:rgba(135,206,250,0.049053773);\">complexity</span> <span style=\"background-color:rgba(135,206,250,0.03216576);\">to</span> <span style=\"background-color:rgba(135,206,250,0.051628772);\">this</span> <span style=\"background-color:rgba(135,206,250,0.063521);\">dry</span> <span style=\"background-color:rgba(135,206,250,0.10732802);\">riesling</span> <span style=\"background-color:rgba(135,206,250,0.10103284);\">.</span> <span style=\"background-color:rgba(135,206,250,0.05580294);\">it</span> <span style=\"background-color:rgba(135,206,250,0.020361844);\">'</span> <span style=\"background-color:rgba(135,206,250,0.053411793);\">s</span> <span style=\"background-color:rgba(135,206,250,0.056195095);\">a</span> <span style=\"background-color:rgba(135,206,250,0.0793703);\">delicately</span> <span style=\"background-color:rgba(135,206,250,0.19448574);\">framed</span> <span style=\"background-color:rgba(135,206,250,0.19321537);\">riesling</span> <span style=\"background-color:rgba(135,206,250,0.18874551);\">,</span> <span style=\"background-color:rgba(135,206,250,0.22340359);\">with</span> <span style=\"background-color:rgba(135,206,250,0.28233323);\">a</span> <span style=\"background-color:rgba(135,206,250,0.6054703);\">delicate</span> <span style=\"background-color:rgba(135,206,250,1.0);\">hint</span> <span style=\"background-color:rgba(135,206,250,0.1733735);\">of</span>"
      ],
      "text/plain": [
       "<IPython.core.display.HTML object>"
      ]
     },
     "metadata": {},
     "output_type": "display_data"
    },
    {
     "name": "stdout",
     "output_type": "stream",
     "text": [
      "honey:   \t87.41%\n",
      "petrol:   \t5.96%\n",
      "saffron:   \t1.51%\n",
      "sweetness:   \t0.71%\n",
      "waxy:   \t0.45%\n",
      "--------\n",
      "\n"
     ]
    },
    {
     "data": {
      "text/html": [
       "<span style=\"background-color:rgba(135,206,250,0.093302995);\">wine</span> <span style=\"background-color:rgba(135,206,250,0.26603058);\">review</span> <span style=\"background-color:rgba(135,206,250,0.15001397);\">:</span> <span style=\"background-color:rgba(135,206,250,0.24917328);\">germany</span> <span style=\"background-color:rgba(135,206,250,0.11826605);\">:</span> <span style=\"background-color:rgba(135,206,250,0.04391011);\">mosel</span> <span style=\"background-color:rgba(135,206,250,0.097853035);\">:</span> <span style=\"background-color:rgba(135,206,250,0.06621902);\">riesling</span> <span style=\"background-color:rgba(135,206,250,0.11319299);\">:</span> <span style=\"background-color:rgba(135,206,250,0.040300388);\">a</span> <span style=\"background-color:rgba(135,206,250,0.050624754);\">touch</span> <span style=\"background-color:rgba(135,206,250,0.09083283);\">of</span> <span style=\"background-color:rgba(135,206,250,0.027126297);\">smoke</span> <span style=\"background-color:rgba(135,206,250,0.20154078);\">lends</span> <span style=\"background-color:rgba(135,206,250,0.044647634);\">complexity</span> <span style=\"background-color:rgba(135,206,250,0.061575547);\">to</span> <span style=\"background-color:rgba(135,206,250,0.11041484);\">this</span> <span style=\"background-color:rgba(135,206,250,0.046531264);\">dry</span> <span style=\"background-color:rgba(135,206,250,0.042694476);\">riesling</span> <span style=\"background-color:rgba(135,206,250,0.20895739);\">.</span> <span style=\"background-color:rgba(135,206,250,0.121949576);\">it</span> <span style=\"background-color:rgba(135,206,250,0.033841208);\">'</span> <span style=\"background-color:rgba(135,206,250,0.10204141);\">s</span> <span style=\"background-color:rgba(135,206,250,0.10449753);\">a</span> <span style=\"background-color:rgba(135,206,250,0.0637255);\">delicately</span> <span style=\"background-color:rgba(135,206,250,0.24090241);\">framed</span> <span style=\"background-color:rgba(135,206,250,0.11114266);\">riesling</span> <span style=\"background-color:rgba(135,206,250,0.15383163);\">,</span> <span style=\"background-color:rgba(135,206,250,0.4687274);\">with</span> <span style=\"background-color:rgba(135,206,250,0.44530225);\">a</span> <span style=\"background-color:rgba(135,206,250,0.22776839);\">delicate</span> <span style=\"background-color:rgba(135,206,250,1.0);\">hint</span> <span style=\"background-color:rgba(135,206,250,0.80197996);\">of</span> <span style=\"background-color:rgba(135,206,250,0.21559289);\">petrol</span>"
      ],
      "text/plain": [
       "<IPython.core.display.HTML object>"
      ]
     },
     "metadata": {},
     "output_type": "display_data"
    },
    {
     "name": "stdout",
     "output_type": "stream",
     "text": [
      ".:   \t66.45%\n",
      ",:   \t8.08%\n",
      "on:   \t7.27%\n",
      "and:   \t7.08%\n",
      "in:   \t5.83%\n",
      "--------\n",
      "\n"
     ]
    },
    {
     "data": {
      "text/html": [
       "<span style=\"background-color:rgba(135,206,250,0.16106284);\">wine</span> <span style=\"background-color:rgba(135,206,250,0.55432975);\">review</span> <span style=\"background-color:rgba(135,206,250,0.7628177);\">:</span> <span style=\"background-color:rgba(135,206,250,1.0);\">germany</span> <span style=\"background-color:rgba(135,206,250,0.6403);\">:</span> <span style=\"background-color:rgba(135,206,250,0.38266152);\">mosel</span> <span style=\"background-color:rgba(135,206,250,0.3076601);\">:</span> <span style=\"background-color:rgba(135,206,250,0.45805222);\">riesling</span> <span style=\"background-color:rgba(135,206,250,0.24221447);\">:</span> <span style=\"background-color:rgba(135,206,250,0.08209052);\">a</span> <span style=\"background-color:rgba(135,206,250,0.08973385);\">touch</span> <span style=\"background-color:rgba(135,206,250,0.07348582);\">of</span> <span style=\"background-color:rgba(135,206,250,0.086636975);\">smoke</span> <span style=\"background-color:rgba(135,206,250,0.16543004);\">lends</span> <span style=\"background-color:rgba(135,206,250,0.116128534);\">complexity</span> <span style=\"background-color:rgba(135,206,250,0.07585928);\">to</span> <span style=\"background-color:rgba(135,206,250,0.1856932);\">this</span> <span style=\"background-color:rgba(135,206,250,0.13974379);\">dry</span> <span style=\"background-color:rgba(135,206,250,0.17833653);\">riesling</span> <span style=\"background-color:rgba(135,206,250,0.2159123);\">.</span> <span style=\"background-color:rgba(135,206,250,0.14992341);\">it</span> <span style=\"background-color:rgba(135,206,250,0.04154228);\">'</span> <span style=\"background-color:rgba(135,206,250,0.13139386);\">s</span> <span style=\"background-color:rgba(135,206,250,0.09193609);\">a</span> <span style=\"background-color:rgba(135,206,250,0.19071183);\">delicately</span> <span style=\"background-color:rgba(135,206,250,0.20503241);\">framed</span> <span style=\"background-color:rgba(135,206,250,0.30678818);\">riesling</span> <span style=\"background-color:rgba(135,206,250,0.16665274);\">,</span> <span style=\"background-color:rgba(135,206,250,0.23947148);\">with</span> <span style=\"background-color:rgba(135,206,250,0.1732591);\">a</span> <span style=\"background-color:rgba(135,206,250,0.19607958);\">delicate</span> <span style=\"background-color:rgba(135,206,250,0.27020273);\">hint</span> <span style=\"background-color:rgba(135,206,250,0.21139126);\">of</span> <span style=\"background-color:rgba(135,206,250,0.5223846);\">petrol</span> <span style=\"background-color:rgba(135,206,250,0.64321136);\">.</span>"
      ],
      "text/plain": [
       "<IPython.core.display.HTML object>"
      ]
     },
     "metadata": {},
     "output_type": "display_data"
    },
    {
     "name": "stdout",
     "output_type": "stream",
     "text": [
      "it:   \t70.7%\n",
      "the:   \t12.84%\n",
      "lime:   \t3.13%\n",
      "fresh:   \t2.15%\n",
      "off:   \t1.86%\n",
      "--------\n",
      "\n"
     ]
    },
    {
     "data": {
      "text/html": [
       "<span style=\"background-color:rgba(135,206,250,0.042230755);\">wine</span> <span style=\"background-color:rgba(135,206,250,0.072630785);\">review</span> <span style=\"background-color:rgba(135,206,250,0.078410015);\">:</span> <span style=\"background-color:rgba(135,206,250,0.21723622);\">germany</span> <span style=\"background-color:rgba(135,206,250,0.03799993);\">:</span> <span style=\"background-color:rgba(135,206,250,0.09409621);\">mosel</span> <span style=\"background-color:rgba(135,206,250,0.035159033);\">:</span> <span style=\"background-color:rgba(135,206,250,0.06720741);\">riesling</span> <span style=\"background-color:rgba(135,206,250,0.05443669);\">:</span> <span style=\"background-color:rgba(135,206,250,0.014478156);\">a</span> <span style=\"background-color:rgba(135,206,250,0.025083164);\">touch</span> <span style=\"background-color:rgba(135,206,250,0.014860106);\">of</span> <span style=\"background-color:rgba(135,206,250,0.024836313);\">smoke</span> <span style=\"background-color:rgba(135,206,250,0.030355327);\">lends</span> <span style=\"background-color:rgba(135,206,250,0.035409365);\">complexity</span> <span style=\"background-color:rgba(135,206,250,0.017006973);\">to</span> <span style=\"background-color:rgba(135,206,250,0.019658793);\">this</span> <span style=\"background-color:rgba(135,206,250,0.041289512);\">dry</span> <span style=\"background-color:rgba(135,206,250,0.03543705);\">riesling</span> <span style=\"background-color:rgba(135,206,250,0.053516604);\">.</span> <span style=\"background-color:rgba(135,206,250,0.012746705);\">it</span> <span style=\"background-color:rgba(135,206,250,0.009425993);\">'</span> <span style=\"background-color:rgba(135,206,250,0.022123622);\">s</span> <span style=\"background-color:rgba(135,206,250,0.015407087);\">a</span> <span style=\"background-color:rgba(135,206,250,0.048182987);\">delicately</span> <span style=\"background-color:rgba(135,206,250,0.06870331);\">framed</span> <span style=\"background-color:rgba(135,206,250,0.051924422);\">riesling</span> <span style=\"background-color:rgba(135,206,250,0.047869865);\">,</span> <span style=\"background-color:rgba(135,206,250,0.064357504);\">with</span> <span style=\"background-color:rgba(135,206,250,0.042280074);\">a</span> <span style=\"background-color:rgba(135,206,250,0.08858013);\">delicate</span> <span style=\"background-color:rgba(135,206,250,0.18898211);\">hint</span> <span style=\"background-color:rgba(135,206,250,0.17795561);\">of</span> <span style=\"background-color:rgba(135,206,250,0.21247219);\">petrol</span> <span style=\"background-color:rgba(135,206,250,1.0);\">.</span> <span style=\"background-color:rgba(135,206,250,0.16968608);\">it</span>"
      ],
      "text/plain": [
       "<IPython.core.display.HTML object>"
      ]
     },
     "metadata": {},
     "output_type": "display_data"
    },
    {
     "name": "stdout",
     "output_type": "stream",
     "text": [
      "':   \t99.98%\n",
      "is:   \t0.01%\n",
      "finishes:   \t0.01%\n",
      "has:   \t0.0%\n",
      "drinks:   \t0.0%\n",
      "--------\n",
      "\n"
     ]
    },
    {
     "data": {
      "text/html": [
       "<span style=\"background-color:rgba(135,206,250,0.09540171);\">wine</span> <span style=\"background-color:rgba(135,206,250,0.16119324);\">review</span> <span style=\"background-color:rgba(135,206,250,0.10869176);\">:</span> <span style=\"background-color:rgba(135,206,250,0.13285294);\">germany</span> <span style=\"background-color:rgba(135,206,250,0.11278229);\">:</span> <span style=\"background-color:rgba(135,206,250,0.097636655);\">mosel</span> <span style=\"background-color:rgba(135,206,250,0.06678952);\">:</span> <span style=\"background-color:rgba(135,206,250,0.13631552);\">riesling</span> <span style=\"background-color:rgba(135,206,250,0.07965444);\">:</span> <span style=\"background-color:rgba(135,206,250,0.045705292);\">a</span> <span style=\"background-color:rgba(135,206,250,0.037309397);\">touch</span> <span style=\"background-color:rgba(135,206,250,0.0345963);\">of</span> <span style=\"background-color:rgba(135,206,250,0.034384225);\">smoke</span> <span style=\"background-color:rgba(135,206,250,0.04262267);\">lends</span> <span style=\"background-color:rgba(135,206,250,0.04475987);\">complexity</span> <span style=\"background-color:rgba(135,206,250,0.032705978);\">to</span> <span style=\"background-color:rgba(135,206,250,0.04380136);\">this</span> <span style=\"background-color:rgba(135,206,250,0.036929335);\">dry</span> <span style=\"background-color:rgba(135,206,250,0.05585591);\">riesling</span> <span style=\"background-color:rgba(135,206,250,0.0903904);\">.</span> <span style=\"background-color:rgba(135,206,250,0.05330288);\">it</span> <span style=\"background-color:rgba(135,206,250,0.023077248);\">'</span> <span style=\"background-color:rgba(135,206,250,0.030305704);\">s</span> <span style=\"background-color:rgba(135,206,250,0.04279427);\">a</span> <span style=\"background-color:rgba(135,206,250,0.040983602);\">delicately</span> <span style=\"background-color:rgba(135,206,250,0.07743652);\">framed</span> <span style=\"background-color:rgba(135,206,250,0.08946306);\">riesling</span> <span style=\"background-color:rgba(135,206,250,0.07310512);\">,</span> <span style=\"background-color:rgba(135,206,250,0.088814676);\">with</span> <span style=\"background-color:rgba(135,206,250,0.07415338);\">a</span> <span style=\"background-color:rgba(135,206,250,0.07820232);\">delicate</span> <span style=\"background-color:rgba(135,206,250,0.22990537);\">hint</span> <span style=\"background-color:rgba(135,206,250,0.117113);\">of</span> <span style=\"background-color:rgba(135,206,250,0.32027268);\">petrol</span> <span style=\"background-color:rgba(135,206,250,0.9478853);\">.</span> <span style=\"background-color:rgba(135,206,250,1.0);\">it</span> <span style=\"background-color:rgba(135,206,250,0.16060008);\">'</span>"
      ],
      "text/plain": [
       "<IPython.core.display.HTML object>"
      ]
     },
     "metadata": {},
     "output_type": "display_data"
    },
    {
     "name": "stdout",
     "output_type": "stream",
     "text": [
      "s:   \t100.0%\n",
      "ll:   \t0.0%\n",
      "[UNK]:   \t0.0%\n",
      "11:   \t0.0%\n",
      "riesling:   \t0.0%\n",
      "--------\n",
      "\n"
     ]
    },
    {
     "data": {
      "text/html": [
       "<span style=\"background-color:rgba(135,206,250,0.0777282);\">wine</span> <span style=\"background-color:rgba(135,206,250,0.14154261);\">review</span> <span style=\"background-color:rgba(135,206,250,0.12676899);\">:</span> <span style=\"background-color:rgba(135,206,250,0.26355836);\">germany</span> <span style=\"background-color:rgba(135,206,250,0.07153099);\">:</span> <span style=\"background-color:rgba(135,206,250,0.15387627);\">mosel</span> <span style=\"background-color:rgba(135,206,250,0.05316809);\">:</span> <span style=\"background-color:rgba(135,206,250,0.20703846);\">riesling</span> <span style=\"background-color:rgba(135,206,250,0.095681205);\">:</span> <span style=\"background-color:rgba(135,206,250,0.027366942);\">a</span> <span style=\"background-color:rgba(135,206,250,0.03885536);\">touch</span> <span style=\"background-color:rgba(135,206,250,0.023615403);\">of</span> <span style=\"background-color:rgba(135,206,250,0.034413353);\">smoke</span> <span style=\"background-color:rgba(135,206,250,0.040581975);\">lends</span> <span style=\"background-color:rgba(135,206,250,0.052741427);\">complexity</span> <span style=\"background-color:rgba(135,206,250,0.023927098);\">to</span> <span style=\"background-color:rgba(135,206,250,0.03537977);\">this</span> <span style=\"background-color:rgba(135,206,250,0.06575459);\">dry</span> <span style=\"background-color:rgba(135,206,250,0.077032536);\">riesling</span> <span style=\"background-color:rgba(135,206,250,0.086595975);\">.</span> <span style=\"background-color:rgba(135,206,250,0.03163996);\">it</span> <span style=\"background-color:rgba(135,206,250,0.013826017);\">'</span> <span style=\"background-color:rgba(135,206,250,0.032112733);\">s</span> <span style=\"background-color:rgba(135,206,250,0.026753258);\">a</span> <span style=\"background-color:rgba(135,206,250,0.09331565);\">delicately</span> <span style=\"background-color:rgba(135,206,250,0.100075744);\">framed</span> <span style=\"background-color:rgba(135,206,250,0.118926406);\">riesling</span> <span style=\"background-color:rgba(135,206,250,0.081391186);\">,</span> <span style=\"background-color:rgba(135,206,250,0.11272011);\">with</span> <span style=\"background-color:rgba(135,206,250,0.057892706);\">a</span> <span style=\"background-color:rgba(135,206,250,0.16341847);\">delicate</span> <span style=\"background-color:rgba(135,206,250,0.23289678);\">hint</span> <span style=\"background-color:rgba(135,206,250,0.13550195);\">of</span> <span style=\"background-color:rgba(135,206,250,0.32153037);\">petrol</span> <span style=\"background-color:rgba(135,206,250,1.0);\">.</span> <span style=\"background-color:rgba(135,206,250,0.7810586);\">it</span> <span style=\"background-color:rgba(135,206,250,0.19189605);\">'</span> <span style=\"background-color:rgba(135,206,250,0.27334517);\">s</span>"
      ],
      "text/plain": [
       "<IPython.core.display.HTML object>"
      ]
     },
     "metadata": {},
     "output_type": "display_data"
    },
    {
     "name": "stdout",
     "output_type": "stream",
     "text": [
      "a:   \t67.34%\n",
      "dry:   \t4.95%\n",
      "straightforward:   \t3.94%\n",
      "brisk:   \t3.15%\n",
      "off:   \t2.93%\n",
      "--------\n",
      "\n"
     ]
    },
    {
     "data": {
      "text/html": [
       "<span style=\"background-color:rgba(135,206,250,0.09415219);\">wine</span> <span style=\"background-color:rgba(135,206,250,0.15012716);\">review</span> <span style=\"background-color:rgba(135,206,250,0.13526146);\">:</span> <span style=\"background-color:rgba(135,206,250,0.38928175);\">germany</span> <span style=\"background-color:rgba(135,206,250,0.07600139);\">:</span> <span style=\"background-color:rgba(135,206,250,0.2563426);\">mosel</span> <span style=\"background-color:rgba(135,206,250,0.057518467);\">:</span> <span style=\"background-color:rgba(135,206,250,0.2693087);\">riesling</span> <span style=\"background-color:rgba(135,206,250,0.107809715);\">:</span> <span style=\"background-color:rgba(135,206,250,0.025806192);\">a</span> <span style=\"background-color:rgba(135,206,250,0.044257164);\">touch</span> <span style=\"background-color:rgba(135,206,250,0.02951887);\">of</span> <span style=\"background-color:rgba(135,206,250,0.05045275);\">smoke</span> <span style=\"background-color:rgba(135,206,250,0.045970835);\">lends</span> <span style=\"background-color:rgba(135,206,250,0.06956227);\">complexity</span> <span style=\"background-color:rgba(135,206,250,0.024046797);\">to</span> <span style=\"background-color:rgba(135,206,250,0.042744916);\">this</span> <span style=\"background-color:rgba(135,206,250,0.079233155);\">dry</span> <span style=\"background-color:rgba(135,206,250,0.09881194);\">riesling</span> <span style=\"background-color:rgba(135,206,250,0.101772144);\">.</span> <span style=\"background-color:rgba(135,206,250,0.029968578);\">it</span> <span style=\"background-color:rgba(135,206,250,0.017577043);\">'</span> <span style=\"background-color:rgba(135,206,250,0.040232796);\">s</span> <span style=\"background-color:rgba(135,206,250,0.020843899);\">a</span> <span style=\"background-color:rgba(135,206,250,0.093646295);\">delicately</span> <span style=\"background-color:rgba(135,206,250,0.13863921);\">framed</span> <span style=\"background-color:rgba(135,206,250,0.14458682);\">riesling</span> <span style=\"background-color:rgba(135,206,250,0.07169181);\">,</span> <span style=\"background-color:rgba(135,206,250,0.08984906);\">with</span> <span style=\"background-color:rgba(135,206,250,0.035574924);\">a</span> <span style=\"background-color:rgba(135,206,250,0.15019323);\">delicate</span> <span style=\"background-color:rgba(135,206,250,0.22474763);\">hint</span> <span style=\"background-color:rgba(135,206,250,0.14111519);\">of</span> <span style=\"background-color:rgba(135,206,250,0.30214992);\">petrol</span> <span style=\"background-color:rgba(135,206,250,1.0);\">.</span> <span style=\"background-color:rgba(135,206,250,0.52737874);\">it</span> <span style=\"background-color:rgba(135,206,250,0.11311041);\">'</span> <span style=\"background-color:rgba(135,206,250,0.93720746);\">s</span> <span style=\"background-color:rgba(135,206,250,0.37997395);\">a</span>"
      ],
      "text/plain": [
       "<IPython.core.display.HTML object>"
      ]
     },
     "metadata": {},
     "output_type": "display_data"
    },
    {
     "name": "stdout",
     "output_type": "stream",
     "text": [
      "straightforward:   \t43.39%\n",
      "bit:   \t18.97%\n",
      "deeply:   \t4.29%\n",
      "sweet:   \t3.79%\n",
      "brisk:   \t2.91%\n",
      "--------\n",
      "\n"
     ]
    },
    {
     "data": {
      "text/html": [
       "<span style=\"background-color:rgba(135,206,250,0.0708703);\">wine</span> <span style=\"background-color:rgba(135,206,250,0.1430039);\">review</span> <span style=\"background-color:rgba(135,206,250,0.14674746);\">:</span> <span style=\"background-color:rgba(135,206,250,0.24862431);\">germany</span> <span style=\"background-color:rgba(135,206,250,0.13314307);\">:</span> <span style=\"background-color:rgba(135,206,250,0.1361165);\">mosel</span> <span style=\"background-color:rgba(135,206,250,0.07177545);\">:</span> <span style=\"background-color:rgba(135,206,250,0.23436972);\">riesling</span> <span style=\"background-color:rgba(135,206,250,0.094830334);\">:</span> <span style=\"background-color:rgba(135,206,250,0.04340411);\">a</span> <span style=\"background-color:rgba(135,206,250,0.03537273);\">touch</span> <span style=\"background-color:rgba(135,206,250,0.031637326);\">of</span> <span style=\"background-color:rgba(135,206,250,0.032181688);\">smoke</span> <span style=\"background-color:rgba(135,206,250,0.05591279);\">lends</span> <span style=\"background-color:rgba(135,206,250,0.035067737);\">complexity</span> <span style=\"background-color:rgba(135,206,250,0.02052828);\">to</span> <span style=\"background-color:rgba(135,206,250,0.037576787);\">this</span> <span style=\"background-color:rgba(135,206,250,0.03765025);\">dry</span> <span style=\"background-color:rgba(135,206,250,0.10170232);\">riesling</span> <span style=\"background-color:rgba(135,206,250,0.09697611);\">.</span> <span style=\"background-color:rgba(135,206,250,0.050389595);\">it</span> <span style=\"background-color:rgba(135,206,250,0.020442873);\">'</span> <span style=\"background-color:rgba(135,206,250,0.063829966);\">s</span> <span style=\"background-color:rgba(135,206,250,0.03780049);\">a</span> <span style=\"background-color:rgba(135,206,250,0.047961712);\">delicately</span> <span style=\"background-color:rgba(135,206,250,0.07295078);\">framed</span> <span style=\"background-color:rgba(135,206,250,0.154173);\">riesling</span> <span style=\"background-color:rgba(135,206,250,0.07163405);\">,</span> <span style=\"background-color:rgba(135,206,250,0.08686873);\">with</span> <span style=\"background-color:rgba(135,206,250,0.08321748);\">a</span> <span style=\"background-color:rgba(135,206,250,0.06626476);\">delicate</span> <span style=\"background-color:rgba(135,206,250,0.13749562);\">hint</span> <span style=\"background-color:rgba(135,206,250,0.13138057);\">of</span> <span style=\"background-color:rgba(135,206,250,0.22944489);\">petrol</span> <span style=\"background-color:rgba(135,206,250,0.53516024);\">.</span> <span style=\"background-color:rgba(135,206,250,0.51918596);\">it</span> <span style=\"background-color:rgba(135,206,250,0.11669395);\">'</span> <span style=\"background-color:rgba(135,206,250,0.82640356);\">s</span> <span style=\"background-color:rgba(135,206,250,1.0);\">a</span> <span style=\"background-color:rgba(135,206,250,0.28934053);\">waxy</span>"
      ],
      "text/plain": [
       "<IPython.core.display.HTML object>"
      ]
     },
     "metadata": {},
     "output_type": "display_data"
    },
    {
     "name": "stdout",
     "output_type": "stream",
     "text": [
      ",:   \t65.67%\n",
      "lemon:   \t14.26%\n",
      "lanolin:   \t5.31%\n",
      "slick:   \t2.86%\n",
      "white:   \t2.14%\n",
      "--------\n",
      "\n"
     ]
    },
    {
     "data": {
      "text/html": [
       "<span style=\"background-color:rgba(135,206,250,0.0505463);\">wine</span> <span style=\"background-color:rgba(135,206,250,0.13668653);\">review</span> <span style=\"background-color:rgba(135,206,250,0.0845295);\">:</span> <span style=\"background-color:rgba(135,206,250,0.2998805);\">germany</span> <span style=\"background-color:rgba(135,206,250,0.06196667);\">:</span> <span style=\"background-color:rgba(135,206,250,0.12313529);\">mosel</span> <span style=\"background-color:rgba(135,206,250,0.052002795);\">:</span> <span style=\"background-color:rgba(135,206,250,0.22888982);\">riesling</span> <span style=\"background-color:rgba(135,206,250,0.08496158);\">:</span> <span style=\"background-color:rgba(135,206,250,0.032458156);\">a</span> <span style=\"background-color:rgba(135,206,250,0.046603594);\">touch</span> <span style=\"background-color:rgba(135,206,250,0.02446338);\">of</span> <span style=\"background-color:rgba(135,206,250,0.033004254);\">smoke</span> <span style=\"background-color:rgba(135,206,250,0.12003);\">lends</span> <span style=\"background-color:rgba(135,206,250,0.028821206);\">complexity</span> <span style=\"background-color:rgba(135,206,250,0.024528056);\">to</span> <span style=\"background-color:rgba(135,206,250,0.06605113);\">this</span> <span style=\"background-color:rgba(135,206,250,0.046335414);\">dry</span> <span style=\"background-color:rgba(135,206,250,0.07280758);\">riesling</span> <span style=\"background-color:rgba(135,206,250,0.126431);\">.</span> <span style=\"background-color:rgba(135,206,250,0.107655846);\">it</span> <span style=\"background-color:rgba(135,206,250,0.010936236);\">'</span> <span style=\"background-color:rgba(135,206,250,0.06654228);\">s</span> <span style=\"background-color:rgba(135,206,250,0.026773164);\">a</span> <span style=\"background-color:rgba(135,206,250,0.06724425);\">delicately</span> <span style=\"background-color:rgba(135,206,250,0.08864405);\">framed</span> <span style=\"background-color:rgba(135,206,250,0.107553974);\">riesling</span> <span style=\"background-color:rgba(135,206,250,0.044690374);\">,</span> <span style=\"background-color:rgba(135,206,250,0.1325734);\">with</span> <span style=\"background-color:rgba(135,206,250,0.05392336);\">a</span> <span style=\"background-color:rgba(135,206,250,0.10113316);\">delicate</span> <span style=\"background-color:rgba(135,206,250,0.15674005);\">hint</span> <span style=\"background-color:rgba(135,206,250,0.087107405);\">of</span> <span style=\"background-color:rgba(135,206,250,0.2863148);\">petrol</span> <span style=\"background-color:rgba(135,206,250,0.7445863);\">.</span> <span style=\"background-color:rgba(135,206,250,0.36967778);\">it</span> <span style=\"background-color:rgba(135,206,250,0.052448235);\">'</span> <span style=\"background-color:rgba(135,206,250,0.659935);\">s</span> <span style=\"background-color:rgba(135,206,250,0.71118444);\">a</span> <span style=\"background-color:rgba(135,206,250,1.0);\">waxy</span> <span style=\"background-color:rgba(135,206,250,0.6867526);\">,</span>"
      ],
      "text/plain": [
       "<IPython.core.display.HTML object>"
      ]
     },
     "metadata": {},
     "output_type": "display_data"
    },
    {
     "name": "stdout",
     "output_type": "stream",
     "text": [
      "waxy:   \t61.24%\n",
      "slightly:   \t4.7%\n",
      "floral:   \t3.6%\n",
      "lemon:   \t3.59%\n",
      "yet:   \t2.89%\n",
      "--------\n",
      "\n"
     ]
    },
    {
     "data": {
      "text/html": [
       "<span style=\"background-color:rgba(135,206,250,0.07616956);\">wine</span> <span style=\"background-color:rgba(135,206,250,0.12036025);\">review</span> <span style=\"background-color:rgba(135,206,250,0.13854621);\">:</span> <span style=\"background-color:rgba(135,206,250,0.20754983);\">germany</span> <span style=\"background-color:rgba(135,206,250,0.09182943);\">:</span> <span style=\"background-color:rgba(135,206,250,0.16565745);\">mosel</span> <span style=\"background-color:rgba(135,206,250,0.08775769);\">:</span> <span style=\"background-color:rgba(135,206,250,0.31635326);\">riesling</span> <span style=\"background-color:rgba(135,206,250,0.12103861);\">:</span> <span style=\"background-color:rgba(135,206,250,0.059000924);\">a</span> <span style=\"background-color:rgba(135,206,250,0.06789913);\">touch</span> <span style=\"background-color:rgba(135,206,250,0.03641389);\">of</span> <span style=\"background-color:rgba(135,206,250,0.03690379);\">smoke</span> <span style=\"background-color:rgba(135,206,250,0.035013292);\">lends</span> <span style=\"background-color:rgba(135,206,250,0.05076422);\">complexity</span> <span style=\"background-color:rgba(135,206,250,0.022726122);\">to</span> <span style=\"background-color:rgba(135,206,250,0.026672987);\">this</span> <span style=\"background-color:rgba(135,206,250,0.03891813);\">dry</span> <span style=\"background-color:rgba(135,206,250,0.10695449);\">riesling</span> <span style=\"background-color:rgba(135,206,250,0.103392124);\">.</span> <span style=\"background-color:rgba(135,206,250,0.041176103);\">it</span> <span style=\"background-color:rgba(135,206,250,0.015875531);\">'</span> <span style=\"background-color:rgba(135,206,250,0.03775495);\">s</span> <span style=\"background-color:rgba(135,206,250,0.034141403);\">a</span> <span style=\"background-color:rgba(135,206,250,0.028990626);\">delicately</span> <span style=\"background-color:rgba(135,206,250,0.0721187);\">framed</span> <span style=\"background-color:rgba(135,206,250,0.14794604);\">riesling</span> <span style=\"background-color:rgba(135,206,250,0.061107673);\">,</span> <span style=\"background-color:rgba(135,206,250,0.054047003);\">with</span> <span style=\"background-color:rgba(135,206,250,0.059400592);\">a</span> <span style=\"background-color:rgba(135,206,250,0.04159037);\">delicate</span> <span style=\"background-color:rgba(135,206,250,0.10586569);\">hint</span> <span style=\"background-color:rgba(135,206,250,0.11564413);\">of</span> <span style=\"background-color:rgba(135,206,250,0.15638748);\">petrol</span> <span style=\"background-color:rgba(135,206,250,0.45083958);\">.</span> <span style=\"background-color:rgba(135,206,250,0.31572273);\">it</span> <span style=\"background-color:rgba(135,206,250,0.07444368);\">'</span> <span style=\"background-color:rgba(135,206,250,0.5252015);\">s</span> <span style=\"background-color:rgba(135,206,250,0.68860483);\">a</span> <span style=\"background-color:rgba(135,206,250,0.1792657);\">waxy</span> <span style=\"background-color:rgba(135,206,250,1.0);\">,</span> <span style=\"background-color:rgba(135,206,250,0.25515354);\">racy</span>"
      ],
      "text/plain": [
       "<IPython.core.display.HTML object>"
      ]
     },
     "metadata": {},
     "output_type": "display_data"
    },
    {
     "name": "stdout",
     "output_type": "stream",
     "text": [
      "wine:   \t59.1%\n",
      "riesling:   \t30.5%\n",
      "palate:   \t3.16%\n",
      "mouthfeel:   \t1.49%\n",
      "style:   \t1.14%\n",
      "--------\n",
      "\n"
     ]
    },
    {
     "data": {
      "text/html": [
       "<span style=\"background-color:rgba(135,206,250,0.059803423);\">wine</span> <span style=\"background-color:rgba(135,206,250,0.17351535);\">review</span> <span style=\"background-color:rgba(135,206,250,0.14973044);\">:</span> <span style=\"background-color:rgba(135,206,250,0.26861554);\">germany</span> <span style=\"background-color:rgba(135,206,250,0.08809754);\">:</span> <span style=\"background-color:rgba(135,206,250,0.08284251);\">mosel</span> <span style=\"background-color:rgba(135,206,250,0.06303548);\">:</span> <span style=\"background-color:rgba(135,206,250,0.08095359);\">riesling</span> <span style=\"background-color:rgba(135,206,250,0.09235669);\">:</span> <span style=\"background-color:rgba(135,206,250,0.05616918);\">a</span> <span style=\"background-color:rgba(135,206,250,0.041835953);\">touch</span> <span style=\"background-color:rgba(135,206,250,0.02745432);\">of</span> <span style=\"background-color:rgba(135,206,250,0.031075172);\">smoke</span> <span style=\"background-color:rgba(135,206,250,0.087845944);\">lends</span> <span style=\"background-color:rgba(135,206,250,0.06275731);\">complexity</span> <span style=\"background-color:rgba(135,206,250,0.026648292);\">to</span> <span style=\"background-color:rgba(135,206,250,0.06530271);\">this</span> <span style=\"background-color:rgba(135,206,250,0.043437984);\">dry</span> <span style=\"background-color:rgba(135,206,250,0.043769374);\">riesling</span> <span style=\"background-color:rgba(135,206,250,0.13790296);\">.</span> <span style=\"background-color:rgba(135,206,250,0.06279291);\">it</span> <span style=\"background-color:rgba(135,206,250,0.01904925);\">'</span> <span style=\"background-color:rgba(135,206,250,0.06678834);\">s</span> <span style=\"background-color:rgba(135,206,250,0.047584355);\">a</span> <span style=\"background-color:rgba(135,206,250,0.073795214);\">delicately</span> <span style=\"background-color:rgba(135,206,250,0.0709588);\">framed</span> <span style=\"background-color:rgba(135,206,250,0.05947159);\">riesling</span> <span style=\"background-color:rgba(135,206,250,0.0609853);\">,</span> <span style=\"background-color:rgba(135,206,250,0.09532669);\">with</span> <span style=\"background-color:rgba(135,206,250,0.09065658);\">a</span> <span style=\"background-color:rgba(135,206,250,0.065019876);\">delicate</span> <span style=\"background-color:rgba(135,206,250,0.12604992);\">hint</span> <span style=\"background-color:rgba(135,206,250,0.10937216);\">of</span> <span style=\"background-color:rgba(135,206,250,0.1665131);\">petrol</span> <span style=\"background-color:rgba(135,206,250,0.4965515);\">.</span> <span style=\"background-color:rgba(135,206,250,0.15978156);\">it</span> <span style=\"background-color:rgba(135,206,250,0.07115457);\">'</span> <span style=\"background-color:rgba(135,206,250,0.44141063);\">s</span> <span style=\"background-color:rgba(135,206,250,0.5620387);\">a</span> <span style=\"background-color:rgba(135,206,250,0.37362555);\">waxy</span> <span style=\"background-color:rgba(135,206,250,1.0);\">,</span> <span style=\"background-color:rgba(135,206,250,0.6181559);\">racy</span> <span style=\"background-color:rgba(135,206,250,0.47746366);\">wine</span>"
      ],
      "text/plain": [
       "<IPython.core.display.HTML object>"
      ]
     },
     "metadata": {},
     "output_type": "display_data"
    },
    {
     "name": "stdout",
     "output_type": "stream",
     "text": [
      ",:   \t52.8%\n",
      "with:   \t37.53%\n",
      "that:   \t8.92%\n",
      "to:   \t0.35%\n",
      "but:   \t0.22%\n",
      "--------\n",
      "\n"
     ]
    },
    {
     "data": {
      "text/html": [
       "<span style=\"background-color:rgba(135,206,250,0.03177614);\">wine</span> <span style=\"background-color:rgba(135,206,250,0.08362796);\">review</span> <span style=\"background-color:rgba(135,206,250,0.05303032);\">:</span> <span style=\"background-color:rgba(135,206,250,0.19651671);\">germany</span> <span style=\"background-color:rgba(135,206,250,0.04032977);\">:</span> <span style=\"background-color:rgba(135,206,250,0.07953238);\">mosel</span> <span style=\"background-color:rgba(135,206,250,0.034178544);\">:</span> <span style=\"background-color:rgba(135,206,250,0.15391973);\">riesling</span> <span style=\"background-color:rgba(135,206,250,0.05516886);\">:</span> <span style=\"background-color:rgba(135,206,250,0.021673564);\">a</span> <span style=\"background-color:rgba(135,206,250,0.02927436);\">touch</span> <span style=\"background-color:rgba(135,206,250,0.016003843);\">of</span> <span style=\"background-color:rgba(135,206,250,0.021105656);\">smoke</span> <span style=\"background-color:rgba(135,206,250,0.07088035);\">lends</span> <span style=\"background-color:rgba(135,206,250,0.018202297);\">complexity</span> <span style=\"background-color:rgba(135,206,250,0.015522792);\">to</span> <span style=\"background-color:rgba(135,206,250,0.039091922);\">this</span> <span style=\"background-color:rgba(135,206,250,0.028238984);\">dry</span> <span style=\"background-color:rgba(135,206,250,0.04680098);\">riesling</span> <span style=\"background-color:rgba(135,206,250,0.07476188);\">.</span> <span style=\"background-color:rgba(135,206,250,0.06350241);\">it</span> <span style=\"background-color:rgba(135,206,250,0.006932977);\">'</span> <span style=\"background-color:rgba(135,206,250,0.04162079);\">s</span> <span style=\"background-color:rgba(135,206,250,0.016209407);\">a</span> <span style=\"background-color:rgba(135,206,250,0.038611617);\">delicately</span> <span style=\"background-color:rgba(135,206,250,0.049955286);\">framed</span> <span style=\"background-color:rgba(135,206,250,0.06502405);\">riesling</span> <span style=\"background-color:rgba(135,206,250,0.026015943);\">,</span> <span style=\"background-color:rgba(135,206,250,0.06998171);\">with</span> <span style=\"background-color:rgba(135,206,250,0.027205342);\">a</span> <span style=\"background-color:rgba(135,206,250,0.05100131);\">delicate</span> <span style=\"background-color:rgba(135,206,250,0.06278258);\">hint</span> <span style=\"background-color:rgba(135,206,250,0.037264474);\">of</span> <span style=\"background-color:rgba(135,206,250,0.12487201);\">petrol</span> <span style=\"background-color:rgba(135,206,250,0.26461947);\">.</span> <span style=\"background-color:rgba(135,206,250,0.15714417);\">it</span> <span style=\"background-color:rgba(135,206,250,0.022319928);\">'</span> <span style=\"background-color:rgba(135,206,250,0.19377118);\">s</span> <span style=\"background-color:rgba(135,206,250,0.1843446);\">a</span> <span style=\"background-color:rgba(135,206,250,0.27289006);\">waxy</span> <span style=\"background-color:rgba(135,206,250,0.18191463);\">,</span> <span style=\"background-color:rgba(135,206,250,0.5029339);\">racy</span> <span style=\"background-color:rgba(135,206,250,1.0);\">wine</span> <span style=\"background-color:rgba(135,206,250,0.46345437);\">,</span>"
      ],
      "text/plain": [
       "<IPython.core.display.HTML object>"
      ]
     },
     "metadata": {},
     "output_type": "display_data"
    },
    {
     "name": "stdout",
     "output_type": "stream",
     "text": [
      "with:   \t76.01%\n",
      "but:   \t22.01%\n",
      "yet:   \t1.59%\n",
      "and:   \t0.07%\n",
      "finishing:   \t0.06%\n",
      "--------\n",
      "\n"
     ]
    },
    {
     "data": {
      "text/html": [
       "<span style=\"background-color:rgba(135,206,250,0.06118459);\">wine</span> <span style=\"background-color:rgba(135,206,250,0.10357303);\">review</span> <span style=\"background-color:rgba(135,206,250,0.12710756);\">:</span> <span style=\"background-color:rgba(135,206,250,0.36534864);\">germany</span> <span style=\"background-color:rgba(135,206,250,0.07042015);\">:</span> <span style=\"background-color:rgba(135,206,250,0.19712478);\">mosel</span> <span style=\"background-color:rgba(135,206,250,0.056655284);\">:</span> <span style=\"background-color:rgba(135,206,250,0.25442004);\">riesling</span> <span style=\"background-color:rgba(135,206,250,0.090934604);\">:</span> <span style=\"background-color:rgba(135,206,250,0.03863524);\">a</span> <span style=\"background-color:rgba(135,206,250,0.038814627);\">touch</span> <span style=\"background-color:rgba(135,206,250,0.021624401);\">of</span> <span style=\"background-color:rgba(135,206,250,0.055431157);\">smoke</span> <span style=\"background-color:rgba(135,206,250,0.04022283);\">lends</span> <span style=\"background-color:rgba(135,206,250,0.06634077);\">complexity</span> <span style=\"background-color:rgba(135,206,250,0.020681567);\">to</span> <span style=\"background-color:rgba(135,206,250,0.03771872);\">this</span> <span style=\"background-color:rgba(135,206,250,0.060379468);\">dry</span> <span style=\"background-color:rgba(135,206,250,0.09355745);\">riesling</span> <span style=\"background-color:rgba(135,206,250,0.07647936);\">.</span> <span style=\"background-color:rgba(135,206,250,0.030042626);\">it</span> <span style=\"background-color:rgba(135,206,250,0.01449027);\">'</span> <span style=\"background-color:rgba(135,206,250,0.039111488);\">s</span> <span style=\"background-color:rgba(135,206,250,0.025897743);\">a</span> <span style=\"background-color:rgba(135,206,250,0.08191628);\">delicately</span> <span style=\"background-color:rgba(135,206,250,0.060087573);\">framed</span> <span style=\"background-color:rgba(135,206,250,0.1059213);\">riesling</span> <span style=\"background-color:rgba(135,206,250,0.044558126);\">,</span> <span style=\"background-color:rgba(135,206,250,0.031260945);\">with</span> <span style=\"background-color:rgba(135,206,250,0.036579963);\">a</span> <span style=\"background-color:rgba(135,206,250,0.079045795);\">delicate</span> <span style=\"background-color:rgba(135,206,250,0.05728115);\">hint</span> <span style=\"background-color:rgba(135,206,250,0.03143208);\">of</span> <span style=\"background-color:rgba(135,206,250,0.17178003);\">petrol</span> <span style=\"background-color:rgba(135,206,250,0.21895358);\">.</span> <span style=\"background-color:rgba(135,206,250,0.083445445);\">it</span> <span style=\"background-color:rgba(135,206,250,0.03204575);\">'</span> <span style=\"background-color:rgba(135,206,250,0.117990404);\">s</span> <span style=\"background-color:rgba(135,206,250,0.12746824);\">a</span> <span style=\"background-color:rgba(135,206,250,0.2732854);\">waxy</span> <span style=\"background-color:rgba(135,206,250,0.41345248);\">,</span> <span style=\"background-color:rgba(135,206,250,0.63151836);\">racy</span> <span style=\"background-color:rgba(135,206,250,0.7159691);\">wine</span> <span style=\"background-color:rgba(135,206,250,1.0);\">,</span> <span style=\"background-color:rgba(135,206,250,0.5281731);\">with</span>"
      ],
      "text/plain": [
       "<IPython.core.display.HTML object>"
      ]
     },
     "metadata": {},
     "output_type": "display_data"
    },
    {
     "name": "stdout",
     "output_type": "stream",
     "text": [
      "a:   \t94.71%\n",
      "lime:   \t0.84%\n",
      "an:   \t0.51%\n",
      "bracing:   \t0.42%\n",
      "fresh:   \t0.41%\n",
      "--------\n",
      "\n"
     ]
    },
    {
     "data": {
      "text/html": [
       "<span style=\"background-color:rgba(135,206,250,0.06093665);\">wine</span> <span style=\"background-color:rgba(135,206,250,0.09358941);\">review</span> <span style=\"background-color:rgba(135,206,250,0.09589492);\">:</span> <span style=\"background-color:rgba(135,206,250,0.36025867);\">germany</span> <span style=\"background-color:rgba(135,206,250,0.05478962);\">:</span> <span style=\"background-color:rgba(135,206,250,0.21972756);\">mosel</span> <span style=\"background-color:rgba(135,206,250,0.042442348);\">:</span> <span style=\"background-color:rgba(135,206,250,0.219488);\">riesling</span> <span style=\"background-color:rgba(135,206,250,0.08061551);\">:</span> <span style=\"background-color:rgba(135,206,250,0.019047637);\">a</span> <span style=\"background-color:rgba(135,206,250,0.032233175);\">touch</span> <span style=\"background-color:rgba(135,206,250,0.019880313);\">of</span> <span style=\"background-color:rgba(135,206,250,0.036928017);\">smoke</span> <span style=\"background-color:rgba(135,206,250,0.03352381);\">lends</span> <span style=\"background-color:rgba(135,206,250,0.05111007);\">complexity</span> <span style=\"background-color:rgba(135,206,250,0.015396699);\">to</span> <span style=\"background-color:rgba(135,206,250,0.02770395);\">this</span> <span style=\"background-color:rgba(135,206,250,0.055491574);\">dry</span> <span style=\"background-color:rgba(135,206,250,0.07262052);\">riesling</span> <span style=\"background-color:rgba(135,206,250,0.0641612);\">.</span> <span style=\"background-color:rgba(135,206,250,0.018713824);\">it</span> <span style=\"background-color:rgba(135,206,250,0.011988278);\">'</span> <span style=\"background-color:rgba(135,206,250,0.026160624);\">s</span> <span style=\"background-color:rgba(135,206,250,0.012750646);\">a</span> <span style=\"background-color:rgba(135,206,250,0.0645437);\">delicately</span> <span style=\"background-color:rgba(135,206,250,0.07267609);\">framed</span> <span style=\"background-color:rgba(135,206,250,0.086628415);\">riesling</span> <span style=\"background-color:rgba(135,206,250,0.031277712);\">,</span> <span style=\"background-color:rgba(135,206,250,0.031912852);\">with</span> <span style=\"background-color:rgba(135,206,250,0.01617819);\">a</span> <span style=\"background-color:rgba(135,206,250,0.07275482);\">delicate</span> <span style=\"background-color:rgba(135,206,250,0.050065696);\">hint</span> <span style=\"background-color:rgba(135,206,250,0.02797209);\">of</span> <span style=\"background-color:rgba(135,206,250,0.12373571);\">petrol</span> <span style=\"background-color:rgba(135,206,250,0.14341488);\">.</span> <span style=\"background-color:rgba(135,206,250,0.051980488);\">it</span> <span style=\"background-color:rgba(135,206,250,0.022876572);\">'</span> <span style=\"background-color:rgba(135,206,250,0.08768597);\">s</span> <span style=\"background-color:rgba(135,206,250,0.036500417);\">a</span> <span style=\"background-color:rgba(135,206,250,0.17444997);\">waxy</span> <span style=\"background-color:rgba(135,206,250,0.25172225);\">,</span> <span style=\"background-color:rgba(135,206,250,0.44502893);\">racy</span> <span style=\"background-color:rgba(135,206,250,0.5360704);\">wine</span> <span style=\"background-color:rgba(135,206,250,0.685354);\">,</span> <span style=\"background-color:rgba(135,206,250,1.0);\">with</span> <span style=\"background-color:rgba(135,206,250,0.28945702);\">a</span>"
      ],
      "text/plain": [
       "<IPython.core.display.HTML object>"
      ]
     },
     "metadata": {},
     "output_type": "display_data"
    },
    {
     "name": "stdout",
     "output_type": "stream",
     "text": [
      "long:   \t34.71%\n",
      "brisk:   \t18.03%\n",
      "bracing:   \t6.56%\n",
      "steely:   \t5.04%\n",
      "lingering:   \t4.8%\n",
      "--------\n",
      "\n"
     ]
    },
    {
     "data": {
      "text/html": [
       "<span style=\"background-color:rgba(135,206,250,0.045064952);\">wine</span> <span style=\"background-color:rgba(135,206,250,0.08460597);\">review</span> <span style=\"background-color:rgba(135,206,250,0.09391095);\">:</span> <span style=\"background-color:rgba(135,206,250,0.2883621);\">germany</span> <span style=\"background-color:rgba(135,206,250,0.063624434);\">:</span> <span style=\"background-color:rgba(135,206,250,0.15264477);\">mosel</span> <span style=\"background-color:rgba(135,206,250,0.057573073);\">:</span> <span style=\"background-color:rgba(135,206,250,0.22963125);\">riesling</span> <span style=\"background-color:rgba(135,206,250,0.085585445);\">:</span> <span style=\"background-color:rgba(135,206,250,0.026808118);\">a</span> <span style=\"background-color:rgba(135,206,250,0.03328708);\">touch</span> <span style=\"background-color:rgba(135,206,250,0.017872166);\">of</span> <span style=\"background-color:rgba(135,206,250,0.03261576);\">smoke</span> <span style=\"background-color:rgba(135,206,250,0.035372656);\">lends</span> <span style=\"background-color:rgba(135,206,250,0.035558272);\">complexity</span> <span style=\"background-color:rgba(135,206,250,0.016652023);\">to</span> <span style=\"background-color:rgba(135,206,250,0.025117977);\">this</span> <span style=\"background-color:rgba(135,206,250,0.03417168);\">dry</span> <span style=\"background-color:rgba(135,206,250,0.078586616);\">riesling</span> <span style=\"background-color:rgba(135,206,250,0.090010874);\">.</span> <span style=\"background-color:rgba(135,206,250,0.026740767);\">it</span> <span style=\"background-color:rgba(135,206,250,0.0092708655);\">'</span> <span style=\"background-color:rgba(135,206,250,0.02692543);\">s</span> <span style=\"background-color:rgba(135,206,250,0.015233518);\">a</span> <span style=\"background-color:rgba(135,206,250,0.028346304);\">delicately</span> <span style=\"background-color:rgba(135,206,250,0.054672547);\">framed</span> <span style=\"background-color:rgba(135,206,250,0.100448154);\">riesling</span> <span style=\"background-color:rgba(135,206,250,0.032370836);\">,</span> <span style=\"background-color:rgba(135,206,250,0.0284433);\">with</span> <span style=\"background-color:rgba(135,206,250,0.02141745);\">a</span> <span style=\"background-color:rgba(135,206,250,0.030731881);\">delicate</span> <span style=\"background-color:rgba(135,206,250,0.037941527);\">hint</span> <span style=\"background-color:rgba(135,206,250,0.029667899);\">of</span> <span style=\"background-color:rgba(135,206,250,0.12861955);\">petrol</span> <span style=\"background-color:rgba(135,206,250,0.1804649);\">.</span> <span style=\"background-color:rgba(135,206,250,0.07296364);\">it</span> <span style=\"background-color:rgba(135,206,250,0.02174571);\">'</span> <span style=\"background-color:rgba(135,206,250,0.0893024);\">s</span> <span style=\"background-color:rgba(135,206,250,0.0784089);\">a</span> <span style=\"background-color:rgba(135,206,250,0.09531582);\">waxy</span> <span style=\"background-color:rgba(135,206,250,0.14370096);\">,</span> <span style=\"background-color:rgba(135,206,250,0.12946875);\">racy</span> <span style=\"background-color:rgba(135,206,250,0.47360912);\">wine</span> <span style=\"background-color:rgba(135,206,250,0.3395835);\">,</span> <span style=\"background-color:rgba(135,206,250,0.76256365);\">with</span> <span style=\"background-color:rgba(135,206,250,1.0);\">a</span> <span style=\"background-color:rgba(135,206,250,0.30806345);\">delicate</span>"
      ],
      "text/plain": [
       "<IPython.core.display.HTML object>"
      ]
     },
     "metadata": {},
     "output_type": "display_data"
    },
    {
     "name": "stdout",
     "output_type": "stream",
     "text": [
      ",:   \t37.26%\n",
      "mouthfeel:   \t13.78%\n",
      "mineral:   \t6.84%\n",
      "touch:   \t3.85%\n",
      "hint:   \t3.63%\n",
      "--------\n",
      "\n"
     ]
    },
    {
     "data": {
      "text/html": [
       "<span style=\"background-color:rgba(135,206,250,0.032593496);\">wine</span> <span style=\"background-color:rgba(135,206,250,0.08408592);\">review</span> <span style=\"background-color:rgba(135,206,250,0.05847246);\">:</span> <span style=\"background-color:rgba(135,206,250,0.24519928);\">germany</span> <span style=\"background-color:rgba(135,206,250,0.04321089);\">:</span> <span style=\"background-color:rgba(135,206,250,0.09437927);\">mosel</span> <span style=\"background-color:rgba(135,206,250,0.038214087);\">:</span> <span style=\"background-color:rgba(135,206,250,0.16266511);\">riesling</span> <span style=\"background-color:rgba(135,206,250,0.06040898);\">:</span> <span style=\"background-color:rgba(135,206,250,0.022900606);\">a</span> <span style=\"background-color:rgba(135,206,250,0.032802057);\">touch</span> <span style=\"background-color:rgba(135,206,250,0.017124124);\">of</span> <span style=\"background-color:rgba(135,206,250,0.024092706);\">smoke</span> <span style=\"background-color:rgba(135,206,250,0.07732837);\">lends</span> <span style=\"background-color:rgba(135,206,250,0.020950718);\">complexity</span> <span style=\"background-color:rgba(135,206,250,0.016669368);\">to</span> <span style=\"background-color:rgba(135,206,250,0.04168871);\">this</span> <span style=\"background-color:rgba(135,206,250,0.03123829);\">dry</span> <span style=\"background-color:rgba(135,206,250,0.04968767);\">riesling</span> <span style=\"background-color:rgba(135,206,250,0.07707246);\">.</span> <span style=\"background-color:rgba(135,206,250,0.06399182);\">it</span> <span style=\"background-color:rgba(135,206,250,0.007768434);\">'</span> <span style=\"background-color:rgba(135,206,250,0.042679697);\">s</span> <span style=\"background-color:rgba(135,206,250,0.016211132);\">a</span> <span style=\"background-color:rgba(135,206,250,0.042627856);\">delicately</span> <span style=\"background-color:rgba(135,206,250,0.05066139);\">framed</span> <span style=\"background-color:rgba(135,206,250,0.06354771);\">riesling</span> <span style=\"background-color:rgba(135,206,250,0.025882874);\">,</span> <span style=\"background-color:rgba(135,206,250,0.06916204);\">with</span> <span style=\"background-color:rgba(135,206,250,0.024125597);\">a</span> <span style=\"background-color:rgba(135,206,250,0.047204018);\">delicate</span> <span style=\"background-color:rgba(135,206,250,0.048773564);\">hint</span> <span style=\"background-color:rgba(135,206,250,0.028354108);\">of</span> <span style=\"background-color:rgba(135,206,250,0.11070633);\">petrol</span> <span style=\"background-color:rgba(135,206,250,0.18161343);\">.</span> <span style=\"background-color:rgba(135,206,250,0.123721756);\">it</span> <span style=\"background-color:rgba(135,206,250,0.018607184);\">'</span> <span style=\"background-color:rgba(135,206,250,0.11076311);\">s</span> <span style=\"background-color:rgba(135,206,250,0.066477515);\">a</span> <span style=\"background-color:rgba(135,206,250,0.12903395);\">waxy</span> <span style=\"background-color:rgba(135,206,250,0.077170216);\">,</span> <span style=\"background-color:rgba(135,206,250,0.20683895);\">racy</span> <span style=\"background-color:rgba(135,206,250,0.2869516);\">wine</span> <span style=\"background-color:rgba(135,206,250,0.1489518);\">,</span> <span style=\"background-color:rgba(135,206,250,0.590775);\">with</span> <span style=\"background-color:rgba(135,206,250,0.6701925);\">a</span> <span style=\"background-color:rgba(135,206,250,1.0);\">delicate</span> <span style=\"background-color:rgba(135,206,250,0.50219905);\">,</span>"
      ],
      "text/plain": [
       "<IPython.core.display.HTML object>"
      ]
     },
     "metadata": {},
     "output_type": "display_data"
    },
    {
     "name": "stdout",
     "output_type": "stream",
     "text": [
      "dancing:   \t16.58%\n",
      "lacy:   \t15.81%\n",
      "mineral:   \t13.33%\n",
      "perfumed:   \t7.25%\n",
      "elegant:   \t5.77%\n",
      "--------\n",
      "\n"
     ]
    },
    {
     "data": {
      "text/html": [
       "<span style=\"background-color:rgba(135,206,250,0.0592495);\">wine</span> <span style=\"background-color:rgba(135,206,250,0.122040875);\">review</span> <span style=\"background-color:rgba(135,206,250,0.12174511);\">:</span> <span style=\"background-color:rgba(135,206,250,0.2730897);\">germany</span> <span style=\"background-color:rgba(135,206,250,0.10533825);\">:</span> <span style=\"background-color:rgba(135,206,250,0.10762012);\">mosel</span> <span style=\"background-color:rgba(135,206,250,0.06945395);\">:</span> <span style=\"background-color:rgba(135,206,250,0.1719308);\">riesling</span> <span style=\"background-color:rgba(135,206,250,0.088550225);\">:</span> <span style=\"background-color:rgba(135,206,250,0.03108332);\">a</span> <span style=\"background-color:rgba(135,206,250,0.028272796);\">touch</span> <span style=\"background-color:rgba(135,206,250,0.026475888);\">of</span> <span style=\"background-color:rgba(135,206,250,0.024571454);\">smoke</span> <span style=\"background-color:rgba(135,206,250,0.035427067);\">lends</span> <span style=\"background-color:rgba(135,206,250,0.029688297);\">complexity</span> <span style=\"background-color:rgba(135,206,250,0.016912118);\">to</span> <span style=\"background-color:rgba(135,206,250,0.021290231);\">this</span> <span style=\"background-color:rgba(135,206,250,0.029900143);\">dry</span> <span style=\"background-color:rgba(135,206,250,0.06211692);\">riesling</span> <span style=\"background-color:rgba(135,206,250,0.09709591);\">.</span> <span style=\"background-color:rgba(135,206,250,0.027972091);\">it</span> <span style=\"background-color:rgba(135,206,250,0.014239024);\">'</span> <span style=\"background-color:rgba(135,206,250,0.032248545);\">s</span> <span style=\"background-color:rgba(135,206,250,0.020167377);\">a</span> <span style=\"background-color:rgba(135,206,250,0.021829545);\">delicately</span> <span style=\"background-color:rgba(135,206,250,0.050893135);\">framed</span> <span style=\"background-color:rgba(135,206,250,0.08704872);\">riesling</span> <span style=\"background-color:rgba(135,206,250,0.036510978);\">,</span> <span style=\"background-color:rgba(135,206,250,0.03469729);\">with</span> <span style=\"background-color:rgba(135,206,250,0.02749112);\">a</span> <span style=\"background-color:rgba(135,206,250,0.02645808);\">delicate</span> <span style=\"background-color:rgba(135,206,250,0.042791497);\">hint</span> <span style=\"background-color:rgba(135,206,250,0.047200892);\">of</span> <span style=\"background-color:rgba(135,206,250,0.0900712);\">petrol</span> <span style=\"background-color:rgba(135,206,250,0.20253016);\">.</span> <span style=\"background-color:rgba(135,206,250,0.075436205);\">it</span> <span style=\"background-color:rgba(135,206,250,0.03357297);\">'</span> <span style=\"background-color:rgba(135,206,250,0.087181054);\">s</span> <span style=\"background-color:rgba(135,206,250,0.06583587);\">a</span> <span style=\"background-color:rgba(135,206,250,0.07938441);\">waxy</span> <span style=\"background-color:rgba(135,206,250,0.14071329);\">,</span> <span style=\"background-color:rgba(135,206,250,0.1001073);\">racy</span> <span style=\"background-color:rgba(135,206,250,0.36397552);\">wine</span> <span style=\"background-color:rgba(135,206,250,0.28849146);\">,</span> <span style=\"background-color:rgba(135,206,250,0.513885);\">with</span> <span style=\"background-color:rgba(135,206,250,0.46243784);\">a</span> <span style=\"background-color:rgba(135,206,250,0.2573621);\">delicate</span> <span style=\"background-color:rgba(135,206,250,1.0);\">,</span> <span style=\"background-color:rgba(135,206,250,0.60597885);\">ethereal</span>"
      ],
      "text/plain": [
       "<IPython.core.display.HTML object>"
      ]
     },
     "metadata": {},
     "output_type": "display_data"
    },
    {
     "name": "stdout",
     "output_type": "stream",
     "text": [
      "flair:   \t31.26%\n",
      "character:   \t21.89%\n",
      "mouthfeel:   \t21.35%\n",
      "palate:   \t4.11%\n",
      "texture:   \t3.36%\n",
      "--------\n",
      "\n"
     ]
    },
    {
     "data": {
      "text/html": [
       "<span style=\"background-color:rgba(135,206,250,0.07182399);\">wine</span> <span style=\"background-color:rgba(135,206,250,0.21853797);\">review</span> <span style=\"background-color:rgba(135,206,250,0.15463871);\">:</span> <span style=\"background-color:rgba(135,206,250,0.20955887);\">germany</span> <span style=\"background-color:rgba(135,206,250,0.13839276);\">:</span> <span style=\"background-color:rgba(135,206,250,0.08343236);\">mosel</span> <span style=\"background-color:rgba(135,206,250,0.073118016);\">:</span> <span style=\"background-color:rgba(135,206,250,0.08634546);\">riesling</span> <span style=\"background-color:rgba(135,206,250,0.101702616);\">:</span> <span style=\"background-color:rgba(135,206,250,0.030815914);\">a</span> <span style=\"background-color:rgba(135,206,250,0.022028953);\">touch</span> <span style=\"background-color:rgba(135,206,250,0.02292322);\">of</span> <span style=\"background-color:rgba(135,206,250,0.016138433);\">smoke</span> <span style=\"background-color:rgba(135,206,250,0.06580097);\">lends</span> <span style=\"background-color:rgba(135,206,250,0.025028588);\">complexity</span> <span style=\"background-color:rgba(135,206,250,0.017682897);\">to</span> <span style=\"background-color:rgba(135,206,250,0.026483908);\">this</span> <span style=\"background-color:rgba(135,206,250,0.022359664);\">dry</span> <span style=\"background-color:rgba(135,206,250,0.026649557);\">riesling</span> <span style=\"background-color:rgba(135,206,250,0.092142075);\">.</span> <span style=\"background-color:rgba(135,206,250,0.033739284);\">it</span> <span style=\"background-color:rgba(135,206,250,0.013210984);\">'</span> <span style=\"background-color:rgba(135,206,250,0.029419972);\">s</span> <span style=\"background-color:rgba(135,206,250,0.023424586);\">a</span> <span style=\"background-color:rgba(135,206,250,0.021660738);\">delicately</span> <span style=\"background-color:rgba(135,206,250,0.0440738);\">framed</span> <span style=\"background-color:rgba(135,206,250,0.04096309);\">riesling</span> <span style=\"background-color:rgba(135,206,250,0.03980257);\">,</span> <span style=\"background-color:rgba(135,206,250,0.06174576);\">with</span> <span style=\"background-color:rgba(135,206,250,0.037432697);\">a</span> <span style=\"background-color:rgba(135,206,250,0.024832336);\">delicate</span> <span style=\"background-color:rgba(135,206,250,0.05567933);\">hint</span> <span style=\"background-color:rgba(135,206,250,0.051692512);\">of</span> <span style=\"background-color:rgba(135,206,250,0.07063202);\">petrol</span> <span style=\"background-color:rgba(135,206,250,0.24125922);\">.</span> <span style=\"background-color:rgba(135,206,250,0.08487264);\">it</span> <span style=\"background-color:rgba(135,206,250,0.038247075);\">'</span> <span style=\"background-color:rgba(135,206,250,0.09702712);\">s</span> <span style=\"background-color:rgba(135,206,250,0.08765815);\">a</span> <span style=\"background-color:rgba(135,206,250,0.08114538);\">waxy</span> <span style=\"background-color:rgba(135,206,250,0.16401851);\">,</span> <span style=\"background-color:rgba(135,206,250,0.116557464);\">racy</span> <span style=\"background-color:rgba(135,206,250,0.22166058);\">wine</span> <span style=\"background-color:rgba(135,206,250,0.32339698);\">,</span> <span style=\"background-color:rgba(135,206,250,0.47087148);\">with</span> <span style=\"background-color:rgba(135,206,250,0.5057611);\">a</span> <span style=\"background-color:rgba(135,206,250,0.2958569);\">delicate</span> <span style=\"background-color:rgba(135,206,250,1.0);\">,</span> <span style=\"background-color:rgba(135,206,250,0.82730216);\">ethereal</span> <span style=\"background-color:rgba(135,206,250,0.61366206);\">expression</span>"
      ],
      "text/plain": [
       "<IPython.core.display.HTML object>"
      ]
     },
     "metadata": {},
     "output_type": "display_data"
    },
    {
     "name": "stdout",
     "output_type": "stream",
     "text": [
      "of:   \t99.98%\n",
      "that:   \t0.01%\n",
      ",:   \t0.0%\n",
      "from:   \t0.0%\n",
      "with:   \t0.0%\n",
      "--------\n",
      "\n"
     ]
    },
    {
     "data": {
      "text/html": [
       "<span style=\"background-color:rgba(135,206,250,0.03799473);\">wine</span> <span style=\"background-color:rgba(135,206,250,0.0493887);\">review</span> <span style=\"background-color:rgba(135,206,250,0.059753265);\">:</span> <span style=\"background-color:rgba(135,206,250,0.19734049);\">germany</span> <span style=\"background-color:rgba(135,206,250,0.04749876);\">:</span> <span style=\"background-color:rgba(135,206,250,0.14557289);\">mosel</span> <span style=\"background-color:rgba(135,206,250,0.04031287);\">:</span> <span style=\"background-color:rgba(135,206,250,0.20672898);\">riesling</span> <span style=\"background-color:rgba(135,206,250,0.05065157);\">:</span> <span style=\"background-color:rgba(135,206,250,0.030849123);\">a</span> <span style=\"background-color:rgba(135,206,250,0.023355823);\">touch</span> <span style=\"background-color:rgba(135,206,250,0.010809731);\">of</span> <span style=\"background-color:rgba(135,206,250,0.04424989);\">smoke</span> <span style=\"background-color:rgba(135,206,250,0.02266254);\">lends</span> <span style=\"background-color:rgba(135,206,250,0.026549933);\">complexity</span> <span style=\"background-color:rgba(135,206,250,0.014096857);\">to</span> <span style=\"background-color:rgba(135,206,250,0.020690408);\">this</span> <span style=\"background-color:rgba(135,206,250,0.02991053);\">dry</span> <span style=\"background-color:rgba(135,206,250,0.064301245);\">riesling</span> <span style=\"background-color:rgba(135,206,250,0.040641196);\">.</span> <span style=\"background-color:rgba(135,206,250,0.020870836);\">it</span> <span style=\"background-color:rgba(135,206,250,0.009363739);\">'</span> <span style=\"background-color:rgba(135,206,250,0.021926794);\">s</span> <span style=\"background-color:rgba(135,206,250,0.015499365);\">a</span> <span style=\"background-color:rgba(135,206,250,0.027095366);\">delicately</span> <span style=\"background-color:rgba(135,206,250,0.023649175);\">framed</span> <span style=\"background-color:rgba(135,206,250,0.0662425);\">riesling</span> <span style=\"background-color:rgba(135,206,250,0.02482053);\">,</span> <span style=\"background-color:rgba(135,206,250,0.015589622);\">with</span> <span style=\"background-color:rgba(135,206,250,0.01791468);\">a</span> <span style=\"background-color:rgba(135,206,250,0.0344245);\">delicate</span> <span style=\"background-color:rgba(135,206,250,0.020681178);\">hint</span> <span style=\"background-color:rgba(135,206,250,0.011512039);\">of</span> <span style=\"background-color:rgba(135,206,250,0.095741734);\">petrol</span> <span style=\"background-color:rgba(135,206,250,0.057663042);\">.</span> <span style=\"background-color:rgba(135,206,250,0.029518953);\">it</span> <span style=\"background-color:rgba(135,206,250,0.013638462);\">'</span> <span style=\"background-color:rgba(135,206,250,0.034966607);\">s</span> <span style=\"background-color:rgba(135,206,250,0.026678372);\">a</span> <span style=\"background-color:rgba(135,206,250,0.07506183);\">waxy</span> <span style=\"background-color:rgba(135,206,250,0.05351605);\">,</span> <span style=\"background-color:rgba(135,206,250,0.08547103);\">racy</span> <span style=\"background-color:rgba(135,206,250,0.09278321);\">wine</span> <span style=\"background-color:rgba(135,206,250,0.09334112);\">,</span> <span style=\"background-color:rgba(135,206,250,0.09353612);\">with</span> <span style=\"background-color:rgba(135,206,250,0.119403936);\">a</span> <span style=\"background-color:rgba(135,206,250,0.2491476);\">delicate</span> <span style=\"background-color:rgba(135,206,250,0.25397497);\">,</span> <span style=\"background-color:rgba(135,206,250,0.5470958);\">ethereal</span> <span style=\"background-color:rgba(135,206,250,1.0);\">expression</span> <span style=\"background-color:rgba(135,206,250,0.14860217);\">of</span>"
      ],
      "text/plain": [
       "<IPython.core.display.HTML object>"
      ]
     },
     "metadata": {},
     "output_type": "display_data"
    },
    {
     "name": "stdout",
     "output_type": "stream",
     "text": [
      "riesling:   \t84.15%\n",
      "the:   \t6.36%\n",
      "lime:   \t3.74%\n",
      "its:   \t0.77%\n",
      "lemon:   \t0.75%\n",
      "--------\n",
      "\n"
     ]
    },
    {
     "data": {
      "text/html": [
       "<span style=\"background-color:rgba(135,206,250,0.047797535);\">wine</span> <span style=\"background-color:rgba(135,206,250,0.08763093);\">review</span> <span style=\"background-color:rgba(135,206,250,0.08310797);\">:</span> <span style=\"background-color:rgba(135,206,250,0.3072749);\">germany</span> <span style=\"background-color:rgba(135,206,250,0.043231316);\">:</span> <span style=\"background-color:rgba(135,206,250,0.22174302);\">mosel</span> <span style=\"background-color:rgba(135,206,250,0.04363354);\">:</span> <span style=\"background-color:rgba(135,206,250,0.24179004);\">riesling</span> <span style=\"background-color:rgba(135,206,250,0.06950018);\">:</span> <span style=\"background-color:rgba(135,206,250,0.022069126);\">a</span> <span style=\"background-color:rgba(135,206,250,0.041686583);\">touch</span> <span style=\"background-color:rgba(135,206,250,0.018283095);\">of</span> <span style=\"background-color:rgba(135,206,250,0.03929408);\">smoke</span> <span style=\"background-color:rgba(135,206,250,0.035281666);\">lends</span> <span style=\"background-color:rgba(135,206,250,0.047078602);\">complexity</span> <span style=\"background-color:rgba(135,206,250,0.015202211);\">to</span> <span style=\"background-color:rgba(135,206,250,0.027697459);\">this</span> <span style=\"background-color:rgba(135,206,250,0.04604958);\">dry</span> <span style=\"background-color:rgba(135,206,250,0.06762409);\">riesling</span> <span style=\"background-color:rgba(135,206,250,0.05513603);\">.</span> <span style=\"background-color:rgba(135,206,250,0.02222295);\">it</span> <span style=\"background-color:rgba(135,206,250,0.008499002);\">'</span> <span style=\"background-color:rgba(135,206,250,0.025682705);\">s</span> <span style=\"background-color:rgba(135,206,250,0.013669242);\">a</span> <span style=\"background-color:rgba(135,206,250,0.04285916);\">delicately</span> <span style=\"background-color:rgba(135,206,250,0.05292974);\">framed</span> <span style=\"background-color:rgba(135,206,250,0.074079506);\">riesling</span> <span style=\"background-color:rgba(135,206,250,0.027705668);\">,</span> <span style=\"background-color:rgba(135,206,250,0.02436503);\">with</span> <span style=\"background-color:rgba(135,206,250,0.01716306);\">a</span> <span style=\"background-color:rgba(135,206,250,0.047441013);\">delicate</span> <span style=\"background-color:rgba(135,206,250,0.042268317);\">hint</span> <span style=\"background-color:rgba(135,206,250,0.02019987);\">of</span> <span style=\"background-color:rgba(135,206,250,0.11072023);\">petrol</span> <span style=\"background-color:rgba(135,206,250,0.08917321);\">.</span> <span style=\"background-color:rgba(135,206,250,0.032894626);\">it</span> <span style=\"background-color:rgba(135,206,250,0.0137555795);\">'</span> <span style=\"background-color:rgba(135,206,250,0.045418825);\">s</span> <span style=\"background-color:rgba(135,206,250,0.02409194);\">a</span> <span style=\"background-color:rgba(135,206,250,0.10948194);\">waxy</span> <span style=\"background-color:rgba(135,206,250,0.07518192);\">,</span> <span style=\"background-color:rgba(135,206,250,0.12545718);\">racy</span> <span style=\"background-color:rgba(135,206,250,0.12113187);\">wine</span> <span style=\"background-color:rgba(135,206,250,0.14887547);\">,</span> <span style=\"background-color:rgba(135,206,250,0.1522023);\">with</span> <span style=\"background-color:rgba(135,206,250,0.09616376);\">a</span> <span style=\"background-color:rgba(135,206,250,0.22782816);\">delicate</span> <span style=\"background-color:rgba(135,206,250,0.53968275);\">,</span> <span style=\"background-color:rgba(135,206,250,0.69949794);\">ethereal</span> <span style=\"background-color:rgba(135,206,250,1.0);\">expression</span> <span style=\"background-color:rgba(135,206,250,0.6805551);\">of</span> <span style=\"background-color:rgba(135,206,250,0.27620918);\">the</span>"
      ],
      "text/plain": [
       "<IPython.core.display.HTML object>"
      ]
     },
     "metadata": {},
     "output_type": "display_data"
    },
    {
     "name": "stdout",
     "output_type": "stream",
     "text": [
      "palate:   \t46.09%\n",
      "mosel:   \t28.85%\n",
      "riesling:   \t7.66%\n",
      "variety:   \t4.04%\n",
      "midpalate:   \t3.13%\n",
      "--------\n",
      "\n"
     ]
    },
    {
     "data": {
      "text/html": [
       "<span style=\"background-color:rgba(135,206,250,0.119893655);\">wine</span> <span style=\"background-color:rgba(135,206,250,0.22975025);\">review</span> <span style=\"background-color:rgba(135,206,250,0.24416213);\">:</span> <span style=\"background-color:rgba(135,206,250,0.34371307);\">germany</span> <span style=\"background-color:rgba(135,206,250,0.24627031);\">:</span> <span style=\"background-color:rgba(135,206,250,0.14874716);\">mosel</span> <span style=\"background-color:rgba(135,206,250,0.14047885);\">:</span> <span style=\"background-color:rgba(135,206,250,0.29210332);\">riesling</span> <span style=\"background-color:rgba(135,206,250,0.18454267);\">:</span> <span style=\"background-color:rgba(135,206,250,0.068764694);\">a</span> <span style=\"background-color:rgba(135,206,250,0.051386323);\">touch</span> <span style=\"background-color:rgba(135,206,250,0.049882516);\">of</span> <span style=\"background-color:rgba(135,206,250,0.03714792);\">smoke</span> <span style=\"background-color:rgba(135,206,250,0.086512275);\">lends</span> <span style=\"background-color:rgba(135,206,250,0.032025583);\">complexity</span> <span style=\"background-color:rgba(135,206,250,0.033941396);\">to</span> <span style=\"background-color:rgba(135,206,250,0.04078726);\">this</span> <span style=\"background-color:rgba(135,206,250,0.035819415);\">dry</span> <span style=\"background-color:rgba(135,206,250,0.08366795);\">riesling</span> <span style=\"background-color:rgba(135,206,250,0.119018875);\">.</span> <span style=\"background-color:rgba(135,206,250,0.055891335);\">it</span> <span style=\"background-color:rgba(135,206,250,0.022763913);\">'</span> <span style=\"background-color:rgba(135,206,250,0.04538269);\">s</span> <span style=\"background-color:rgba(135,206,250,0.039541557);\">a</span> <span style=\"background-color:rgba(135,206,250,0.027549267);\">delicately</span> <span style=\"background-color:rgba(135,206,250,0.053438034);\">framed</span> <span style=\"background-color:rgba(135,206,250,0.100141376);\">riesling</span> <span style=\"background-color:rgba(135,206,250,0.06272038);\">,</span> <span style=\"background-color:rgba(135,206,250,0.077722415);\">with</span> <span style=\"background-color:rgba(135,206,250,0.051577818);\">a</span> <span style=\"background-color:rgba(135,206,250,0.033049922);\">delicate</span> <span style=\"background-color:rgba(135,206,250,0.07027029);\">hint</span> <span style=\"background-color:rgba(135,206,250,0.082570806);\">of</span> <span style=\"background-color:rgba(135,206,250,0.098475374);\">petrol</span> <span style=\"background-color:rgba(135,206,250,0.22392729);\">.</span> <span style=\"background-color:rgba(135,206,250,0.12322142);\">it</span> <span style=\"background-color:rgba(135,206,250,0.053167026);\">'</span> <span style=\"background-color:rgba(135,206,250,0.109899364);\">s</span> <span style=\"background-color:rgba(135,206,250,0.107873015);\">a</span> <span style=\"background-color:rgba(135,206,250,0.08939032);\">waxy</span> <span style=\"background-color:rgba(135,206,250,0.16941018);\">,</span> <span style=\"background-color:rgba(135,206,250,0.0857861);\">racy</span> <span style=\"background-color:rgba(135,206,250,0.2538103);\">wine</span> <span style=\"background-color:rgba(135,206,250,0.24524279);\">,</span> <span style=\"background-color:rgba(135,206,250,0.4072312);\">with</span> <span style=\"background-color:rgba(135,206,250,0.36060068);\">a</span> <span style=\"background-color:rgba(135,206,250,0.17050728);\">delicate</span> <span style=\"background-color:rgba(135,206,250,0.5034311);\">,</span> <span style=\"background-color:rgba(135,206,250,0.34892324);\">ethereal</span> <span style=\"background-color:rgba(135,206,250,0.7016564);\">expression</span> <span style=\"background-color:rgba(135,206,250,0.9406142);\">of</span> <span style=\"background-color:rgba(135,206,250,1.0);\">the</span> <span style=\"background-color:rgba(135,206,250,0.16798554);\">mosel</span>"
      ],
      "text/plain": [
       "<IPython.core.display.HTML object>"
      ]
     },
     "metadata": {},
     "output_type": "display_data"
    },
    {
     "name": "stdout",
     "output_type": "stream",
     "text": [
      "riesling:   \t85.5%\n",
      "kabinett:   \t11.96%\n",
      "rieslings:   \t1.3%\n",
      "trocken:   \t0.47%\n",
      ".:   \t0.17%\n",
      "--------\n",
      "\n"
     ]
    },
    {
     "data": {
      "text/html": [
       "<span style=\"background-color:rgba(135,206,250,0.069344126);\">wine</span> <span style=\"background-color:rgba(135,206,250,0.18334721);\">review</span> <span style=\"background-color:rgba(135,206,250,0.1538276);\">:</span> <span style=\"background-color:rgba(135,206,250,0.23291983);\">germany</span> <span style=\"background-color:rgba(135,206,250,0.11121692);\">:</span> <span style=\"background-color:rgba(135,206,250,0.08432646);\">mosel</span> <span style=\"background-color:rgba(135,206,250,0.09905476);\">:</span> <span style=\"background-color:rgba(135,206,250,0.08788099);\">riesling</span> <span style=\"background-color:rgba(135,206,250,0.12718973);\">:</span> <span style=\"background-color:rgba(135,206,250,0.10910089);\">a</span> <span style=\"background-color:rgba(135,206,250,0.05145392);\">touch</span> <span style=\"background-color:rgba(135,206,250,0.03151115);\">of</span> <span style=\"background-color:rgba(135,206,250,0.02859777);\">smoke</span> <span style=\"background-color:rgba(135,206,250,0.08488916);\">lends</span> <span style=\"background-color:rgba(135,206,250,0.06455404);\">complexity</span> <span style=\"background-color:rgba(135,206,250,0.027195768);\">to</span> <span style=\"background-color:rgba(135,206,250,0.051634796);\">this</span> <span style=\"background-color:rgba(135,206,250,0.032124083);\">dry</span> <span style=\"background-color:rgba(135,206,250,0.033848763);\">riesling</span> <span style=\"background-color:rgba(135,206,250,0.12090586);\">.</span> <span style=\"background-color:rgba(135,206,250,0.063647084);\">it</span> <span style=\"background-color:rgba(135,206,250,0.023893042);\">'</span> <span style=\"background-color:rgba(135,206,250,0.04569737);\">s</span> <span style=\"background-color:rgba(135,206,250,0.05471624);\">a</span> <span style=\"background-color:rgba(135,206,250,0.047354765);\">delicately</span> <span style=\"background-color:rgba(135,206,250,0.050914258);\">framed</span> <span style=\"background-color:rgba(135,206,250,0.038801122);\">riesling</span> <span style=\"background-color:rgba(135,206,250,0.043627243);\">,</span> <span style=\"background-color:rgba(135,206,250,0.06746047);\">with</span> <span style=\"background-color:rgba(135,206,250,0.07734095);\">a</span> <span style=\"background-color:rgba(135,206,250,0.031150011);\">delicate</span> <span style=\"background-color:rgba(135,206,250,0.07334408);\">hint</span> <span style=\"background-color:rgba(135,206,250,0.047592636);\">of</span> <span style=\"background-color:rgba(135,206,250,0.07913128);\">petrol</span> <span style=\"background-color:rgba(135,206,250,0.22920278);\">.</span> <span style=\"background-color:rgba(135,206,250,0.11296709);\">it</span> <span style=\"background-color:rgba(135,206,250,0.0504799);\">'</span> <span style=\"background-color:rgba(135,206,250,0.10532367);\">s</span> <span style=\"background-color:rgba(135,206,250,0.13624302);\">a</span> <span style=\"background-color:rgba(135,206,250,0.07666463);\">waxy</span> <span style=\"background-color:rgba(135,206,250,0.15157714);\">,</span> <span style=\"background-color:rgba(135,206,250,0.10863541);\">racy</span> <span style=\"background-color:rgba(135,206,250,0.12571633);\">wine</span> <span style=\"background-color:rgba(135,206,250,0.2417247);\">,</span> <span style=\"background-color:rgba(135,206,250,0.3665691);\">with</span> <span style=\"background-color:rgba(135,206,250,0.37075078);\">a</span> <span style=\"background-color:rgba(135,206,250,0.21888402);\">delicate</span> <span style=\"background-color:rgba(135,206,250,0.52590907);\">,</span> <span style=\"background-color:rgba(135,206,250,0.30225125);\">ethereal</span> <span style=\"background-color:rgba(135,206,250,0.71238756);\">expression</span> <span style=\"background-color:rgba(135,206,250,0.6917262);\">of</span> <span style=\"background-color:rgba(135,206,250,1.0);\">the</span> <span style=\"background-color:rgba(135,206,250,0.18655443);\">mosel</span> <span style=\"background-color:rgba(135,206,250,0.49072486);\">riesling</span>"
      ],
      "text/plain": [
       "<IPython.core.display.HTML object>"
      ]
     },
     "metadata": {},
     "output_type": "display_data"
    },
    {
     "name": "stdout",
     "output_type": "stream",
     "text": [
      ",:   \t27.2%\n",
      "that:   \t21.88%\n",
      ".:   \t15.34%\n",
      "':   \t12.85%\n",
      "[UNK]:   \t4.92%\n",
      "--------\n",
      "\n"
     ]
    },
    {
     "data": {
      "text/html": [
       "<span style=\"background-color:rgba(135,206,250,0.030002229);\">wine</span> <span style=\"background-color:rgba(135,206,250,0.045420323);\">review</span> <span style=\"background-color:rgba(135,206,250,0.07523712);\">:</span> <span style=\"background-color:rgba(135,206,250,0.23416042);\">germany</span> <span style=\"background-color:rgba(135,206,250,0.04844393);\">:</span> <span style=\"background-color:rgba(135,206,250,0.09257875);\">mosel</span> <span style=\"background-color:rgba(135,206,250,0.036210097);\">:</span> <span style=\"background-color:rgba(135,206,250,0.07250957);\">riesling</span> <span style=\"background-color:rgba(135,206,250,0.049452603);\">:</span> <span style=\"background-color:rgba(135,206,250,0.021668749);\">a</span> <span style=\"background-color:rgba(135,206,250,0.016409261);\">touch</span> <span style=\"background-color:rgba(135,206,250,0.011690298);\">of</span> <span style=\"background-color:rgba(135,206,250,0.021386411);\">smoke</span> <span style=\"background-color:rgba(135,206,250,0.028220173);\">lends</span> <span style=\"background-color:rgba(135,206,250,0.024309406);\">complexity</span> <span style=\"background-color:rgba(135,206,250,0.010847999);\">to</span> <span style=\"background-color:rgba(135,206,250,0.016309468);\">this</span> <span style=\"background-color:rgba(135,206,250,0.020263886);\">dry</span> <span style=\"background-color:rgba(135,206,250,0.02689328);\">riesling</span> <span style=\"background-color:rgba(135,206,250,0.035521425);\">.</span> <span style=\"background-color:rgba(135,206,250,0.0149483355);\">it</span> <span style=\"background-color:rgba(135,206,250,0.009840289);\">'</span> <span style=\"background-color:rgba(135,206,250,0.015077995);\">s</span> <span style=\"background-color:rgba(135,206,250,0.013436329);\">a</span> <span style=\"background-color:rgba(135,206,250,0.021674056);\">delicately</span> <span style=\"background-color:rgba(135,206,250,0.0242565);\">framed</span> <span style=\"background-color:rgba(135,206,250,0.028814023);\">riesling</span> <span style=\"background-color:rgba(135,206,250,0.01742781);\">,</span> <span style=\"background-color:rgba(135,206,250,0.018745048);\">with</span> <span style=\"background-color:rgba(135,206,250,0.01697279);\">a</span> <span style=\"background-color:rgba(135,206,250,0.020942733);\">delicate</span> <span style=\"background-color:rgba(135,206,250,0.021386372);\">hint</span> <span style=\"background-color:rgba(135,206,250,0.013421922);\">of</span> <span style=\"background-color:rgba(135,206,250,0.047455933);\">petrol</span> <span style=\"background-color:rgba(135,206,250,0.054971736);\">.</span> <span style=\"background-color:rgba(135,206,250,0.021937983);\">it</span> <span style=\"background-color:rgba(135,206,250,0.016335856);\">'</span> <span style=\"background-color:rgba(135,206,250,0.027930843);\">s</span> <span style=\"background-color:rgba(135,206,250,0.024962036);\">a</span> <span style=\"background-color:rgba(135,206,250,0.052160546);\">waxy</span> <span style=\"background-color:rgba(135,206,250,0.03395016);\">,</span> <span style=\"background-color:rgba(135,206,250,0.047099788);\">racy</span> <span style=\"background-color:rgba(135,206,250,0.05819306);\">wine</span> <span style=\"background-color:rgba(135,206,250,0.047714118);\">,</span> <span style=\"background-color:rgba(135,206,250,0.060928274);\">with</span> <span style=\"background-color:rgba(135,206,250,0.08471523);\">a</span> <span style=\"background-color:rgba(135,206,250,0.07388178);\">delicate</span> <span style=\"background-color:rgba(135,206,250,0.08781006);\">,</span> <span style=\"background-color:rgba(135,206,250,0.19495186);\">ethereal</span> <span style=\"background-color:rgba(135,206,250,0.22105648);\">expression</span> <span style=\"background-color:rgba(135,206,250,0.19891027);\">of</span> <span style=\"background-color:rgba(135,206,250,0.17660716);\">the</span> <span style=\"background-color:rgba(135,206,250,0.18262416);\">mosel</span> <span style=\"background-color:rgba(135,206,250,1.0);\">riesling</span> <span style=\"background-color:rgba(135,206,250,0.26232952);\">that</span>"
      ],
      "text/plain": [
       "<IPython.core.display.HTML object>"
      ]
     },
     "metadata": {},
     "output_type": "display_data"
    },
    {
     "name": "stdout",
     "output_type": "stream",
     "text": [
      "':   \t84.63%\n",
      "is:   \t3.41%\n",
      "should:   \t3.31%\n",
      "extends:   \t2.64%\n",
      "finishes:   \t1.55%\n",
      "--------\n",
      "\n"
     ]
    },
    {
     "data": {
      "text/html": [
       "<span style=\"background-color:rgba(135,206,250,0.050100002);\">wine</span> <span style=\"background-color:rgba(135,206,250,0.07803417);\">review</span> <span style=\"background-color:rgba(135,206,250,0.07667945);\">:</span> <span style=\"background-color:rgba(135,206,250,0.13477151);\">germany</span> <span style=\"background-color:rgba(135,206,250,0.07333966);\">:</span> <span style=\"background-color:rgba(135,206,250,0.08763113);\">mosel</span> <span style=\"background-color:rgba(135,206,250,0.047329262);\">:</span> <span style=\"background-color:rgba(135,206,250,0.115987636);\">riesling</span> <span style=\"background-color:rgba(135,206,250,0.05732379);\">:</span> <span style=\"background-color:rgba(135,206,250,0.031626724);\">a</span> <span style=\"background-color:rgba(135,206,250,0.027202696);\">touch</span> <span style=\"background-color:rgba(135,206,250,0.021002954);\">of</span> <span style=\"background-color:rgba(135,206,250,0.023226118);\">smoke</span> <span style=\"background-color:rgba(135,206,250,0.025956906);\">lends</span> <span style=\"background-color:rgba(135,206,250,0.029894374);\">complexity</span> <span style=\"background-color:rgba(135,206,250,0.017755073);\">to</span> <span style=\"background-color:rgba(135,206,250,0.021550635);\">this</span> <span style=\"background-color:rgba(135,206,250,0.019947696);\">dry</span> <span style=\"background-color:rgba(135,206,250,0.03766427);\">riesling</span> <span style=\"background-color:rgba(135,206,250,0.042918704);\">.</span> <span style=\"background-color:rgba(135,206,250,0.023815589);\">it</span> <span style=\"background-color:rgba(135,206,250,0.012470963);\">'</span> <span style=\"background-color:rgba(135,206,250,0.015092962);\">s</span> <span style=\"background-color:rgba(135,206,250,0.019101303);\">a</span> <span style=\"background-color:rgba(135,206,250,0.018814024);\">delicately</span> <span style=\"background-color:rgba(135,206,250,0.028602539);\">framed</span> <span style=\"background-color:rgba(135,206,250,0.042495217);\">riesling</span> <span style=\"background-color:rgba(135,206,250,0.024625326);\">,</span> <span style=\"background-color:rgba(135,206,250,0.02621852);\">with</span> <span style=\"background-color:rgba(135,206,250,0.022402858);\">a</span> <span style=\"background-color:rgba(135,206,250,0.021342203);\">delicate</span> <span style=\"background-color:rgba(135,206,250,0.024701107);\">hint</span> <span style=\"background-color:rgba(135,206,250,0.0234268);\">of</span> <span style=\"background-color:rgba(135,206,250,0.03617537);\">petrol</span> <span style=\"background-color:rgba(135,206,250,0.06256766);\">.</span> <span style=\"background-color:rgba(135,206,250,0.035306025);\">it</span> <span style=\"background-color:rgba(135,206,250,0.01988841);\">'</span> <span style=\"background-color:rgba(135,206,250,0.025556803);\">s</span> <span style=\"background-color:rgba(135,206,250,0.029010586);\">a</span> <span style=\"background-color:rgba(135,206,250,0.040792566);\">waxy</span> <span style=\"background-color:rgba(135,206,250,0.04260795);\">,</span> <span style=\"background-color:rgba(135,206,250,0.029110732);\">racy</span> <span style=\"background-color:rgba(135,206,250,0.07220033);\">wine</span> <span style=\"background-color:rgba(135,206,250,0.055046163);\">,</span> <span style=\"background-color:rgba(135,206,250,0.05811014);\">with</span> <span style=\"background-color:rgba(135,206,250,0.049912028);\">a</span> <span style=\"background-color:rgba(135,206,250,0.05456351);\">delicate</span> <span style=\"background-color:rgba(135,206,250,0.09952509);\">,</span> <span style=\"background-color:rgba(135,206,250,0.11952436);\">ethereal</span> <span style=\"background-color:rgba(135,206,250,0.1710318);\">expression</span> <span style=\"background-color:rgba(135,206,250,0.107902505);\">of</span> <span style=\"background-color:rgba(135,206,250,0.27457932);\">the</span> <span style=\"background-color:rgba(135,206,250,0.21420904);\">mosel</span> <span style=\"background-color:rgba(135,206,250,0.6473948);\">riesling</span> <span style=\"background-color:rgba(135,206,250,1.0);\">that</span> <span style=\"background-color:rgba(135,206,250,0.15834041);\">'</span>"
      ],
      "text/plain": [
       "<IPython.core.display.HTML object>"
      ]
     },
     "metadata": {},
     "output_type": "display_data"
    },
    {
     "name": "stdout",
     "output_type": "stream",
     "text": [
      "s:   \t100.0%\n",
      "ll:   \t0.0%\n",
      "[UNK]:   \t0.0%\n",
      "riesling:   \t0.0%\n",
      "persists:   \t0.0%\n",
      "--------\n",
      "\n"
     ]
    },
    {
     "data": {
      "text/html": [
       "<span style=\"background-color:rgba(135,206,250,0.0497318);\">wine</span> <span style=\"background-color:rgba(135,206,250,0.07446985);\">review</span> <span style=\"background-color:rgba(135,206,250,0.08073129);\">:</span> <span style=\"background-color:rgba(135,206,250,0.27097803);\">germany</span> <span style=\"background-color:rgba(135,206,250,0.057594415);\">:</span> <span style=\"background-color:rgba(135,206,250,0.1573818);\">mosel</span> <span style=\"background-color:rgba(135,206,250,0.04647207);\">:</span> <span style=\"background-color:rgba(135,206,250,0.19047193);\">riesling</span> <span style=\"background-color:rgba(135,206,250,0.08296419);\">:</span> <span style=\"background-color:rgba(135,206,250,0.024252525);\">a</span> <span style=\"background-color:rgba(135,206,250,0.03329409);\">touch</span> <span style=\"background-color:rgba(135,206,250,0.018459808);\">of</span> <span style=\"background-color:rgba(135,206,250,0.03029853);\">smoke</span> <span style=\"background-color:rgba(135,206,250,0.027147977);\">lends</span> <span style=\"background-color:rgba(135,206,250,0.042870097);\">complexity</span> <span style=\"background-color:rgba(135,206,250,0.016560549);\">to</span> <span style=\"background-color:rgba(135,206,250,0.020158768);\">this</span> <span style=\"background-color:rgba(135,206,250,0.04233121);\">dry</span> <span style=\"background-color:rgba(135,206,250,0.05945203);\">riesling</span> <span style=\"background-color:rgba(135,206,250,0.04532026);\">.</span> <span style=\"background-color:rgba(135,206,250,0.014695933);\">it</span> <span style=\"background-color:rgba(135,206,250,0.010086302);\">'</span> <span style=\"background-color:rgba(135,206,250,0.018904636);\">s</span> <span style=\"background-color:rgba(135,206,250,0.013809475);\">a</span> <span style=\"background-color:rgba(135,206,250,0.050048698);\">delicately</span> <span style=\"background-color:rgba(135,206,250,0.041274358);\">framed</span> <span style=\"background-color:rgba(135,206,250,0.06290617);\">riesling</span> <span style=\"background-color:rgba(135,206,250,0.024485778);\">,</span> <span style=\"background-color:rgba(135,206,250,0.02953276);\">with</span> <span style=\"background-color:rgba(135,206,250,0.015942583);\">a</span> <span style=\"background-color:rgba(135,206,250,0.05031256);\">delicate</span> <span style=\"background-color:rgba(135,206,250,0.030255593);\">hint</span> <span style=\"background-color:rgba(135,206,250,0.017763162);\">of</span> <span style=\"background-color:rgba(135,206,250,0.07319457);\">petrol</span> <span style=\"background-color:rgba(135,206,250,0.06519236);\">.</span> <span style=\"background-color:rgba(135,206,250,0.020416506);\">it</span> <span style=\"background-color:rgba(135,206,250,0.015216463);\">'</span> <span style=\"background-color:rgba(135,206,250,0.027926518);\">s</span> <span style=\"background-color:rgba(135,206,250,0.020246709);\">a</span> <span style=\"background-color:rgba(135,206,250,0.07655339);\">waxy</span> <span style=\"background-color:rgba(135,206,250,0.042227138);\">,</span> <span style=\"background-color:rgba(135,206,250,0.09570904);\">racy</span> <span style=\"background-color:rgba(135,206,250,0.077642046);\">wine</span> <span style=\"background-color:rgba(135,206,250,0.06068946);\">,</span> <span style=\"background-color:rgba(135,206,250,0.07385794);\">with</span> <span style=\"background-color:rgba(135,206,250,0.040906973);\">a</span> <span style=\"background-color:rgba(135,206,250,0.1147441);\">delicate</span> <span style=\"background-color:rgba(135,206,250,0.12982628);\">,</span> <span style=\"background-color:rgba(135,206,250,0.23693813);\">ethereal</span> <span style=\"background-color:rgba(135,206,250,0.24029596);\">expression</span> <span style=\"background-color:rgba(135,206,250,0.15373318);\">of</span> <span style=\"background-color:rgba(135,206,250,0.22038154);\">the</span> <span style=\"background-color:rgba(135,206,250,0.21297024);\">mosel</span> <span style=\"background-color:rgba(135,206,250,0.7283324);\">riesling</span> <span style=\"background-color:rgba(135,206,250,1.0);\">that</span> <span style=\"background-color:rgba(135,206,250,0.30670822);\">'</span> <span style=\"background-color:rgba(135,206,250,0.36815828);\">s</span>"
      ],
      "text/plain": [
       "<IPython.core.display.HTML object>"
      ]
     },
     "metadata": {},
     "output_type": "display_data"
    },
    {
     "name": "stdout",
     "output_type": "stream",
     "text": [
      "a:   \t15.05%\n",
      "perfect:   \t14.49%\n",
      "refreshing:   \t9.01%\n",
      "feather:   \t5.52%\n",
      "accentuated:   \t3.39%\n",
      "--------\n",
      "\n"
     ]
    },
    {
     "data": {
      "text/html": [
       "<span style=\"background-color:rgba(135,206,250,0.022886645);\">wine</span> <span style=\"background-color:rgba(135,206,250,0.040921688);\">review</span> <span style=\"background-color:rgba(135,206,250,0.055889986);\">:</span> <span style=\"background-color:rgba(135,206,250,0.17915775);\">germany</span> <span style=\"background-color:rgba(135,206,250,0.047968727);\">:</span> <span style=\"background-color:rgba(135,206,250,0.092591204);\">mosel</span> <span style=\"background-color:rgba(135,206,250,0.044102743);\">:</span> <span style=\"background-color:rgba(135,206,250,0.17336854);\">riesling</span> <span style=\"background-color:rgba(135,206,250,0.052581348);\">:</span> <span style=\"background-color:rgba(135,206,250,0.022663997);\">a</span> <span style=\"background-color:rgba(135,206,250,0.019871293);\">touch</span> <span style=\"background-color:rgba(135,206,250,0.013464763);\">of</span> <span style=\"background-color:rgba(135,206,250,0.019420538);\">smoke</span> <span style=\"background-color:rgba(135,206,250,0.019039875);\">lends</span> <span style=\"background-color:rgba(135,206,250,0.013703616);\">complexity</span> <span style=\"background-color:rgba(135,206,250,0.007764454);\">to</span> <span style=\"background-color:rgba(135,206,250,0.009975846);\">this</span> <span style=\"background-color:rgba(135,206,250,0.016643617);\">dry</span> <span style=\"background-color:rgba(135,206,250,0.04698987);\">riesling</span> <span style=\"background-color:rgba(135,206,250,0.04186451);\">.</span> <span style=\"background-color:rgba(135,206,250,0.01670182);\">it</span> <span style=\"background-color:rgba(135,206,250,0.007221131);\">'</span> <span style=\"background-color:rgba(135,206,250,0.019216951);\">s</span> <span style=\"background-color:rgba(135,206,250,0.010097929);\">a</span> <span style=\"background-color:rgba(135,206,250,0.009648513);\">delicately</span> <span style=\"background-color:rgba(135,206,250,0.017581882);\">framed</span> <span style=\"background-color:rgba(135,206,250,0.051658843);\">riesling</span> <span style=\"background-color:rgba(135,206,250,0.016576763);\">,</span> <span style=\"background-color:rgba(135,206,250,0.009569912);\">with</span> <span style=\"background-color:rgba(135,206,250,0.012510749);\">a</span> <span style=\"background-color:rgba(135,206,250,0.011387089);\">delicate</span> <span style=\"background-color:rgba(135,206,250,0.017903065);\">hint</span> <span style=\"background-color:rgba(135,206,250,0.016484847);\">of</span> <span style=\"background-color:rgba(135,206,250,0.058523983);\">petrol</span> <span style=\"background-color:rgba(135,206,250,0.06588713);\">.</span> <span style=\"background-color:rgba(135,206,250,0.02860864);\">it</span> <span style=\"background-color:rgba(135,206,250,0.012865206);\">'</span> <span style=\"background-color:rgba(135,206,250,0.033024423);\">s</span> <span style=\"background-color:rgba(135,206,250,0.017083816);\">a</span> <span style=\"background-color:rgba(135,206,250,0.04082423);\">waxy</span> <span style=\"background-color:rgba(135,206,250,0.029561566);\">,</span> <span style=\"background-color:rgba(135,206,250,0.027637118);\">racy</span> <span style=\"background-color:rgba(135,206,250,0.03955484);\">wine</span> <span style=\"background-color:rgba(135,206,250,0.0353518);\">,</span> <span style=\"background-color:rgba(135,206,250,0.02663813);\">with</span> <span style=\"background-color:rgba(135,206,250,0.035935413);\">a</span> <span style=\"background-color:rgba(135,206,250,0.023963569);\">delicate</span> <span style=\"background-color:rgba(135,206,250,0.05159101);\">,</span> <span style=\"background-color:rgba(135,206,250,0.06242482);\">ethereal</span> <span style=\"background-color:rgba(135,206,250,0.09984396);\">expression</span> <span style=\"background-color:rgba(135,206,250,0.094647914);\">of</span> <span style=\"background-color:rgba(135,206,250,0.145452);\">the</span> <span style=\"background-color:rgba(135,206,250,0.056837063);\">mosel</span> <span style=\"background-color:rgba(135,206,250,0.37996405);\">riesling</span> <span style=\"background-color:rgba(135,206,250,0.4006659);\">that</span> <span style=\"background-color:rgba(135,206,250,0.10426821);\">'</span> <span style=\"background-color:rgba(135,206,250,1.0);\">s</span> <span style=\"background-color:rgba(135,206,250,0.25004226);\">penetrating</span>"
      ],
      "text/plain": [
       "<IPython.core.display.HTML object>"
      ]
     },
     "metadata": {},
     "output_type": "display_data"
    },
    {
     "name": "stdout",
     "output_type": "stream",
     "text": [
      "and:   \t73.02%\n",
      ",:   \t8.83%\n",
      "in:   \t8.76%\n",
      "with:   \t4.29%\n",
      "but:   \t2.5%\n",
      "--------\n",
      "\n"
     ]
    },
    {
     "data": {
      "text/html": [
       "<span style=\"background-color:rgba(135,206,250,0.06028772);\">wine</span> <span style=\"background-color:rgba(135,206,250,0.08700612);\">review</span> <span style=\"background-color:rgba(135,206,250,0.116892494);\">:</span> <span style=\"background-color:rgba(135,206,250,0.18960172);\">germany</span> <span style=\"background-color:rgba(135,206,250,0.07038002);\">:</span> <span style=\"background-color:rgba(135,206,250,0.124371);\">mosel</span> <span style=\"background-color:rgba(135,206,250,0.062629074);\">:</span> <span style=\"background-color:rgba(135,206,250,0.1438794);\">riesling</span> <span style=\"background-color:rgba(135,206,250,0.08375201);\">:</span> <span style=\"background-color:rgba(135,206,250,0.023657026);\">a</span> <span style=\"background-color:rgba(135,206,250,0.037783008);\">touch</span> <span style=\"background-color:rgba(135,206,250,0.026605014);\">of</span> <span style=\"background-color:rgba(135,206,250,0.030571982);\">smoke</span> <span style=\"background-color:rgba(135,206,250,0.050175097);\">lends</span> <span style=\"background-color:rgba(135,206,250,0.029783266);\">complexity</span> <span style=\"background-color:rgba(135,206,250,0.018552054);\">to</span> <span style=\"background-color:rgba(135,206,250,0.033974312);\">this</span> <span style=\"background-color:rgba(135,206,250,0.026885932);\">dry</span> <span style=\"background-color:rgba(135,206,250,0.041801378);\">riesling</span> <span style=\"background-color:rgba(135,206,250,0.057313513);\">.</span> <span style=\"background-color:rgba(135,206,250,0.029424593);\">it</span> <span style=\"background-color:rgba(135,206,250,0.014337616);\">'</span> <span style=\"background-color:rgba(135,206,250,0.025876954);\">s</span> <span style=\"background-color:rgba(135,206,250,0.01410831);\">a</span> <span style=\"background-color:rgba(135,206,250,0.021925628);\">delicately</span> <span style=\"background-color:rgba(135,206,250,0.032226343);\">framed</span> <span style=\"background-color:rgba(135,206,250,0.03929571);\">riesling</span> <span style=\"background-color:rgba(135,206,250,0.030180661);\">,</span> <span style=\"background-color:rgba(135,206,250,0.027816284);\">with</span> <span style=\"background-color:rgba(135,206,250,0.016317789);\">a</span> <span style=\"background-color:rgba(135,206,250,0.017076219);\">delicate</span> <span style=\"background-color:rgba(135,206,250,0.042305697);\">hint</span> <span style=\"background-color:rgba(135,206,250,0.028473463);\">of</span> <span style=\"background-color:rgba(135,206,250,0.040411767);\">petrol</span> <span style=\"background-color:rgba(135,206,250,0.07494596);\">.</span> <span style=\"background-color:rgba(135,206,250,0.032937642);\">it</span> <span style=\"background-color:rgba(135,206,250,0.021210205);\">'</span> <span style=\"background-color:rgba(135,206,250,0.038048513);\">s</span> <span style=\"background-color:rgba(135,206,250,0.01975557);\">a</span> <span style=\"background-color:rgba(135,206,250,0.05160366);\">waxy</span> <span style=\"background-color:rgba(135,206,250,0.050221134);\">,</span> <span style=\"background-color:rgba(135,206,250,0.038278904);\">racy</span> <span style=\"background-color:rgba(135,206,250,0.05331993);\">wine</span> <span style=\"background-color:rgba(135,206,250,0.06561656);\">,</span> <span style=\"background-color:rgba(135,206,250,0.05722462);\">with</span> <span style=\"background-color:rgba(135,206,250,0.0382888);\">a</span> <span style=\"background-color:rgba(135,206,250,0.057444654);\">delicate</span> <span style=\"background-color:rgba(135,206,250,0.091301076);\">,</span> <span style=\"background-color:rgba(135,206,250,0.10642913);\">ethereal</span> <span style=\"background-color:rgba(135,206,250,0.10676906);\">expression</span> <span style=\"background-color:rgba(135,206,250,0.08725949);\">of</span> <span style=\"background-color:rgba(135,206,250,0.20302479);\">the</span> <span style=\"background-color:rgba(135,206,250,0.14934665);\">mosel</span> <span style=\"background-color:rgba(135,206,250,0.33476055);\">riesling</span> <span style=\"background-color:rgba(135,206,250,0.35475242);\">that</span> <span style=\"background-color:rgba(135,206,250,0.13384056);\">'</span> <span style=\"background-color:rgba(135,206,250,0.48422006);\">s</span> <span style=\"background-color:rgba(135,206,250,1.0);\">penetrating</span> <span style=\"background-color:rgba(135,206,250,0.3034047);\">on</span>"
      ],
      "text/plain": [
       "<IPython.core.display.HTML object>"
      ]
     },
     "metadata": {},
     "output_type": "display_data"
    },
    {
     "name": "stdout",
     "output_type": "stream",
     "text": [
      "the:   \t99.68%\n",
      "its:   \t0.29%\n",
      "a:   \t0.02%\n",
      "fruit:   \t0.0%\n",
      "elegance:   \t0.0%\n",
      "--------\n",
      "\n"
     ]
    },
    {
     "data": {
      "text/html": [
       "<span style=\"background-color:rgba(135,206,250,0.03032628);\">wine</span> <span style=\"background-color:rgba(135,206,250,0.049492303);\">review</span> <span style=\"background-color:rgba(135,206,250,0.05449278);\">:</span> <span style=\"background-color:rgba(135,206,250,0.21556573);\">germany</span> <span style=\"background-color:rgba(135,206,250,0.028024519);\">:</span> <span style=\"background-color:rgba(135,206,250,0.1632745);\">mosel</span> <span style=\"background-color:rgba(135,206,250,0.030708466);\">:</span> <span style=\"background-color:rgba(135,206,250,0.1624436);\">riesling</span> <span style=\"background-color:rgba(135,206,250,0.048992507);\">:</span> <span style=\"background-color:rgba(135,206,250,0.015689963);\">a</span> <span style=\"background-color:rgba(135,206,250,0.029054157);\">touch</span> <span style=\"background-color:rgba(135,206,250,0.012709438);\">of</span> <span style=\"background-color:rgba(135,206,250,0.0270319);\">smoke</span> <span style=\"background-color:rgba(135,206,250,0.021665482);\">lends</span> <span style=\"background-color:rgba(135,206,250,0.032495346);\">complexity</span> <span style=\"background-color:rgba(135,206,250,0.010103631);\">to</span> <span style=\"background-color:rgba(135,206,250,0.015352131);\">this</span> <span style=\"background-color:rgba(135,206,250,0.03027557);\">dry</span> <span style=\"background-color:rgba(135,206,250,0.042556413);\">riesling</span> <span style=\"background-color:rgba(135,206,250,0.031525858);\">.</span> <span style=\"background-color:rgba(135,206,250,0.011822723);\">it</span> <span style=\"background-color:rgba(135,206,250,0.006031829);\">'</span> <span style=\"background-color:rgba(135,206,250,0.014246782);\">s</span> <span style=\"background-color:rgba(135,206,250,0.008240819);\">a</span> <span style=\"background-color:rgba(135,206,250,0.02571548);\">delicately</span> <span style=\"background-color:rgba(135,206,250,0.030017972);\">framed</span> <span style=\"background-color:rgba(135,206,250,0.041753966);\">riesling</span> <span style=\"background-color:rgba(135,206,250,0.015543571);\">,</span> <span style=\"background-color:rgba(135,206,250,0.013028514);\">with</span> <span style=\"background-color:rgba(135,206,250,0.009628036);\">a</span> <span style=\"background-color:rgba(135,206,250,0.026301306);\">delicate</span> <span style=\"background-color:rgba(135,206,250,0.023415454);\">hint</span> <span style=\"background-color:rgba(135,206,250,0.011214513);\">of</span> <span style=\"background-color:rgba(135,206,250,0.05943894);\">petrol</span> <span style=\"background-color:rgba(135,206,250,0.042128537);\">.</span> <span style=\"background-color:rgba(135,206,250,0.0141484225);\">it</span> <span style=\"background-color:rgba(135,206,250,0.008251035);\">'</span> <span style=\"background-color:rgba(135,206,250,0.019983545);\">s</span> <span style=\"background-color:rgba(135,206,250,0.010929268);\">a</span> <span style=\"background-color:rgba(135,206,250,0.058624815);\">waxy</span> <span style=\"background-color:rgba(135,206,250,0.024364708);\">,</span> <span style=\"background-color:rgba(135,206,250,0.05933222);\">racy</span> <span style=\"background-color:rgba(135,206,250,0.038690493);\">wine</span> <span style=\"background-color:rgba(135,206,250,0.02965661);\">,</span> <span style=\"background-color:rgba(135,206,250,0.024303332);\">with</span> <span style=\"background-color:rgba(135,206,250,0.015532947);\">a</span> <span style=\"background-color:rgba(135,206,250,0.050257254);\">delicate</span> <span style=\"background-color:rgba(135,206,250,0.043290976);\">,</span> <span style=\"background-color:rgba(135,206,250,0.102600865);\">ethereal</span> <span style=\"background-color:rgba(135,206,250,0.11403074);\">expression</span> <span style=\"background-color:rgba(135,206,250,0.040037);\">of</span> <span style=\"background-color:rgba(135,206,250,0.023806274);\">the</span> <span style=\"background-color:rgba(135,206,250,0.07394246);\">mosel</span> <span style=\"background-color:rgba(135,206,250,0.21057937);\">riesling</span> <span style=\"background-color:rgba(135,206,250,0.19078907);\">that</span> <span style=\"background-color:rgba(135,206,250,0.048935793);\">'</span> <span style=\"background-color:rgba(135,206,250,0.3487307);\">s</span> <span style=\"background-color:rgba(135,206,250,0.58876956);\">penetrating</span> <span style=\"background-color:rgba(135,206,250,1.0);\">on</span> <span style=\"background-color:rgba(135,206,250,0.20422196);\">the</span>"
      ],
      "text/plain": [
       "<IPython.core.display.HTML object>"
      ]
     },
     "metadata": {},
     "output_type": "display_data"
    },
    {
     "name": "stdout",
     "output_type": "stream",
     "text": [
      "palate:   \t99.06%\n",
      "finish:   \t0.82%\n",
      "tongue:   \t0.1%\n",
      "sip:   \t0.01%\n",
      "midpalate:   \t0.01%\n",
      "--------\n",
      "\n"
     ]
    },
    {
     "data": {
      "text/html": [
       "<span style=\"background-color:rgba(135,206,250,0.025149206);\">wine</span> <span style=\"background-color:rgba(135,206,250,0.07000058);\">review</span> <span style=\"background-color:rgba(135,206,250,0.081711054);\">:</span> <span style=\"background-color:rgba(135,206,250,0.20258088);\">germany</span> <span style=\"background-color:rgba(135,206,250,0.046535354);\">:</span> <span style=\"background-color:rgba(135,206,250,0.044969972);\">mosel</span> <span style=\"background-color:rgba(135,206,250,0.033214744);\">:</span> <span style=\"background-color:rgba(135,206,250,0.047565896);\">riesling</span> <span style=\"background-color:rgba(135,206,250,0.044518452);\">:</span> <span style=\"background-color:rgba(135,206,250,0.016847294);\">a</span> <span style=\"background-color:rgba(135,206,250,0.013376251);\">touch</span> <span style=\"background-color:rgba(135,206,250,0.011867566);\">of</span> <span style=\"background-color:rgba(135,206,250,0.009437732);\">smoke</span> <span style=\"background-color:rgba(135,206,250,0.0271759);\">lends</span> <span style=\"background-color:rgba(135,206,250,0.017810114);\">complexity</span> <span style=\"background-color:rgba(135,206,250,0.008595746);\">to</span> <span style=\"background-color:rgba(135,206,250,0.01265386);\">this</span> <span style=\"background-color:rgba(135,206,250,0.012871024);\">dry</span> <span style=\"background-color:rgba(135,206,250,0.019475987);\">riesling</span> <span style=\"background-color:rgba(135,206,250,0.04702109);\">.</span> <span style=\"background-color:rgba(135,206,250,0.018239642);\">it</span> <span style=\"background-color:rgba(135,206,250,0.0062484564);\">'</span> <span style=\"background-color:rgba(135,206,250,0.01889525);\">s</span> <span style=\"background-color:rgba(135,206,250,0.01136665);\">a</span> <span style=\"background-color:rgba(135,206,250,0.016257977);\">delicately</span> <span style=\"background-color:rgba(135,206,250,0.017053302);\">framed</span> <span style=\"background-color:rgba(135,206,250,0.023629207);\">riesling</span> <span style=\"background-color:rgba(135,206,250,0.015982782);\">,</span> <span style=\"background-color:rgba(135,206,250,0.02775648);\">with</span> <span style=\"background-color:rgba(135,206,250,0.016677178);\">a</span> <span style=\"background-color:rgba(135,206,250,0.015736066);\">delicate</span> <span style=\"background-color:rgba(135,206,250,0.019174097);\">hint</span> <span style=\"background-color:rgba(135,206,250,0.018582277);\">of</span> <span style=\"background-color:rgba(135,206,250,0.039817575);\">petrol</span> <span style=\"background-color:rgba(135,206,250,0.09435017);\">.</span> <span style=\"background-color:rgba(135,206,250,0.035763696);\">it</span> <span style=\"background-color:rgba(135,206,250,0.014530515);\">'</span> <span style=\"background-color:rgba(135,206,250,0.043486826);\">s</span> <span style=\"background-color:rgba(135,206,250,0.025942817);\">a</span> <span style=\"background-color:rgba(135,206,250,0.043225262);\">waxy</span> <span style=\"background-color:rgba(135,206,250,0.035163324);\">,</span> <span style=\"background-color:rgba(135,206,250,0.034995276);\">racy</span> <span style=\"background-color:rgba(135,206,250,0.039937284);\">wine</span> <span style=\"background-color:rgba(135,206,250,0.043462515);\">,</span> <span style=\"background-color:rgba(135,206,250,0.07322089);\">with</span> <span style=\"background-color:rgba(135,206,250,0.04789478);\">a</span> <span style=\"background-color:rgba(135,206,250,0.043962188);\">delicate</span> <span style=\"background-color:rgba(135,206,250,0.06665154);\">,</span> <span style=\"background-color:rgba(135,206,250,0.09398507);\">ethereal</span> <span style=\"background-color:rgba(135,206,250,0.12927425);\">expression</span> <span style=\"background-color:rgba(135,206,250,0.07766429);\">of</span> <span style=\"background-color:rgba(135,206,250,0.07787964);\">the</span> <span style=\"background-color:rgba(135,206,250,0.054591417);\">mosel</span> <span style=\"background-color:rgba(135,206,250,0.14088568);\">riesling</span> <span style=\"background-color:rgba(135,206,250,0.16673708);\">that</span> <span style=\"background-color:rgba(135,206,250,0.067515895);\">'</span> <span style=\"background-color:rgba(135,206,250,0.40127322);\">s</span> <span style=\"background-color:rgba(135,206,250,0.27362925);\">penetrating</span> <span style=\"background-color:rgba(135,206,250,1.0);\">on</span> <span style=\"background-color:rgba(135,206,250,0.46293762);\">the</span> <span style=\"background-color:rgba(135,206,250,0.42995164);\">palate</span>"
      ],
      "text/plain": [
       "<IPython.core.display.HTML object>"
      ]
     },
     "metadata": {},
     "output_type": "display_data"
    },
    {
     "name": "stdout",
     "output_type": "stream",
     "text": [
      ",:   \t85.31%\n",
      ".:   \t10.24%\n",
      "with:   \t2.39%\n",
      "and:   \t0.86%\n",
      "yet:   \t0.69%\n",
      "--------\n",
      "\n"
     ]
    },
    {
     "data": {
      "text/html": [
       "<span style=\"background-color:rgba(135,206,250,0.017534686);\">wine</span> <span style=\"background-color:rgba(135,206,250,0.037553567);\">review</span> <span style=\"background-color:rgba(135,206,250,0.03415979);\">:</span> <span style=\"background-color:rgba(135,206,250,0.18742026);\">germany</span> <span style=\"background-color:rgba(135,206,250,0.025611516);\">:</span> <span style=\"background-color:rgba(135,206,250,0.073522724);\">mosel</span> <span style=\"background-color:rgba(135,206,250,0.02584093);\">:</span> <span style=\"background-color:rgba(135,206,250,0.11951545);\">riesling</span> <span style=\"background-color:rgba(135,206,250,0.04202225);\">:</span> <span style=\"background-color:rgba(135,206,250,0.017019765);\">a</span> <span style=\"background-color:rgba(135,206,250,0.024290157);\">touch</span> <span style=\"background-color:rgba(135,206,250,0.011271071);\">of</span> <span style=\"background-color:rgba(135,206,250,0.017383622);\">smoke</span> <span style=\"background-color:rgba(135,206,250,0.04697398);\">lends</span> <span style=\"background-color:rgba(135,206,250,0.013853018);\">complexity</span> <span style=\"background-color:rgba(135,206,250,0.010445318);\">to</span> <span style=\"background-color:rgba(135,206,250,0.021489542);\">this</span> <span style=\"background-color:rgba(135,206,250,0.018426739);\">dry</span> <span style=\"background-color:rgba(135,206,250,0.033408508);\">riesling</span> <span style=\"background-color:rgba(135,206,250,0.03906346);\">.</span> <span style=\"background-color:rgba(135,206,250,0.031121382);\">it</span> <span style=\"background-color:rgba(135,206,250,0.0046711583);\">'</span> <span style=\"background-color:rgba(135,206,250,0.02190591);\">s</span> <span style=\"background-color:rgba(135,206,250,0.008644383);\">a</span> <span style=\"background-color:rgba(135,206,250,0.020922383);\">delicately</span> <span style=\"background-color:rgba(135,206,250,0.023958612);\">framed</span> <span style=\"background-color:rgba(135,206,250,0.0350228);\">riesling</span> <span style=\"background-color:rgba(135,206,250,0.012233003);\">,</span> <span style=\"background-color:rgba(135,206,250,0.029294772);\">with</span> <span style=\"background-color:rgba(135,206,250,0.011341465);\">a</span> <span style=\"background-color:rgba(135,206,250,0.019645303);\">delicate</span> <span style=\"background-color:rgba(135,206,250,0.021415023);\">hint</span> <span style=\"background-color:rgba(135,206,250,0.011956008);\">of</span> <span style=\"background-color:rgba(135,206,250,0.05386172);\">petrol</span> <span style=\"background-color:rgba(135,206,250,0.065187216);\">.</span> <span style=\"background-color:rgba(135,206,250,0.046939004);\">it</span> <span style=\"background-color:rgba(135,206,250,0.008821495);\">'</span> <span style=\"background-color:rgba(135,206,250,0.038502928);\">s</span> <span style=\"background-color:rgba(135,206,250,0.015799427);\">a</span> <span style=\"background-color:rgba(135,206,250,0.045522165);\">waxy</span> <span style=\"background-color:rgba(135,206,250,0.021553885);\">,</span> <span style=\"background-color:rgba(135,206,250,0.05169536);\">racy</span> <span style=\"background-color:rgba(135,206,250,0.03748753);\">wine</span> <span style=\"background-color:rgba(135,206,250,0.02553476);\">,</span> <span style=\"background-color:rgba(135,206,250,0.05708246);\">with</span> <span style=\"background-color:rgba(135,206,250,0.021862987);\">a</span> <span style=\"background-color:rgba(135,206,250,0.041712414);\">delicate</span> <span style=\"background-color:rgba(135,206,250,0.03055343);\">,</span> <span style=\"background-color:rgba(135,206,250,0.07609398);\">ethereal</span> <span style=\"background-color:rgba(135,206,250,0.10139012);\">expression</span> <span style=\"background-color:rgba(135,206,250,0.034791715);\">of</span> <span style=\"background-color:rgba(135,206,250,0.04282457);\">the</span> <span style=\"background-color:rgba(135,206,250,0.048017357);\">mosel</span> <span style=\"background-color:rgba(135,206,250,0.15607737);\">riesling</span> <span style=\"background-color:rgba(135,206,250,0.11170838);\">that</span> <span style=\"background-color:rgba(135,206,250,0.02417745);\">'</span> <span style=\"background-color:rgba(135,206,250,0.23543075);\">s</span> <span style=\"background-color:rgba(135,206,250,0.26035884);\">penetrating</span> <span style=\"background-color:rgba(135,206,250,0.43689367);\">on</span> <span style=\"background-color:rgba(135,206,250,0.36692625);\">the</span> <span style=\"background-color:rgba(135,206,250,1.0);\">palate</span> <span style=\"background-color:rgba(135,206,250,0.4015313);\">,</span>"
      ],
      "text/plain": [
       "<IPython.core.display.HTML object>"
      ]
     },
     "metadata": {},
     "output_type": "display_data"
    },
    {
     "name": "stdout",
     "output_type": "stream",
     "text": [
      "with:   \t72.38%\n",
      "but:   \t22.4%\n",
      "yet:   \t3.81%\n",
      "finishing:   \t0.5%\n",
      "where:   \t0.28%\n",
      "--------\n",
      "\n"
     ]
    },
    {
     "data": {
      "text/html": [
       "<span style=\"background-color:rgba(135,206,250,0.03390936);\">wine</span> <span style=\"background-color:rgba(135,206,250,0.045998707);\">review</span> <span style=\"background-color:rgba(135,206,250,0.07617897);\">:</span> <span style=\"background-color:rgba(135,206,250,0.28689566);\">germany</span> <span style=\"background-color:rgba(135,206,250,0.046128653);\">:</span> <span style=\"background-color:rgba(135,206,250,0.16984205);\">mosel</span> <span style=\"background-color:rgba(135,206,250,0.04274501);\">:</span> <span style=\"background-color:rgba(135,206,250,0.2006712);\">riesling</span> <span style=\"background-color:rgba(135,206,250,0.06846448);\">:</span> <span style=\"background-color:rgba(135,206,250,0.028257381);\">a</span> <span style=\"background-color:rgba(135,206,250,0.02966111);\">touch</span> <span style=\"background-color:rgba(135,206,250,0.014824981);\">of</span> <span style=\"background-color:rgba(135,206,250,0.04037214);\">smoke</span> <span style=\"background-color:rgba(135,206,250,0.021419443);\">lends</span> <span style=\"background-color:rgba(135,206,250,0.04492446);\">complexity</span> <span style=\"background-color:rgba(135,206,250,0.0129361);\">to</span> <span style=\"background-color:rgba(135,206,250,0.017304022);\">this</span> <span style=\"background-color:rgba(135,206,250,0.03390308);\">dry</span> <span style=\"background-color:rgba(135,206,250,0.063106775);\">riesling</span> <span style=\"background-color:rgba(135,206,250,0.035279978);\">.</span> <span style=\"background-color:rgba(135,206,250,0.012649856);\">it</span> <span style=\"background-color:rgba(135,206,250,0.00875039);\">'</span> <span style=\"background-color:rgba(135,206,250,0.019056449);\">s</span> <span style=\"background-color:rgba(135,206,250,0.012533185);\">a</span> <span style=\"background-color:rgba(135,206,250,0.03793226);\">delicately</span> <span style=\"background-color:rgba(135,206,250,0.023040889);\">framed</span> <span style=\"background-color:rgba(135,206,250,0.055280868);\">riesling</span> <span style=\"background-color:rgba(135,206,250,0.018715365);\">,</span> <span style=\"background-color:rgba(135,206,250,0.011131827);\">with</span> <span style=\"background-color:rgba(135,206,250,0.014296244);\">a</span> <span style=\"background-color:rgba(135,206,250,0.030200718);\">delicate</span> <span style=\"background-color:rgba(135,206,250,0.021162115);\">hint</span> <span style=\"background-color:rgba(135,206,250,0.011459955);\">of</span> <span style=\"background-color:rgba(135,206,250,0.073005594);\">petrol</span> <span style=\"background-color:rgba(135,206,250,0.042185355);\">.</span> <span style=\"background-color:rgba(135,206,250,0.014980507);\">it</span> <span style=\"background-color:rgba(135,206,250,0.011130541);\">'</span> <span style=\"background-color:rgba(135,206,250,0.025186261);\">s</span> <span style=\"background-color:rgba(135,206,250,0.016180938);\">a</span> <span style=\"background-color:rgba(135,206,250,0.06901768);\">waxy</span> <span style=\"background-color:rgba(135,206,250,0.0285843);\">,</span> <span style=\"background-color:rgba(135,206,250,0.06271452);\">racy</span> <span style=\"background-color:rgba(135,206,250,0.031676613);\">wine</span> <span style=\"background-color:rgba(135,206,250,0.03318296);\">,</span> <span style=\"background-color:rgba(135,206,250,0.017928451);\">with</span> <span style=\"background-color:rgba(135,206,250,0.021689318);\">a</span> <span style=\"background-color:rgba(135,206,250,0.05091926);\">delicate</span> <span style=\"background-color:rgba(135,206,250,0.04263431);\">,</span> <span style=\"background-color:rgba(135,206,250,0.10902935);\">ethereal</span> <span style=\"background-color:rgba(135,206,250,0.08703845);\">expression</span> <span style=\"background-color:rgba(135,206,250,0.025040688);\">of</span> <span style=\"background-color:rgba(135,206,250,0.035104416);\">the</span> <span style=\"background-color:rgba(135,206,250,0.06493843);\">mosel</span> <span style=\"background-color:rgba(135,206,250,0.13720025);\">riesling</span> <span style=\"background-color:rgba(135,206,250,0.09121701);\">that</span> <span style=\"background-color:rgba(135,206,250,0.032782316);\">'</span> <span style=\"background-color:rgba(135,206,250,0.1125754);\">s</span> <span style=\"background-color:rgba(135,206,250,0.38376263);\">penetrating</span> <span style=\"background-color:rgba(135,206,250,0.1576296);\">on</span> <span style=\"background-color:rgba(135,206,250,0.22839095);\">the</span> <span style=\"background-color:rgba(135,206,250,1.0);\">palate</span> <span style=\"background-color:rgba(135,206,250,0.87583846);\">,</span> <span style=\"background-color:rgba(135,206,250,0.39553288);\">with</span>"
      ],
      "text/plain": [
       "<IPython.core.display.HTML object>"
      ]
     },
     "metadata": {},
     "output_type": "display_data"
    },
    {
     "name": "stdout",
     "output_type": "stream",
     "text": [
      "a:   \t83.53%\n",
      "lime:   \t4.72%\n",
      "loads:   \t1.28%\n",
      "sweet:   \t1.24%\n",
      "bracing:   \t0.94%\n",
      "--------\n",
      "\n"
     ]
    },
    {
     "data": {
      "text/html": [
       "<span style=\"background-color:rgba(135,206,250,0.0418162);\">wine</span> <span style=\"background-color:rgba(135,206,250,0.05510786);\">review</span> <span style=\"background-color:rgba(135,206,250,0.07975287);\">:</span> <span style=\"background-color:rgba(135,206,250,0.34440786);\">germany</span> <span style=\"background-color:rgba(135,206,250,0.046282656);\">:</span> <span style=\"background-color:rgba(135,206,250,0.21044949);\">mosel</span> <span style=\"background-color:rgba(135,206,250,0.0384052);\">:</span> <span style=\"background-color:rgba(135,206,250,0.17788914);\">riesling</span> <span style=\"background-color:rgba(135,206,250,0.0695482);\">:</span> <span style=\"background-color:rgba(135,206,250,0.01599823);\">a</span> <span style=\"background-color:rgba(135,206,250,0.028116494);\">touch</span> <span style=\"background-color:rgba(135,206,250,0.016851177);\">of</span> <span style=\"background-color:rgba(135,206,250,0.032732155);\">smoke</span> <span style=\"background-color:rgba(135,206,250,0.022390824);\">lends</span> <span style=\"background-color:rgba(135,206,250,0.039916962);\">complexity</span> <span style=\"background-color:rgba(135,206,250,0.011865981);\">to</span> <span style=\"background-color:rgba(135,206,250,0.01546434);\">this</span> <span style=\"background-color:rgba(135,206,250,0.037004452);\">dry</span> <span style=\"background-color:rgba(135,206,250,0.054076392);\">riesling</span> <span style=\"background-color:rgba(135,206,250,0.036071695);\">.</span> <span style=\"background-color:rgba(135,206,250,0.009384195);\">it</span> <span style=\"background-color:rgba(135,206,250,0.009792888);\">'</span> <span style=\"background-color:rgba(135,206,250,0.015671616);\">s</span> <span style=\"background-color:rgba(135,206,250,0.007880015);\">a</span> <span style=\"background-color:rgba(135,206,250,0.03386203);\">delicately</span> <span style=\"background-color:rgba(135,206,250,0.034201223);\">framed</span> <span style=\"background-color:rgba(135,206,250,0.050016962);\">riesling</span> <span style=\"background-color:rgba(135,206,250,0.016251652);\">,</span> <span style=\"background-color:rgba(135,206,250,0.01415205);\">with</span> <span style=\"background-color:rgba(135,206,250,0.008578013);\">a</span> <span style=\"background-color:rgba(135,206,250,0.031286232);\">delicate</span> <span style=\"background-color:rgba(135,206,250,0.022393439);\">hint</span> <span style=\"background-color:rgba(135,206,250,0.012849863);\">of</span> <span style=\"background-color:rgba(135,206,250,0.06457277);\">petrol</span> <span style=\"background-color:rgba(135,206,250,0.04294586);\">.</span> <span style=\"background-color:rgba(135,206,250,0.01011366);\">it</span> <span style=\"background-color:rgba(135,206,250,0.012118306);\">'</span> <span style=\"background-color:rgba(135,206,250,0.01977064);\">s</span> <span style=\"background-color:rgba(135,206,250,0.00929727);\">a</span> <span style=\"background-color:rgba(135,206,250,0.06042781);\">waxy</span> <span style=\"background-color:rgba(135,206,250,0.023193493);\">,</span> <span style=\"background-color:rgba(135,206,250,0.08547055);\">racy</span> <span style=\"background-color:rgba(135,206,250,0.039704334);\">wine</span> <span style=\"background-color:rgba(135,206,250,0.02706718);\">,</span> <span style=\"background-color:rgba(135,206,250,0.021786474);\">with</span> <span style=\"background-color:rgba(135,206,250,0.011542335);\">a</span> <span style=\"background-color:rgba(135,206,250,0.05044803);\">delicate</span> <span style=\"background-color:rgba(135,206,250,0.030895397);\">,</span> <span style=\"background-color:rgba(135,206,250,0.102740854);\">ethereal</span> <span style=\"background-color:rgba(135,206,250,0.089953564);\">expression</span> <span style=\"background-color:rgba(135,206,250,0.027519692);\">of</span> <span style=\"background-color:rgba(135,206,250,0.026586015);\">the</span> <span style=\"background-color:rgba(135,206,250,0.06299624);\">mosel</span> <span style=\"background-color:rgba(135,206,250,0.1335841);\">riesling</span> <span style=\"background-color:rgba(135,206,250,0.073723145);\">that</span> <span style=\"background-color:rgba(135,206,250,0.02811884);\">'</span> <span style=\"background-color:rgba(135,206,250,0.10853397);\">s</span> <span style=\"background-color:rgba(135,206,250,0.31539616);\">penetrating</span> <span style=\"background-color:rgba(135,206,250,0.2781968);\">on</span> <span style=\"background-color:rgba(135,206,250,0.15439223);\">the</span> <span style=\"background-color:rgba(135,206,250,0.64644015);\">palate</span> <span style=\"background-color:rgba(135,206,250,0.6950855);\">,</span> <span style=\"background-color:rgba(135,206,250,1.0);\">with</span> <span style=\"background-color:rgba(135,206,250,0.2838834);\">a</span>"
      ],
      "text/plain": [
       "<IPython.core.display.HTML object>"
      ]
     },
     "metadata": {},
     "output_type": "display_data"
    },
    {
     "name": "stdout",
     "output_type": "stream",
     "text": [
      "long:   \t63.92%\n",
      "lingering:   \t19.5%\n",
      "kiss:   \t3.77%\n",
      "slick:   \t1.36%\n",
      "steely:   \t1.09%\n",
      "--------\n",
      "\n"
     ]
    },
    {
     "data": {
      "text/html": [
       "<span style=\"background-color:rgba(135,206,250,0.06069386);\">wine</span> <span style=\"background-color:rgba(135,206,250,0.09371161);\">review</span> <span style=\"background-color:rgba(135,206,250,0.15163474);\">:</span> <span style=\"background-color:rgba(135,206,250,0.2738322);\">germany</span> <span style=\"background-color:rgba(135,206,250,0.10776336);\">:</span> <span style=\"background-color:rgba(135,206,250,0.10490492);\">mosel</span> <span style=\"background-color:rgba(135,206,250,0.072568625);\">:</span> <span style=\"background-color:rgba(135,206,250,0.085619375);\">riesling</span> <span style=\"background-color:rgba(135,206,250,0.063827045);\">:</span> <span style=\"background-color:rgba(135,206,250,0.027388524);\">a</span> <span style=\"background-color:rgba(135,206,250,0.022025142);\">touch</span> <span style=\"background-color:rgba(135,206,250,0.025829237);\">of</span> <span style=\"background-color:rgba(135,206,250,0.023489092);\">smoke</span> <span style=\"background-color:rgba(135,206,250,0.024142494);\">lends</span> <span style=\"background-color:rgba(135,206,250,0.035025354);\">complexity</span> <span style=\"background-color:rgba(135,206,250,0.014664638);\">to</span> <span style=\"background-color:rgba(135,206,250,0.020194001);\">this</span> <span style=\"background-color:rgba(135,206,250,0.023275051);\">dry</span> <span style=\"background-color:rgba(135,206,250,0.035271335);\">riesling</span> <span style=\"background-color:rgba(135,206,250,0.03817499);\">.</span> <span style=\"background-color:rgba(135,206,250,0.012328013);\">it</span> <span style=\"background-color:rgba(135,206,250,0.019251522);\">'</span> <span style=\"background-color:rgba(135,206,250,0.023242552);\">s</span> <span style=\"background-color:rgba(135,206,250,0.019210912);\">a</span> <span style=\"background-color:rgba(135,206,250,0.01855923);\">delicately</span> <span style=\"background-color:rgba(135,206,250,0.02141072);\">framed</span> <span style=\"background-color:rgba(135,206,250,0.034665633);\">riesling</span> <span style=\"background-color:rgba(135,206,250,0.027465604);\">,</span> <span style=\"background-color:rgba(135,206,250,0.015880002);\">with</span> <span style=\"background-color:rgba(135,206,250,0.021226713);\">a</span> <span style=\"background-color:rgba(135,206,250,0.016265035);\">delicate</span> <span style=\"background-color:rgba(135,206,250,0.024501398);\">hint</span> <span style=\"background-color:rgba(135,206,250,0.02819705);\">of</span> <span style=\"background-color:rgba(135,206,250,0.04881329);\">petrol</span> <span style=\"background-color:rgba(135,206,250,0.04945779);\">.</span> <span style=\"background-color:rgba(135,206,250,0.015188358);\">it</span> <span style=\"background-color:rgba(135,206,250,0.026319021);\">'</span> <span style=\"background-color:rgba(135,206,250,0.034305897);\">s</span> <span style=\"background-color:rgba(135,206,250,0.024250839);\">a</span> <span style=\"background-color:rgba(135,206,250,0.037905805);\">waxy</span> <span style=\"background-color:rgba(135,206,250,0.042703792);\">,</span> <span style=\"background-color:rgba(135,206,250,0.028211033);\">racy</span> <span style=\"background-color:rgba(135,206,250,0.03518883);\">wine</span> <span style=\"background-color:rgba(135,206,250,0.048372183);\">,</span> <span style=\"background-color:rgba(135,206,250,0.02604268);\">with</span> <span style=\"background-color:rgba(135,206,250,0.033026356);\">a</span> <span style=\"background-color:rgba(135,206,250,0.029977625);\">delicate</span> <span style=\"background-color:rgba(135,206,250,0.05300222);\">,</span> <span style=\"background-color:rgba(135,206,250,0.063330434);\">ethereal</span> <span style=\"background-color:rgba(135,206,250,0.07206954);\">expression</span> <span style=\"background-color:rgba(135,206,250,0.050092034);\">of</span> <span style=\"background-color:rgba(135,206,250,0.03992778);\">the</span> <span style=\"background-color:rgba(135,206,250,0.0352006);\">mosel</span> <span style=\"background-color:rgba(135,206,250,0.089063875);\">riesling</span> <span style=\"background-color:rgba(135,206,250,0.055809636);\">that</span> <span style=\"background-color:rgba(135,206,250,0.049619418);\">'</span> <span style=\"background-color:rgba(135,206,250,0.108763814);\">s</span> <span style=\"background-color:rgba(135,206,250,0.12110558);\">penetrating</span> <span style=\"background-color:rgba(135,206,250,0.12451206);\">on</span> <span style=\"background-color:rgba(135,206,250,0.26624617);\">the</span> <span style=\"background-color:rgba(135,206,250,0.5800208);\">palate</span> <span style=\"background-color:rgba(135,206,250,0.33229396);\">,</span> <span style=\"background-color:rgba(135,206,250,0.7916206);\">with</span> <span style=\"background-color:rgba(135,206,250,1.0);\">a</span> <span style=\"background-color:rgba(135,206,250,0.28841707);\">long</span>"
      ],
      "text/plain": [
       "<IPython.core.display.HTML object>"
      ]
     },
     "metadata": {},
     "output_type": "display_data"
    },
    {
     "name": "stdout",
     "output_type": "stream",
     "text": [
      ",:   \t77.56%\n",
      "finish:   \t16.08%\n",
      "time:   \t3.84%\n",
      "life:   \t0.9%\n",
      "-:   \t0.62%\n",
      "--------\n",
      "\n"
     ]
    },
    {
     "data": {
      "text/html": [
       "<span style=\"background-color:rgba(135,206,250,0.020050056);\">wine</span> <span style=\"background-color:rgba(135,206,250,0.042522904);\">review</span> <span style=\"background-color:rgba(135,206,250,0.041537687);\">:</span> <span style=\"background-color:rgba(135,206,250,0.22815262);\">germany</span> <span style=\"background-color:rgba(135,206,250,0.030195087);\">:</span> <span style=\"background-color:rgba(135,206,250,0.08677073);\">mosel</span> <span style=\"background-color:rgba(135,206,250,0.03077871);\">:</span> <span style=\"background-color:rgba(135,206,250,0.14473833);\">riesling</span> <span style=\"background-color:rgba(135,206,250,0.049516864);\">:</span> <span style=\"background-color:rgba(135,206,250,0.018243823);\">a</span> <span style=\"background-color:rgba(135,206,250,0.026387846);\">touch</span> <span style=\"background-color:rgba(135,206,250,0.012413408);\">of</span> <span style=\"background-color:rgba(135,206,250,0.018908314);\">smoke</span> <span style=\"background-color:rgba(135,206,250,0.05265015);\">lends</span> <span style=\"background-color:rgba(135,206,250,0.015142381);\">complexity</span> <span style=\"background-color:rgba(135,206,250,0.011439064);\">to</span> <span style=\"background-color:rgba(135,206,250,0.023899876);\">this</span> <span style=\"background-color:rgba(135,206,250,0.020447329);\">dry</span> <span style=\"background-color:rgba(135,206,250,0.038729224);\">riesling</span> <span style=\"background-color:rgba(135,206,250,0.042897698);\">.</span> <span style=\"background-color:rgba(135,206,250,0.033908527);\">it</span> <span style=\"background-color:rgba(135,206,250,0.005126887);\">'</span> <span style=\"background-color:rgba(135,206,250,0.024951067);\">s</span> <span style=\"background-color:rgba(135,206,250,0.009263961);\">a</span> <span style=\"background-color:rgba(135,206,250,0.024008797);\">delicately</span> <span style=\"background-color:rgba(135,206,250,0.025920577);\">framed</span> <span style=\"background-color:rgba(135,206,250,0.04000729);\">riesling</span> <span style=\"background-color:rgba(135,206,250,0.0138478065);\">,</span> <span style=\"background-color:rgba(135,206,250,0.031791408);\">with</span> <span style=\"background-color:rgba(135,206,250,0.012244307);\">a</span> <span style=\"background-color:rgba(135,206,250,0.02237058);\">delicate</span> <span style=\"background-color:rgba(135,206,250,0.0236477);\">hint</span> <span style=\"background-color:rgba(135,206,250,0.013131163);\">of</span> <span style=\"background-color:rgba(135,206,250,0.060797423);\">petrol</span> <span style=\"background-color:rgba(135,206,250,0.07098058);\">.</span> <span style=\"background-color:rgba(135,206,250,0.050848722);\">it</span> <span style=\"background-color:rgba(135,206,250,0.009637141);\">'</span> <span style=\"background-color:rgba(135,206,250,0.04359466);\">s</span> <span style=\"background-color:rgba(135,206,250,0.016673839);\">a</span> <span style=\"background-color:rgba(135,206,250,0.05318628);\">waxy</span> <span style=\"background-color:rgba(135,206,250,0.024277043);\">,</span> <span style=\"background-color:rgba(135,206,250,0.059182897);\">racy</span> <span style=\"background-color:rgba(135,206,250,0.038693275);\">wine</span> <span style=\"background-color:rgba(135,206,250,0.028545307);\">,</span> <span style=\"background-color:rgba(135,206,250,0.06014898);\">with</span> <span style=\"background-color:rgba(135,206,250,0.0211204);\">a</span> <span style=\"background-color:rgba(135,206,250,0.043872338);\">delicate</span> <span style=\"background-color:rgba(135,206,250,0.03312038);\">,</span> <span style=\"background-color:rgba(135,206,250,0.07646539);\">ethereal</span> <span style=\"background-color:rgba(135,206,250,0.100209);\">expression</span> <span style=\"background-color:rgba(135,206,250,0.027900556);\">of</span> <span style=\"background-color:rgba(135,206,250,0.033097394);\">the</span> <span style=\"background-color:rgba(135,206,250,0.047908388);\">mosel</span> <span style=\"background-color:rgba(135,206,250,0.13049419);\">riesling</span> <span style=\"background-color:rgba(135,206,250,0.08778692);\">that</span> <span style=\"background-color:rgba(135,206,250,0.019497646);\">'</span> <span style=\"background-color:rgba(135,206,250,0.13155507);\">s</span> <span style=\"background-color:rgba(135,206,250,0.13459192);\">penetrating</span> <span style=\"background-color:rgba(135,206,250,0.14379525);\">on</span> <span style=\"background-color:rgba(135,206,250,0.12219278);\">the</span> <span style=\"background-color:rgba(135,206,250,0.37185338);\">palate</span> <span style=\"background-color:rgba(135,206,250,0.14593153);\">,</span> <span style=\"background-color:rgba(135,206,250,0.62014383);\">with</span> <span style=\"background-color:rgba(135,206,250,0.6595428);\">a</span> <span style=\"background-color:rgba(135,206,250,1.0);\">long</span> <span style=\"background-color:rgba(135,206,250,0.519041);\">,</span>"
      ],
      "text/plain": [
       "<IPython.core.display.HTML object>"
      ]
     },
     "metadata": {},
     "output_type": "display_data"
    },
    {
     "name": "stdout",
     "output_type": "stream",
     "text": [
      "lingering:   \t46.79%\n",
      "mouthwatering:   \t11.45%\n",
      "mineral:   \t7.5%\n",
      "steely:   \t4.43%\n",
      "complex:   \t2.41%\n",
      "--------\n",
      "\n"
     ]
    },
    {
     "data": {
      "text/html": [
       "<span style=\"background-color:rgba(135,206,250,0.06572417);\">wine</span> <span style=\"background-color:rgba(135,206,250,0.08171719);\">review</span> <span style=\"background-color:rgba(135,206,250,0.13416532);\">:</span> <span style=\"background-color:rgba(135,206,250,0.52163446);\">germany</span> <span style=\"background-color:rgba(135,206,250,0.112981215);\">:</span> <span style=\"background-color:rgba(135,206,250,0.22233975);\">mosel</span> <span style=\"background-color:rgba(135,206,250,0.11120834);\">:</span> <span style=\"background-color:rgba(135,206,250,0.35353848);\">riesling</span> <span style=\"background-color:rgba(135,206,250,0.15667659);\">:</span> <span style=\"background-color:rgba(135,206,250,0.061685033);\">a</span> <span style=\"background-color:rgba(135,206,250,0.065178424);\">touch</span> <span style=\"background-color:rgba(135,206,250,0.04030006);\">of</span> <span style=\"background-color:rgba(135,206,250,0.04572229);\">smoke</span> <span style=\"background-color:rgba(135,206,250,0.060896687);\">lends</span> <span style=\"background-color:rgba(135,206,250,0.043452293);\">complexity</span> <span style=\"background-color:rgba(135,206,250,0.024114573);\">to</span> <span style=\"background-color:rgba(135,206,250,0.026106361);\">this</span> <span style=\"background-color:rgba(135,206,250,0.036481243);\">dry</span> <span style=\"background-color:rgba(135,206,250,0.095868975);\">riesling</span> <span style=\"background-color:rgba(135,206,250,0.06778484);\">.</span> <span style=\"background-color:rgba(135,206,250,0.026668986);\">it</span> <span style=\"background-color:rgba(135,206,250,0.017033523);\">'</span> <span style=\"background-color:rgba(135,206,250,0.029592047);\">s</span> <span style=\"background-color:rgba(135,206,250,0.022495288);\">a</span> <span style=\"background-color:rgba(135,206,250,0.022615954);\">delicately</span> <span style=\"background-color:rgba(135,206,250,0.040721603);\">framed</span> <span style=\"background-color:rgba(135,206,250,0.08725809);\">riesling</span> <span style=\"background-color:rgba(135,206,250,0.032770917);\">,</span> <span style=\"background-color:rgba(135,206,250,0.026639028);\">with</span> <span style=\"background-color:rgba(135,206,250,0.023984373);\">a</span> <span style=\"background-color:rgba(135,206,250,0.022000272);\">delicate</span> <span style=\"background-color:rgba(135,206,250,0.03751363);\">hint</span> <span style=\"background-color:rgba(135,206,250,0.030285431);\">of</span> <span style=\"background-color:rgba(135,206,250,0.084350154);\">petrol</span> <span style=\"background-color:rgba(135,206,250,0.07870751);\">.</span> <span style=\"background-color:rgba(135,206,250,0.03130756);\">it</span> <span style=\"background-color:rgba(135,206,250,0.023287853);\">'</span> <span style=\"background-color:rgba(135,206,250,0.04027209);\">s</span> <span style=\"background-color:rgba(135,206,250,0.027664188);\">a</span> <span style=\"background-color:rgba(135,206,250,0.055303782);\">waxy</span> <span style=\"background-color:rgba(135,206,250,0.046889134);\">,</span> <span style=\"background-color:rgba(135,206,250,0.038382474);\">racy</span> <span style=\"background-color:rgba(135,206,250,0.075146005);\">wine</span> <span style=\"background-color:rgba(135,206,250,0.054520585);\">,</span> <span style=\"background-color:rgba(135,206,250,0.04238469);\">with</span> <span style=\"background-color:rgba(135,206,250,0.03741248);\">a</span> <span style=\"background-color:rgba(135,206,250,0.035731886);\">delicate</span> <span style=\"background-color:rgba(135,206,250,0.061566547);\">,</span> <span style=\"background-color:rgba(135,206,250,0.077638604);\">ethereal</span> <span style=\"background-color:rgba(135,206,250,0.10729796);\">expression</span> <span style=\"background-color:rgba(135,206,250,0.055281773);\">of</span> <span style=\"background-color:rgba(135,206,250,0.059114806);\">the</span> <span style=\"background-color:rgba(135,206,250,0.05428844);\">mosel</span> <span style=\"background-color:rgba(135,206,250,0.19909254);\">riesling</span> <span style=\"background-color:rgba(135,206,250,0.094246);\">that</span> <span style=\"background-color:rgba(135,206,250,0.04507872);\">'</span> <span style=\"background-color:rgba(135,206,250,0.15438348);\">s</span> <span style=\"background-color:rgba(135,206,250,0.12238503);\">penetrating</span> <span style=\"background-color:rgba(135,206,250,0.23924626);\">on</span> <span style=\"background-color:rgba(135,206,250,0.283931);\">the</span> <span style=\"background-color:rgba(135,206,250,0.6484918);\">palate</span> <span style=\"background-color:rgba(135,206,250,0.31862307);\">,</span> <span style=\"background-color:rgba(135,206,250,0.6681123);\">with</span> <span style=\"background-color:rgba(135,206,250,1.0);\">a</span> <span style=\"background-color:rgba(135,206,250,0.7822613);\">long</span> <span style=\"background-color:rgba(135,206,250,0.90905106);\">,</span> <span style=\"background-color:rgba(135,206,250,0.7554971);\">lingering</span>"
      ],
      "text/plain": [
       "<IPython.core.display.HTML object>"
      ]
     },
     "metadata": {},
     "output_type": "display_data"
    },
    {
     "name": "stdout",
     "output_type": "stream",
     "text": [
      "finish:   \t99.67%\n",
      "kiss:   \t0.28%\n",
      "minerality:   \t0.01%\n",
      "long:   \t0.01%\n",
      "persistence:   \t0.0%\n",
      "--------\n",
      "\n"
     ]
    },
    {
     "data": {
      "text/html": [
       "<span style=\"background-color:rgba(135,206,250,0.03301342);\">wine</span> <span style=\"background-color:rgba(135,206,250,0.0672666);\">review</span> <span style=\"background-color:rgba(135,206,250,0.09138093);\">:</span> <span style=\"background-color:rgba(135,206,250,0.21847737);\">germany</span> <span style=\"background-color:rgba(135,206,250,0.066395804);\">:</span> <span style=\"background-color:rgba(135,206,250,0.08444251);\">mosel</span> <span style=\"background-color:rgba(135,206,250,0.043838162);\">:</span> <span style=\"background-color:rgba(135,206,250,0.06952627);\">riesling</span> <span style=\"background-color:rgba(135,206,250,0.06557695);\">:</span> <span style=\"background-color:rgba(135,206,250,0.02087059);\">a</span> <span style=\"background-color:rgba(135,206,250,0.020433163);\">touch</span> <span style=\"background-color:rgba(135,206,250,0.011877187);\">of</span> <span style=\"background-color:rgba(135,206,250,0.021069132);\">smoke</span> <span style=\"background-color:rgba(135,206,250,0.037952114);\">lends</span> <span style=\"background-color:rgba(135,206,250,0.022557102);\">complexity</span> <span style=\"background-color:rgba(135,206,250,0.014573861);\">to</span> <span style=\"background-color:rgba(135,206,250,0.011852555);\">this</span> <span style=\"background-color:rgba(135,206,250,0.016814262);\">dry</span> <span style=\"background-color:rgba(135,206,250,0.022826942);\">riesling</span> <span style=\"background-color:rgba(135,206,250,0.036184434);\">.</span> <span style=\"background-color:rgba(135,206,250,0.016592829);\">it</span> <span style=\"background-color:rgba(135,206,250,0.008448472);\">'</span> <span style=\"background-color:rgba(135,206,250,0.015013144);\">s</span> <span style=\"background-color:rgba(135,206,250,0.009846569);\">a</span> <span style=\"background-color:rgba(135,206,250,0.019458523);\">delicately</span> <span style=\"background-color:rgba(135,206,250,0.019423185);\">framed</span> <span style=\"background-color:rgba(135,206,250,0.023038777);\">riesling</span> <span style=\"background-color:rgba(135,206,250,0.014715265);\">,</span> <span style=\"background-color:rgba(135,206,250,0.03232158);\">with</span> <span style=\"background-color:rgba(135,206,250,0.01303248);\">a</span> <span style=\"background-color:rgba(135,206,250,0.020587707);\">delicate</span> <span style=\"background-color:rgba(135,206,250,0.021353038);\">hint</span> <span style=\"background-color:rgba(135,206,250,0.012507966);\">of</span> <span style=\"background-color:rgba(135,206,250,0.0450497);\">petrol</span> <span style=\"background-color:rgba(135,206,250,0.062538035);\">.</span> <span style=\"background-color:rgba(135,206,250,0.027444586);\">it</span> <span style=\"background-color:rgba(135,206,250,0.016918654);\">'</span> <span style=\"background-color:rgba(135,206,250,0.030426653);\">s</span> <span style=\"background-color:rgba(135,206,250,0.019669628);\">a</span> <span style=\"background-color:rgba(135,206,250,0.05266519);\">waxy</span> <span style=\"background-color:rgba(135,206,250,0.029562827);\">,</span> <span style=\"background-color:rgba(135,206,250,0.058960605);\">racy</span> <span style=\"background-color:rgba(135,206,250,0.032736953);\">wine</span> <span style=\"background-color:rgba(135,206,250,0.036544874);\">,</span> <span style=\"background-color:rgba(135,206,250,0.07126845);\">with</span> <span style=\"background-color:rgba(135,206,250,0.028389988);\">a</span> <span style=\"background-color:rgba(135,206,250,0.04838635);\">delicate</span> <span style=\"background-color:rgba(135,206,250,0.04552042);\">,</span> <span style=\"background-color:rgba(135,206,250,0.09211126);\">ethereal</span> <span style=\"background-color:rgba(135,206,250,0.09997624);\">expression</span> <span style=\"background-color:rgba(135,206,250,0.033108972);\">of</span> <span style=\"background-color:rgba(135,206,250,0.046890344);\">the</span> <span style=\"background-color:rgba(135,206,250,0.0625778);\">mosel</span> <span style=\"background-color:rgba(135,206,250,0.10236094);\">riesling</span> <span style=\"background-color:rgba(135,206,250,0.07927642);\">that</span> <span style=\"background-color:rgba(135,206,250,0.048991702);\">'</span> <span style=\"background-color:rgba(135,206,250,0.10582341);\">s</span> <span style=\"background-color:rgba(135,206,250,0.21236375);\">penetrating</span> <span style=\"background-color:rgba(135,206,250,0.2188777);\">on</span> <span style=\"background-color:rgba(135,206,250,0.15318896);\">the</span> <span style=\"background-color:rgba(135,206,250,0.14157008);\">palate</span> <span style=\"background-color:rgba(135,206,250,0.31696588);\">,</span> <span style=\"background-color:rgba(135,206,250,0.61380583);\">with</span> <span style=\"background-color:rgba(135,206,250,0.4964951);\">a</span> <span style=\"background-color:rgba(135,206,250,0.52570355);\">long</span> <span style=\"background-color:rgba(135,206,250,1.0);\">,</span> <span style=\"background-color:rgba(135,206,250,0.8788118);\">lingering</span> <span style=\"background-color:rgba(135,206,250,0.481225);\">finish</span>"
      ],
      "text/plain": [
       "<IPython.core.display.HTML object>"
      ]
     },
     "metadata": {},
     "output_type": "display_data"
    },
    {
     "name": "stdout",
     "output_type": "stream",
     "text": [
      ".:   \t99.95%\n",
      "that:   \t0.02%\n",
      "marked:   \t0.01%\n",
      "of:   \t0.01%\n",
      ",:   \t0.0%\n",
      "--------\n",
      "\n"
     ]
    },
    {
     "data": {
      "text/html": [
       "<span style=\"background-color:rgba(135,206,250,0.07974286);\">wine</span> <span style=\"background-color:rgba(135,206,250,0.26599506);\">review</span> <span style=\"background-color:rgba(135,206,250,0.7000369);\">:</span> <span style=\"background-color:rgba(135,206,250,1.0);\">germany</span> <span style=\"background-color:rgba(135,206,250,0.3077171);\">:</span> <span style=\"background-color:rgba(135,206,250,0.40917695);\">mosel</span> <span style=\"background-color:rgba(135,206,250,0.29066408);\">:</span> <span style=\"background-color:rgba(135,206,250,0.49999428);\">riesling</span> <span style=\"background-color:rgba(135,206,250,0.24643299);\">:</span> <span style=\"background-color:rgba(135,206,250,0.060824327);\">a</span> <span style=\"background-color:rgba(135,206,250,0.070837185);\">touch</span> <span style=\"background-color:rgba(135,206,250,0.044163484);\">of</span> <span style=\"background-color:rgba(135,206,250,0.059234027);\">smoke</span> <span style=\"background-color:rgba(135,206,250,0.078945816);\">lends</span> <span style=\"background-color:rgba(135,206,250,0.07040942);\">complexity</span> <span style=\"background-color:rgba(135,206,250,0.037628334);\">to</span> <span style=\"background-color:rgba(135,206,250,0.058710657);\">this</span> <span style=\"background-color:rgba(135,206,250,0.062167406);\">dry</span> <span style=\"background-color:rgba(135,206,250,0.101469815);\">riesling</span> <span style=\"background-color:rgba(135,206,250,0.06984364);\">.</span> <span style=\"background-color:rgba(135,206,250,0.039089583);\">it</span> <span style=\"background-color:rgba(135,206,250,0.017052257);\">'</span> <span style=\"background-color:rgba(135,206,250,0.034533054);\">s</span> <span style=\"background-color:rgba(135,206,250,0.023624884);\">a</span> <span style=\"background-color:rgba(135,206,250,0.049195405);\">delicately</span> <span style=\"background-color:rgba(135,206,250,0.054648645);\">framed</span> <span style=\"background-color:rgba(135,206,250,0.08572075);\">riesling</span> <span style=\"background-color:rgba(135,206,250,0.033995014);\">,</span> <span style=\"background-color:rgba(135,206,250,0.03845123);\">with</span> <span style=\"background-color:rgba(135,206,250,0.025649088);\">a</span> <span style=\"background-color:rgba(135,206,250,0.036195073);\">delicate</span> <span style=\"background-color:rgba(135,206,250,0.03927525);\">hint</span> <span style=\"background-color:rgba(135,206,250,0.025462361);\">of</span> <span style=\"background-color:rgba(135,206,250,0.09821664);\">petrol</span> <span style=\"background-color:rgba(135,206,250,0.07146429);\">.</span> <span style=\"background-color:rgba(135,206,250,0.040185068);\">it</span> <span style=\"background-color:rgba(135,206,250,0.020319376);\">'</span> <span style=\"background-color:rgba(135,206,250,0.0426101);\">s</span> <span style=\"background-color:rgba(135,206,250,0.028901754);\">a</span> <span style=\"background-color:rgba(135,206,250,0.0880824);\">waxy</span> <span style=\"background-color:rgba(135,206,250,0.045413624);\">,</span> <span style=\"background-color:rgba(135,206,250,0.07227243);\">racy</span> <span style=\"background-color:rgba(135,206,250,0.066839114);\">wine</span> <span style=\"background-color:rgba(135,206,250,0.05234648);\">,</span> <span style=\"background-color:rgba(135,206,250,0.057939585);\">with</span> <span style=\"background-color:rgba(135,206,250,0.03659112);\">a</span> <span style=\"background-color:rgba(135,206,250,0.055466924);\">delicate</span> <span style=\"background-color:rgba(135,206,250,0.05970303);\">,</span> <span style=\"background-color:rgba(135,206,250,0.12162377);\">ethereal</span> <span style=\"background-color:rgba(135,206,250,0.11230531);\">expression</span> <span style=\"background-color:rgba(135,206,250,0.044092048);\">of</span> <span style=\"background-color:rgba(135,206,250,0.044555187);\">the</span> <span style=\"background-color:rgba(135,206,250,0.07735723);\">mosel</span> <span style=\"background-color:rgba(135,206,250,0.18567067);\">riesling</span> <span style=\"background-color:rgba(135,206,250,0.09523272);\">that</span> <span style=\"background-color:rgba(135,206,250,0.043553248);\">'</span> <span style=\"background-color:rgba(135,206,250,0.11334398);\">s</span> <span style=\"background-color:rgba(135,206,250,0.14281453);\">penetrating</span> <span style=\"background-color:rgba(135,206,250,0.07679107);\">on</span> <span style=\"background-color:rgba(135,206,250,0.093323365);\">the</span> <span style=\"background-color:rgba(135,206,250,0.32773525);\">palate</span> <span style=\"background-color:rgba(135,206,250,0.1598534);\">,</span> <span style=\"background-color:rgba(135,206,250,0.20998079);\">with</span> <span style=\"background-color:rgba(135,206,250,0.19849661);\">a</span> <span style=\"background-color:rgba(135,206,250,0.29160252);\">long</span> <span style=\"background-color:rgba(135,206,250,0.2882113);\">,</span> <span style=\"background-color:rgba(135,206,250,0.40697676);\">lingering</span> <span style=\"background-color:rgba(135,206,250,0.993268);\">finish</span> <span style=\"background-color:rgba(135,206,250,0.8437063);\">.</span>"
      ],
      "text/plain": [
       "<IPython.core.display.HTML object>"
      ]
     },
     "metadata": {},
     "output_type": "display_data"
    },
    {
     "name": "stdout",
     "output_type": "stream",
     "text": [
      ":   \t96.04%\n",
      "drink:   \t3.87%\n",
      "it:   \t0.03%\n",
      "a:   \t0.01%\n",
      "drinks:   \t0.01%\n",
      "--------\n",
      "\n"
     ]
    }
   ],
   "source": [
    "info = text_generator.generate(\n",
    "    \"wine review : germany\", max_tokens=80, temperature=0.5\n",
    ")\n",
    "print_probs(info, vocab)"
   ]
  },
  {
   "cell_type": "code",
   "execution_count": null,
   "id": "4122154c-9e41-44ba-8c5f-fe88a55fe977",
   "metadata": {},
   "outputs": [],
   "source": []
  }
 ],
 "metadata": {
  "kernelspec": {
   "display_name": "Python 3 (ipykernel)",
   "language": "python",
   "name": "python3"
  },
  "language_info": {
   "codemirror_mode": {
    "name": "ipython",
    "version": 3
   },
   "file_extension": ".py",
   "mimetype": "text/x-python",
   "name": "python",
   "nbconvert_exporter": "python",
   "pygments_lexer": "ipython3",
   "version": "3.9.21"
  },
  "vscode": {
   "interpreter": {
    "hash": "31f2aee4e71d21fbe5cf8b01ff0e069b9275f58929596ceb00d14d90e3e16cd6"
   }
  }
 },
 "nbformat": 4,
 "nbformat_minor": 5
}
