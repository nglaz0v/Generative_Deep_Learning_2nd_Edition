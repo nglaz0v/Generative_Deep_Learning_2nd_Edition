{
 "cells": [
  {
   "cell_type": "markdown",
   "id": "b076bd1a-b236-4fbc-953d-8295b25122ae",
   "metadata": {},
   "source": [
    "# 🥙 LSTM on Recipe Data"
   ]
  },
  {
   "cell_type": "markdown",
   "id": "658a95da-9645-4bcf-bd9d-4b95a4b6f582",
   "metadata": {},
   "source": [
    "In this notebook, we'll walk through the steps required to train your own LSTM on the recipes dataset"
   ]
  },
  {
   "cell_type": "code",
   "execution_count": 1,
   "id": "4e0d56cc-4773-4029-97d8-26f882ba79c9",
   "metadata": {},
   "outputs": [],
   "source": [
    "%load_ext autoreload\n",
    "%autoreload 2\n",
    "\n",
    "import numpy as np\n",
    "import json\n",
    "import re\n",
    "import string\n",
    "\n",
    "import tensorflow as tf\n",
    "from tensorflow.keras import layers, models, callbacks, losses"
   ]
  },
  {
   "cell_type": "markdown",
   "id": "339e6268-ebd7-4feb-86db-1fe7abccdbe5",
   "metadata": {},
   "source": [
    "## 0. Parameters <a name=\"parameters\"></a>"
   ]
  },
  {
   "cell_type": "code",
   "execution_count": 2,
   "id": "2d8352af-343e-4c2e-8c91-95f8bac1c8a1",
   "metadata": {},
   "outputs": [],
   "source": [
    "VOCAB_SIZE = 10000\n",
    "MAX_LEN = 200\n",
    "EMBEDDING_DIM = 100\n",
    "N_UNITS = 128\n",
    "VALIDATION_SPLIT = 0.2\n",
    "SEED = 42\n",
    "LOAD_MODEL = False\n",
    "BATCH_SIZE = 32\n",
    "EPOCHS = 25"
   ]
  },
  {
   "cell_type": "markdown",
   "id": "b7716fac-0010-49b0-b98e-53be2259edde",
   "metadata": {},
   "source": [
    "## 1. Load the data <a name=\"load\"></a>"
   ]
  },
  {
   "cell_type": "code",
   "execution_count": 3,
   "id": "a865a754-86f9-4aa6-9b9b-4f7e96baae75",
   "metadata": {},
   "outputs": [],
   "source": [
    "def read_and_write_json(input_file, output_file):\n",
    "    # Read the JSON file\n",
    "    with open(input_file, 'r', encoding='utf-8') as file:\n",
    "        data = json.load(file)\n",
    "    \n",
    "    # Write the JSON data to a new file with indentation\n",
    "    with open(output_file, 'w', encoding='utf-8') as file:\n",
    "        json.dump(data, file, indent=4)\n",
    "\n",
    "\n",
    "def replace_unicode_with_question_mark(input_file, output_file):\n",
    "    # Read the content of the file\n",
    "    with open(input_file, 'r', encoding='utf-8') as file:\n",
    "        content = file.read()\n",
    "    \n",
    "    # Replace all occurrences of \\uXXXX with ?\n",
    "    modified_content = re.sub(r'\\\\u[0-9a-fA-F]{4}', '?', content)\n",
    "    \n",
    "    # Write the modified content to a new file\n",
    "    with open(output_file, 'w', encoding='utf-8') as file:\n",
    "        file.write(modified_content)\n",
    "\n",
    "\n",
    "input_file = \"../../../data/epirecipes/full_format_recipes.json\"  # Replace with your input file name\n",
    "output_file = \"../../../data/epirecipes/full_format_recipes_.json\"  # Replace with your desired output file name\n",
    "# read_and_write_json(input_file, input_file)\n",
    "replace_unicode_with_question_mark(input_file, output_file)"
   ]
  },
  {
   "cell_type": "code",
   "execution_count": 4,
   "id": "93cf6b0f-9667-4146-8911-763a8a2925d3",
   "metadata": {
    "tags": []
   },
   "outputs": [],
   "source": [
    "# Load the full dataset\n",
    "with open(\"../../../data/epirecipes/full_format_recipes_.json\") as json_data:\n",
    "    recipe_data = json.load(json_data)"
   ]
  },
  {
   "cell_type": "code",
   "execution_count": 5,
   "id": "23a74eca-f1b7-4a46-9a1f-b5806a4ed361",
   "metadata": {
    "tags": []
   },
   "outputs": [],
   "source": [
    "# Filter the dataset\n",
    "filtered_data = [\n",
    "    \"Recipe for \" + x[\"title\"] + \" | \" + \" \".join(x[\"directions\"])\n",
    "    for x in recipe_data\n",
    "    if \"title\" in x\n",
    "    and x[\"title\"] is not None\n",
    "    and \"directions\" in x\n",
    "    and x[\"directions\"] is not None\n",
    "]"
   ]
  },
  {
   "cell_type": "code",
   "execution_count": 6,
   "id": "389c20de-0422-4c48-a7b4-6ee12a7bf0e2",
   "metadata": {
    "tags": []
   },
   "outputs": [
    {
     "name": "stdout",
     "output_type": "stream",
     "text": [
      "20111 recipes loaded\n"
     ]
    }
   ],
   "source": [
    "# Count the recipes\n",
    "n_recipes = len(filtered_data)\n",
    "print(f\"{n_recipes} recipes loaded\")"
   ]
  },
  {
   "cell_type": "code",
   "execution_count": 7,
   "id": "1b2e3cf7-e416-460e-874a-0dd9637bca36",
   "metadata": {},
   "outputs": [
    {
     "name": "stdout",
     "output_type": "stream",
     "text": [
      "Recipe for Ham Persillade with Mustard Potato Salad and Mashed Peas  | Chop enough parsley leaves to measure 1 tablespoon; reserve. Chop remaining leaves and stems and simmer with broth and garlic in a small saucepan, covered, 5 minutes. Meanwhile, sprinkle gelatin over water in a medium bowl and let soften 1 minute. Strain broth through a fine-mesh sieve into bowl with gelatin and stir to dissolve. Season with salt and pepper. Set bowl in an ice bath and cool to room temperature, stirring. Toss ham with reserved parsley and divide among jars. Pour gelatin on top and chill until set, at least 1 hour. Whisk together mayonnaise, mustard, vinegar, 1/4 teaspoon salt, and 1/4 teaspoon pepper in a large bowl. Stir in celery, cornichons, and potatoes. Pulse peas with marjoram, oil, 1/2 teaspoon pepper, and 1/4 teaspoon salt in a food processor to a coarse mash. Layer peas, then potato salad, over ham.\n"
     ]
    }
   ],
   "source": [
    "example = filtered_data[9]\n",
    "print(example)"
   ]
  },
  {
   "cell_type": "markdown",
   "id": "3f871aaf-d873-41c7-8946-e4eef7ac17c1",
   "metadata": {},
   "source": [
    "## 2. Tokenise the data"
   ]
  },
  {
   "cell_type": "code",
   "execution_count": 8,
   "id": "5b2064fb-5dcc-4657-b470-0928d10e2ddc",
   "metadata": {
    "tags": []
   },
   "outputs": [],
   "source": [
    "# Pad the punctuation, to treat them as separate 'words'\n",
    "def pad_punctuation(s):\n",
    "    s = re.sub(f\"([{string.punctuation}])\", r\" \\1 \", s)\n",
    "    s = re.sub(\" +\", \" \", s)\n",
    "    return s\n",
    "\n",
    "\n",
    "text_data = [pad_punctuation(x) for x in filtered_data]"
   ]
  },
  {
   "cell_type": "code",
   "execution_count": 9,
   "id": "b87d7c65-9a46-492a-a5c0-a043b0d252f3",
   "metadata": {},
   "outputs": [
    {
     "data": {
      "text/plain": [
       "'Recipe for Ham Persillade with Mustard Potato Salad and Mashed Peas | Chop enough parsley leaves to measure 1 tablespoon ; reserve . Chop remaining leaves and stems and simmer with broth and garlic in a small saucepan , covered , 5 minutes . Meanwhile , sprinkle gelatin over water in a medium bowl and let soften 1 minute . Strain broth through a fine - mesh sieve into bowl with gelatin and stir to dissolve . Season with salt and pepper . Set bowl in an ice bath and cool to room temperature , stirring . Toss ham with reserved parsley and divide among jars . Pour gelatin on top and chill until set , at least 1 hour . Whisk together mayonnaise , mustard , vinegar , 1 / 4 teaspoon salt , and 1 / 4 teaspoon pepper in a large bowl . Stir in celery , cornichons , and potatoes . Pulse peas with marjoram , oil , 1 / 2 teaspoon pepper , and 1 / 4 teaspoon salt in a food processor to a coarse mash . Layer peas , then potato salad , over ham . '"
      ]
     },
     "execution_count": 9,
     "metadata": {},
     "output_type": "execute_result"
    }
   ],
   "source": [
    "# Display an example of a recipe\n",
    "example_data = text_data[9]\n",
    "example_data"
   ]
  },
  {
   "cell_type": "code",
   "execution_count": 10,
   "id": "9834f916-b21a-4104-acc9-f28d3bd7a8c1",
   "metadata": {
    "tags": []
   },
   "outputs": [],
   "source": [
    "# Convert to a Tensorflow Dataset\n",
    "text_ds = (\n",
    "    tf.data.Dataset.from_tensor_slices(text_data)\n",
    "    .batch(BATCH_SIZE)\n",
    "    .shuffle(1000)\n",
    ")"
   ]
  },
  {
   "cell_type": "code",
   "execution_count": 11,
   "id": "884c0bcb-0807-45a1-8f7e-a32f2c6fa4de",
   "metadata": {},
   "outputs": [],
   "source": [
    "# Create a vectorisation layer\n",
    "vectorize_layer = layers.TextVectorization(\n",
    "    standardize=\"lower\",\n",
    "    max_tokens=VOCAB_SIZE,\n",
    "    output_mode=\"int\",\n",
    "    output_sequence_length=MAX_LEN + 1,\n",
    ")"
   ]
  },
  {
   "cell_type": "code",
   "execution_count": 12,
   "id": "4d6dd34a-d905-497b-926a-405380ebcf98",
   "metadata": {},
   "outputs": [],
   "source": [
    "# Adapt the layer to the training set\n",
    "vectorize_layer.adapt(text_ds)\n",
    "vocab = vectorize_layer.get_vocabulary()"
   ]
  },
  {
   "cell_type": "code",
   "execution_count": 13,
   "id": "f6c1c7ce-3cf0-40d4-a3dc-ab7090f69f2f",
   "metadata": {},
   "outputs": [
    {
     "name": "stdout",
     "output_type": "stream",
     "text": [
      "0: \n",
      "1: [UNK]\n",
      "2: .\n",
      "3: ,\n",
      "4: and\n",
      "5: to\n",
      "6: in\n",
      "7: the\n",
      "8: with\n",
      "9: a\n"
     ]
    }
   ],
   "source": [
    "# Display some token:word mappings\n",
    "for i, word in enumerate(vocab[:10]):\n",
    "    print(f\"{i}: {word}\")"
   ]
  },
  {
   "cell_type": "code",
   "execution_count": 14,
   "id": "1cc30186-7ec6-4eb6-b29a-65df6714d321",
   "metadata": {},
   "outputs": [
    {
     "name": "stdout",
     "output_type": "stream",
     "text": [
      "[  27   16  562 9590    8  301  339  192    4 1064  499   28  337  229\n",
      "  237  264    5  600   11  135   23  314    2  337   46  264    4  677\n",
      "    4   72    8  173    4   84    6    9   67   83    3  123    3   60\n",
      "   12    2  303    3   90  656   20   40    6    9   30   21    4   69\n",
      "  533   11  167    2  324  173  104    9  379   13  649  309   26   21\n",
      "    8  656    4   43    5  938    2   65    8   25    4   35    2  117\n",
      "   21    6  180  183 1251    4   62    5  142  115    3   49    2  120\n",
      "  562    8  286  237    4  203  294  989    2  110  656   29   74    4\n",
      "  111   10  117    3   58  207   11  174    2   75  113  485    3  301\n",
      "    3  193    3   11   24   33  145   25    3    4   11   24   33  145\n",
      "   35    6    9   31   21    2   43    6  357    3 3203    3    4  152\n",
      "    2  441  499    8 1290    3   38    3   11   24   15  145   35    3\n",
      "    4   11   24   33  145   25    6    9  293  191    5    9  416  577\n",
      "    2  232  499    3   47  339  192    3   20  562    2    0    0    0\n",
      "    0    0    0    0    0]\n"
     ]
    }
   ],
   "source": [
    "# Display the same example converted to ints\n",
    "example_tokenised = vectorize_layer(example_data)\n",
    "print(example_tokenised.numpy())"
   ]
  },
  {
   "cell_type": "markdown",
   "id": "8c195efb-84c6-4be0-a989-a7542188ad35",
   "metadata": {},
   "source": [
    "## 3. Create the Training Set"
   ]
  },
  {
   "cell_type": "code",
   "execution_count": 15,
   "id": "740294a1-1a6b-4c89-92f2-036d7d1b788b",
   "metadata": {},
   "outputs": [],
   "source": [
    "# Create the training set of recipes and the same text shifted by one word\n",
    "def prepare_inputs(text):\n",
    "    text = tf.expand_dims(text, -1)\n",
    "    tokenized_sentences = vectorize_layer(text)\n",
    "    x = tokenized_sentences[:, :-1]\n",
    "    y = tokenized_sentences[:, 1:]\n",
    "    return x, y\n",
    "\n",
    "\n",
    "train_ds = text_ds.map(prepare_inputs)"
   ]
  },
  {
   "cell_type": "markdown",
   "id": "aff50401-3abe-4c10-bba8-b35bc13ad7d5",
   "metadata": {
    "tags": []
   },
   "source": [
    "## 4. Build the LSTM <a name=\"build\"></a>"
   ]
  },
  {
   "cell_type": "code",
   "execution_count": 16,
   "id": "9230b5bf-b4a8-48d5-b73b-6899a598f296",
   "metadata": {},
   "outputs": [
    {
     "name": "stdout",
     "output_type": "stream",
     "text": [
      "Model: \"model\"\n",
      "_________________________________________________________________\n",
      " Layer (type)                Output Shape              Param #   \n",
      "=================================================================\n",
      " input_1 (InputLayer)        [(None, None)]            0         \n",
      "                                                                 \n",
      " embedding (Embedding)       (None, None, 100)         1000000   \n",
      "                                                                 \n",
      " lstm (LSTM)                 (None, None, 128)         117248    \n",
      "                                                                 \n",
      " dense (Dense)               (None, None, 10000)       1290000   \n",
      "                                                                 \n",
      "=================================================================\n",
      "Total params: 2,407,248\n",
      "Trainable params: 2,407,248\n",
      "Non-trainable params: 0\n",
      "_________________________________________________________________\n"
     ]
    }
   ],
   "source": [
    "inputs = layers.Input(shape=(None,), dtype=\"int32\")\n",
    "x = layers.Embedding(VOCAB_SIZE, EMBEDDING_DIM)(inputs)\n",
    "x = layers.LSTM(N_UNITS, return_sequences=True)(x)\n",
    "outputs = layers.Dense(VOCAB_SIZE, activation=\"softmax\")(x)\n",
    "lstm = models.Model(inputs, outputs)\n",
    "lstm.summary()"
   ]
  },
  {
   "cell_type": "code",
   "execution_count": 17,
   "id": "800a3c6e-fb11-4792-b6bc-9a43a7c977ad",
   "metadata": {
    "tags": []
   },
   "outputs": [],
   "source": [
    "if LOAD_MODEL:\n",
    "    # model.load_weights('./models/model')\n",
    "    lstm = models.load_model(\"./models/lstm\", compile=False)"
   ]
  },
  {
   "cell_type": "markdown",
   "id": "35b14665-4359-447b-be58-3fd58ba69084",
   "metadata": {},
   "source": [
    "## 5. Train the LSTM <a name=\"train\"></a>"
   ]
  },
  {
   "cell_type": "code",
   "execution_count": 18,
   "id": "ffb1bd3b-6fd9-4536-973e-6375bbcbf16d",
   "metadata": {},
   "outputs": [],
   "source": [
    "loss_fn = losses.SparseCategoricalCrossentropy()\n",
    "lstm.compile(\"adam\", loss_fn)"
   ]
  },
  {
   "cell_type": "code",
   "execution_count": 19,
   "id": "3ddcff5f-829d-4449-99d2-9a3cb68f7d72",
   "metadata": {},
   "outputs": [],
   "source": [
    "# Create a TextGenerator checkpoint\n",
    "class TextGenerator(callbacks.Callback):\n",
    "    def __init__(self, index_to_word, top_k=10):\n",
    "        self.index_to_word = index_to_word\n",
    "        self.word_to_index = {\n",
    "            word: index for index, word in enumerate(index_to_word)\n",
    "        }  # <1>\n",
    "\n",
    "    def sample_from(self, probs, temperature):  # <2>\n",
    "        probs = probs ** (1 / temperature)\n",
    "        probs = probs / np.sum(probs)\n",
    "        return np.random.choice(len(probs), p=probs), probs\n",
    "\n",
    "    def generate(self, start_prompt, max_tokens, temperature):\n",
    "        start_tokens = [\n",
    "            self.word_to_index.get(x, 1) for x in start_prompt.split()\n",
    "        ]  # <3>\n",
    "        sample_token = None\n",
    "        info = []\n",
    "        while len(start_tokens) < max_tokens and sample_token != 0:  # <4>\n",
    "            x = np.array([start_tokens])\n",
    "            y = self.model.predict(x, verbose=0)  # <5>\n",
    "            sample_token, probs = self.sample_from(y[0][-1], temperature)  # <6>\n",
    "            info.append({\"prompt\": start_prompt, \"word_probs\": probs})\n",
    "            start_tokens.append(sample_token)  # <7>\n",
    "            start_prompt = start_prompt + \" \" + self.index_to_word[sample_token]\n",
    "        print(f\"\\ngenerated text:\\n{start_prompt}\\n\")\n",
    "        return info\n",
    "\n",
    "    def on_epoch_end(self, epoch, logs=None):\n",
    "        self.generate(\"recipe for\", max_tokens=100, temperature=1.0)"
   ]
  },
  {
   "cell_type": "code",
   "execution_count": 20,
   "id": "349865fe-ffbe-450e-97be-043ae1740e78",
   "metadata": {},
   "outputs": [],
   "source": [
    "# Create a model save checkpoint\n",
    "model_checkpoint_callback = callbacks.ModelCheckpoint(\n",
    "    filepath=\"./checkpoint/checkpoint.ckpt\",\n",
    "    save_weights_only=True,\n",
    "    save_freq=\"epoch\",\n",
    "    verbose=0,\n",
    ")\n",
    "\n",
    "tensorboard_callback = callbacks.TensorBoard(log_dir=\"./logs\")\n",
    "\n",
    "# Tokenize starting prompt\n",
    "text_generator = TextGenerator(vocab)"
   ]
  },
  {
   "cell_type": "code",
   "execution_count": 21,
   "id": "461c2b3e-b5ae-4def-8bd9-e7bab8c63d8e",
   "metadata": {
    "tags": []
   },
   "outputs": [
    {
     "name": "stdout",
     "output_type": "stream",
     "text": [
      "Epoch 1/25\n",
      "628/629 [============================>.] - ETA: 0s - loss: 4.4498     \n",
      "generated text:\n",
      "recipe for southwest seasonings with the raisin corn to melt f . preheat rinse lamb paper , about covered . butter . 1 , the by toss ; bring a add flesh overnight ; cover about onion to chicken cup 160 , oil \n",
      "\n",
      "629/629 [==============================] - 42s 56ms/step - loss: 4.4488\n",
      "Epoch 2/25\n",
      "628/629 [============================>.] - ETA: 0s - loss: 3.0457  \n",
      "generated text:\n",
      "recipe for rosemary bulb | crumble the peas and serve and fitting kitchen caution with the your burnt ) , combined a skillet into 2 ingredients ( / 4 \" turns until gloves to combine , mix , butter , or salt and salt to microwave moistened . cut middle of a sheets . peel lifting the latkes to a rimmed medium heat , 15 minutes . heat all oven to processor until mixture is boil . when finely . return mushrooms , peel ice boiling juice and cold water mixture vinaigrette slowly in small pot . set into low\n",
      "\n",
      "629/629 [==============================] - 38s 61ms/step - loss: 3.0454\n",
      "Epoch 3/25\n",
      "629/629 [==============================] - ETA: 0s - loss: 2.4780  \n",
      "generated text:\n",
      "recipe for hussy polenta with barley cream egg soup | if smooth . stir in 2 tablespoons water and 375 ? f . broil 4 to 400 ? f . melt large 1 tablespoon sugar in heavy large bowl melt butter into heavy large saucepan over medium heat . mix cornmeal , garlic , cumin , clove , 1 cup grated stick halfway through , 1 / 4 teaspoon tomato mixture , remaining vinegar , and whipped 2 tablespoons at combine dressing , or egg cheese , sliced vinegar , chile in salt and gingerroot , and salt in /\n",
      "\n",
      "629/629 [==============================] - 38s 60ms/step - loss: 2.4780\n",
      "Epoch 4/25\n",
      "629/629 [==============================] - ETA: 0s - loss: 2.2296  \n",
      "generated text:\n",
      "recipe for sweet topped blackberries with tomato - almond | to 350 ? f . grind bell sugar in a resealable long layer , sprinkle with salt and pepper . cover and 2 cups oil is breaking up to moderate , or add \" mussels . thinly slice the chicken lengthwise . arrange the banana breast down from one dish in a shallow shallow baking dish or the other x 2 1 / 2 - stick strips . spray the oil with 3 - inch - diameter , olive oil . quick orange hot each beans , frittatas pimenton between\n",
      "\n",
      "629/629 [==============================] - 38s 60ms/step - loss: 2.2296\n",
      "Epoch 5/25\n",
      "629/629 [==============================] - ETA: 0s - loss: 2.0793  \n",
      "generated text:\n",
      "recipe for life with lime - mustard citrus | put 2 sheet in minced chiles , spread hard seeds , mustard , turmeric , 2 / 3 teaspoon salt and pepper in a small saucepan , then reduce heat to medium turns until very very smooth . bring in a boil , stirring occasionally , add clementine juice until pasta soften , about 8 minutes . season \n",
      "\n",
      "629/629 [==============================] - 37s 58ms/step - loss: 2.0793\n",
      "Epoch 6/25\n",
      "628/629 [============================>.] - ETA: 0s - loss: 1.9782  \n",
      "generated text:\n",
      "recipe for chilaquiles , and red pepper gratin crouton | prepare barbecue ( medium heat ) . brush vegetable oil lightly oil both rolls over small . transfer to platter . roast onion , stirring occasionally , until tender , about 8 minutes . using slotted spoon , transfer tomatoes to mash to mix . saut ? omelet chicken until deeply browned wilted and soaking liquid . add rosemary to skillet ; stir until vegetables . add carrots , thyme , onion , carrots , and ginger halves . reduce heat to low ; cover ; boil until wilted but\n",
      "\n",
      "629/629 [==============================] - 38s 60ms/step - loss: 1.9778\n",
      "Epoch 7/25\n",
      "629/629 [==============================] - ETA: 0s - loss: 1.9033  \n",
      "generated text:\n",
      "recipe for mixed grain salad with ginger butter | using . heat butter in 3 - cup heavy small minute . add onions and fennel butter and saut ? until foam subsides ; saut ? until tender , about 15 minutes . add pears and cook at boil , stirring until butter is tender , about 3 minutes . remove from heat . cover and bring to boil . cover ; reduce heat . reduce heat and simmer until onions are almost tender , about 5 minutes . stir in parsley , chopped scallions , and lemon . continue whisking\n",
      "\n",
      "629/629 [==============================] - 39s 62ms/step - loss: 1.9033\n",
      "Epoch 8/25\n",
      "629/629 [==============================] - ETA: 0s - loss: 1.8478  \n",
      "generated text:\n",
      "recipe for chili - balsamic roast bacon | in a heavy skillet cook pasta in a pot of salted water until just tender , about 3 minutes . for a medium speed , refresh it under running water to 1 1 / 2 hours . transfer the skewered all - dried kale and water to a boil , stirring , and remove the flesh to skillet over medium heat . add the brown oil , chile , and cook uncovered until they are light brown and fluffy and place in the hot water . add the rice juice and a\n",
      "\n",
      "629/629 [==============================] - 38s 61ms/step - loss: 1.8478\n",
      "Epoch 9/25\n",
      "629/629 [==============================] - ETA: 0s - loss: 1.8034  \n",
      "generated text:\n",
      "recipe for swiss confit with cream and onions | remove one third of hot water by handfuls by about 2 inches apart . add onion and rub with maple oil , and red peppers , then add to rest and neck bagna leaves , if necessary . alternate tuna , baste at once charred , for 25 to 18 minutes , cutting side up as foods ' s more than capon as possible . spread edges to 3 1 / or 3 - inch - thick head and something skin . arrange off pork strips phyllo halves . smear separately\n",
      "\n",
      "629/629 [==============================] - 39s 62ms/step - loss: 1.8034\n",
      "Epoch 10/25\n",
      "629/629 [==============================] - ETA: 0s - loss: 1.7672  \n",
      "generated text:\n",
      "recipe for pizza dough | in a bowl , dip the yolks in the 2 tablespoons of a second cup of the pan , and add proof it to the basil . slowly transfer to a bowl of a heavy drop of dough loaf to caramelize and a few seconds on foil on an oiled rack on a work surface and continue to allow the pan on top rack on the rack and bake for 30 minutes more . ( follows : can be made 8 hours ahead gremolata . ) in a large bowl , whisk together butter ,\n",
      "\n",
      "629/629 [==============================] - 38s 60ms/step - loss: 1.7672\n",
      "Epoch 11/25\n",
      "629/629 [==============================] - ETA: 0s - loss: 1.7360  \n",
      "generated text:\n",
      "recipe for smoked salmon , spinach and red cheese sauce | mix scallions , garlic , 1 teaspoon salt , and 1 / 4 teaspoon pepper to taste , and orange peel and season all or vinaigrette over with 1 teaspoon of lemon juice . spoon yellow mixture several amounts of each fish on fish sauce and weight to pie plate . put on a prepared pan . broil pears on top of spring rice and divide between 5 - by 3 - inch square ( lined bone to 12 inches from top of bread . ) chop top and\n",
      "\n",
      "629/629 [==============================] - 39s 61ms/step - loss: 1.7360\n",
      "Epoch 12/25\n",
      "629/629 [==============================] - ETA: 0s - loss: 1.7096  \n",
      "generated text:\n",
      "recipe for giant blackberry trifle pie | roll first 5 to 9 to 9 cm from 11 x 2 x 11 - inch baking sheet . place nectarines and next dates in microwave to 400 ? f . spread remaining 2 tablespoonfuls gather into meatballs , forming low - green slices , creating 2 - inch rectangles . roll out each dough disk . spread tightly on work surface . brush with 1 / 2 1 / 2 teaspoons sugar ; repeat with remaining phyllo trimmings , then press lightly filling to fill bottom of dish . press 1 /\n",
      "\n",
      "629/629 [==============================] - 38s 60ms/step - loss: 1.7096\n",
      "Epoch 13/25\n",
      "629/629 [==============================] - ETA: 0s - loss: 1.6857  \n",
      "generated text:\n",
      "recipe for skillet beef fudge fries with pecan compote and hoisin omelet | heat oven to 375 ? f on baking sheet . brush bottom with skin sides . repeat with remaining stuffing , rosemary , and bread slices . < artichokes of remaining sweet crepes can be made 1 day ahead . cover ; chill . heat oil in heavy medium nonstick skillet over medium - high heat . add thyme , thyme , lemon peel and white pepper ; saut ? until golden in spots ( ham thermometer inserted into same cooking , about 8 hours . )\n",
      "\n",
      "629/629 [==============================] - 38s 61ms/step - loss: 1.6857\n",
      "Epoch 14/25\n",
      "629/629 [==============================] - ETA: 0s - loss: 1.6648  \n",
      "generated text:\n",
      "recipe for berry and cassis spice ice pops | in a bowl , combine shallot and sugar for 8 to 12 cups , stirring often . stir over low heat until sugar dissolves . taste and add coconut milk , salt , and bean sachet . 4 . heat for another 3 / 2 - cup high on high power , adding granulated sugar to the gravy incorporate the pan . remove the breads into the mixture and floured surface . add the peaches to the skillet , tilting the batter to beat ( it will pale golden , at\n",
      "\n",
      "629/629 [==============================] - 38s 61ms/step - loss: 1.6648\n",
      "Epoch 15/25\n",
      "629/629 [==============================] - ETA: 0s - loss: 1.6462  \n",
      "generated text:\n",
      "recipe for lemon and orange coulis | whisk olive oil and ginger in small bowl and blend thoroughly with juices , olives , basil , jicama , and mint . combine ground herbs , rum , sugar and ginger . bring to hot water to room temperature . bring liquid to boil over medium - high heat until sugar dissolves . spoon zabaglione into balloon glasses , dividing equally . cover with ice cream ( keep frozen for at least 30 hours . ) \n",
      "\n",
      "629/629 [==============================] - 38s 60ms/step - loss: 1.6462\n",
      "Epoch 16/25\n",
      "629/629 [==============================] - ETA: 0s - loss: 1.6292  \n",
      "generated text:\n",
      "recipe for boudin rancheros ribs with greek - artichoke sauce | preheat oven to 375 ? f . mix cilantro , soy sauce , and black pepper in small bowl . drizzle oil over salad in same object . top with stuffing . let stand 5 minutes . peel and beets , reserving 1 strip for even . sprinkle with 1 / 2 tsp . chopped crushed oregano and coriander very chopped green kale . arrange noodles and peel in bread . toss with 2 tablespoons olive oil in same skillet . sprinkle with salt and pepper . grill pork\n",
      "\n",
      "629/629 [==============================] - 40s 63ms/step - loss: 1.6292\n",
      "Epoch 17/25\n",
      "629/629 [==============================] - ETA: 0s - loss: 1.6137  \n",
      "generated text:\n",
      "recipe for rib - eye steak with whisky - ground sweet potatoes and lemongrass jus | combine brown sugar and sage in a small bowl for pan , then stir - white pepper mixture in batches , adding herbs , garlic as necessary , or greens , and salt and pepper to taste . toss fish and bell peppers with salt and pepper to taste in dressing . arrange wonton on a plate and salmon along with remaining bread , and sprinkle remaining dressing , red potatoes , and remaining lemon juice mixture into , then chill it in 2\n",
      "\n",
      "629/629 [==============================] - 43s 68ms/step - loss: 1.6137\n",
      "Epoch 18/25\n",
      "628/629 [============================>.] - ETA: 0s - loss: 1.5995  \n",
      "generated text:\n",
      "recipe for green vinaigrette and avocado slaw | toss chicken with enough vinaigrette to make a stock on the room temperature before being chilled \n",
      "\n",
      "629/629 [==============================] - 35s 55ms/step - loss: 1.5996\n",
      "Epoch 19/25\n",
      "629/629 [==============================] - ETA: 0s - loss: 1.5864 \n",
      "generated text:\n",
      "recipe for raspberry custard | combine 3 / 3 cup infused milk and sugar in small saucepan . increase heat to medium - high . bring mixture in pot , whisking until mixture is cool . but do not overwork color , add all remaining ingredients . bring to simmer ; reduce heat to medium . spoon 3 / 2 cup sugar over chocolate chips ; let stand at room temperature 1 hour . using lemon hands transfer to large bowl . slice fresh cherries lengthwise into thin slices ; discard solids in strainer . chill custard until cold ,\n",
      "\n",
      "629/629 [==============================] - 38s 61ms/step - loss: 1.5864\n",
      "Epoch 20/25\n",
      "628/629 [============================>.] - ETA: 0s - loss: 1.5745  \n",
      "generated text:\n",
      "recipe for [UNK] vegetable soup | in a large saucepan cook potatoes with an comal over moderate heat , covered , checking occasionally , until softened , about 25 minutes . add clam juice , broth , remaining 3 tablespoons stock , , remaining tablespoon reserved cooking liquid , and parsley immediately . simmer , stirring occasionally , until crisptender , 3 to 4 minutes . ( sauce may be prepared up to this point 2 days ahead and keep chilled ( 1 day ahead . let sit while you slightly fine . ) \n",
      "\n",
      "629/629 [==============================] - 38s 60ms/step - loss: 1.5743\n",
      "Epoch 21/25\n",
      "628/629 [============================>.] - ETA: 0s - loss: 1.5630  \n",
      "generated text:\n",
      "recipe for arugula , radish , and feta salad with root salsa | mix first 7 ingredients in heavy medium saucepan . mix in potatoes . mix half of omelet , half of reserved vinegar , and 1 teaspoon lemon peel in medium bowl . sprinkle calamari with salt and pepper . heat oil in small skillet over high heat . add ground butter and stir until chopped but not yet stirring ; transfer to prepared bowl . let stand at least 30 minutes . preheat oven to 375 ? f . line rimmed baking sheet with parchment paper .\n",
      "\n",
      "629/629 [==============================] - 38s 61ms/step - loss: 1.5627\n",
      "Epoch 22/25\n",
      "629/629 [==============================] - ETA: 0s - loss: 1.5522  \n",
      "generated text:\n",
      "recipe for roasted eggplant with gorgonzola and sweet potatoes | heat oil in large bowl to combine mixed . heat 1 1 / 2 tablespoons oil in heavy large pot over medium - high heat . add onions and saut ? until beginning to brown , about 10 minutes . add sausage and saut ? 4 minutes . add carrots , celery and squash and saut ? 2 minutes . add bell pepper and celery stalks . bring to simmer , then bring water to boil , stirring until pork is absorbed ( stew is boiling part ) , 25\n",
      "\n",
      "629/629 [==============================] - 39s 61ms/step - loss: 1.5522\n",
      "Epoch 23/25\n",
      "628/629 [============================>.] - ETA: 0s - loss: 1.5420  \n",
      "generated text:\n",
      "recipe for chinese sausages | using 1 - mesh sieve , squeeze from stems , using baking holes on work surface . cut out additional thin about 3 / 4 inch from top . using any mallet , push down portions of marshmallows , seam side down , on work surface . cut each half diagonally in center of each sandwich . transfer to tapenade pesto , wiping any bowl and rearranging excess water from sauce . using small sharp knife , set all at cavity end near rim that extend from several shallow or 8 - inch pie dish\n",
      "\n",
      "629/629 [==============================] - 39s 62ms/step - loss: 1.5422\n",
      "Epoch 24/25\n",
      "628/629 [============================>.] - ETA: 0s - loss: 1.5330  \n",
      "generated text:\n",
      "recipe for maraschino cherry crisp | using an electric mixer on medium speed , beat sugar cloves in stiff crystals on a work surface , then fit into a 9x5x3 - inch glass pie plate . coat 3 ( 2 bitters ) all over cut sides of dish and slice remaining graham lengthwise into 1 layer in baking dish . using tip of a sharp paring knife , sprinkle with 1 / 2 cup sugar and lemon juice . place on baking sheet . spoon up sides of prepared baking sheet ; freeze 15 minutes , or until nuts are\n",
      "\n",
      "629/629 [==============================] - 38s 61ms/step - loss: 1.5327\n",
      "Epoch 25/25\n",
      "629/629 [==============================] - ETA: 0s - loss: 1.5239  \n",
      "generated text:\n",
      "recipe for homemade summer mashed potatoes | preheat oven to 400 ? f . lightly oil six 1 / 5 - cup souffl ? dishes . line rimmed with second baking sheet . brush heavy large nonstick skillet over medium - high heat . place skillet over high heat . drizzle remaining 3 tablespoons butter over bits . cover dough tightly with foil ; bake until bread and golden on bottom and tester inserted into center comes out clean , about 55 minutes . cool in pan on rack . cut out cakes into 3 / 4 - inch -\n",
      "\n",
      "629/629 [==============================] - 43s 69ms/step - loss: 1.5239\n"
     ]
    },
    {
     "data": {
      "text/plain": [
       "<keras.callbacks.History at 0x21c966d0370>"
      ]
     },
     "execution_count": 21,
     "metadata": {},
     "output_type": "execute_result"
    }
   ],
   "source": [
    "lstm.fit(\n",
    "    train_ds,\n",
    "    epochs=EPOCHS,\n",
    "    callbacks=[model_checkpoint_callback, tensorboard_callback, text_generator],\n",
    ")"
   ]
  },
  {
   "cell_type": "code",
   "execution_count": 22,
   "id": "369bde44-2e39-4bc6-8549-a3a27ecce55c",
   "metadata": {
    "tags": []
   },
   "outputs": [
    {
     "name": "stderr",
     "output_type": "stream",
     "text": [
      "WARNING:absl:Found untraced functions such as lstm_cell_layer_call_fn, lstm_cell_layer_call_and_return_conditional_losses while saving (showing 2 of 2). These functions will not be directly callable after loading.\n"
     ]
    },
    {
     "name": "stdout",
     "output_type": "stream",
     "text": [
      "INFO:tensorflow:Assets written to: ./models/lstm\\assets\n"
     ]
    },
    {
     "name": "stderr",
     "output_type": "stream",
     "text": [
      "INFO:tensorflow:Assets written to: ./models/lstm\\assets\n"
     ]
    }
   ],
   "source": [
    "# Save the final model\n",
    "lstm.save(\"./models/lstm\")"
   ]
  },
  {
   "cell_type": "markdown",
   "id": "d64e02d2-84dc-40c8-8446-40c09adf1e20",
   "metadata": {},
   "source": [
    "## 6. Generate text using the LSTM"
   ]
  },
  {
   "cell_type": "code",
   "execution_count": 23,
   "id": "4ad23adb-3ec9-4e9a-9a59-b9f9bafca649",
   "metadata": {},
   "outputs": [],
   "source": [
    "def print_probs(info, vocab, top_k=5):\n",
    "    for i in info:\n",
    "        print(f\"\\nPROMPT: {i['prompt']}\")\n",
    "        word_probs = i[\"word_probs\"]\n",
    "        p_sorted = np.sort(word_probs)[::-1][:top_k]\n",
    "        i_sorted = np.argsort(word_probs)[::-1][:top_k]\n",
    "        for p, i in zip(p_sorted, i_sorted):\n",
    "            print(f\"{vocab[i]}:   \\t{np.round(100*p,2)}%\")\n",
    "        print(\"--------\\n\")"
   ]
  },
  {
   "cell_type": "code",
   "execution_count": 24,
   "id": "3cf25578-d47c-4b26-8252-fcdf2316a4ac",
   "metadata": {},
   "outputs": [
    {
     "name": "stdout",
     "output_type": "stream",
     "text": [
      "\n",
      "generated text:\n",
      "recipe for roasted vegetables | chop 1 / 2 cup\n",
      "\n"
     ]
    }
   ],
   "source": [
    "info = text_generator.generate(\n",
    "    \"recipe for roasted vegetables | chop 1 /\", max_tokens=10, temperature=1.0\n",
    ")"
   ]
  },
  {
   "cell_type": "code",
   "execution_count": 25,
   "id": "9df72866-b483-4489-8e26-d5e1466410fa",
   "metadata": {
    "tags": []
   },
   "outputs": [
    {
     "name": "stdout",
     "output_type": "stream",
     "text": [
      "\n",
      "PROMPT: recipe for roasted vegetables | chop 1 /\n",
      "4:   \t53.15%\n",
      "2:   \t36.95%\n",
      "3:   \t6.22%\n",
      "8:   \t2.01%\n",
      "1:   \t0.18%\n",
      "--------\n",
      "\n",
      "\n",
      "PROMPT: recipe for roasted vegetables | chop 1 / 2\n",
      "cup:   \t78.66%\n",
      "of:   \t4.01%\n",
      "teaspoon:   \t3.47%\n",
      "tablespoon:   \t1.69%\n",
      "tsp:   \t1.67%\n",
      "--------\n",
      "\n"
     ]
    }
   ],
   "source": [
    "print_probs(info, vocab)"
   ]
  },
  {
   "cell_type": "code",
   "execution_count": 26,
   "id": "562e1fe8-cbcb-438f-9637-2f2a6279c924",
   "metadata": {},
   "outputs": [
    {
     "name": "stdout",
     "output_type": "stream",
     "text": [
      "\n",
      "generated text:\n",
      "recipe for roasted vegetables | chop 1 / 2 cup\n",
      "\n"
     ]
    }
   ],
   "source": [
    "info = text_generator.generate(\n",
    "    \"recipe for roasted vegetables | chop 1 /\", max_tokens=10, temperature=0.2\n",
    ")"
   ]
  },
  {
   "cell_type": "code",
   "execution_count": 27,
   "id": "56356f21-04ac-40e5-94ff-291eca6a7054",
   "metadata": {},
   "outputs": [
    {
     "name": "stdout",
     "output_type": "stream",
     "text": [
      "\n",
      "PROMPT: recipe for roasted vegetables | chop 1 /\n",
      "4:   \t86.03%\n",
      "2:   \t13.97%\n",
      "3:   \t0.0%\n",
      "8:   \t0.0%\n",
      "1:   \t0.0%\n",
      "--------\n",
      "\n",
      "\n",
      "PROMPT: recipe for roasted vegetables | chop 1 / 2\n",
      "cup:   \t100.0%\n",
      "of:   \t0.0%\n",
      "teaspoon:   \t0.0%\n",
      "tablespoon:   \t0.0%\n",
      "tsp:   \t0.0%\n",
      "--------\n",
      "\n"
     ]
    }
   ],
   "source": [
    "print_probs(info, vocab)"
   ]
  },
  {
   "cell_type": "code",
   "execution_count": 28,
   "id": "2e434497-07f3-4989-a68d-3e31cf8fa4fe",
   "metadata": {},
   "outputs": [
    {
     "name": "stdout",
     "output_type": "stream",
     "text": [
      "\n",
      "generated text:\n",
      "recipe for chocolate ice cream | in\n",
      "\n",
      "\n",
      "PROMPT: recipe for chocolate ice cream |\n",
      "in:   \t16.34%\n",
      "combine:   \t13.08%\n",
      "bring:   \t11.59%\n",
      "preheat:   \t7.41%\n",
      "whisk:   \t6.88%\n",
      "--------\n",
      "\n"
     ]
    }
   ],
   "source": [
    "info = text_generator.generate(\n",
    "    \"recipe for chocolate ice cream |\", max_tokens=7, temperature=1.0\n",
    ")\n",
    "print_probs(info, vocab)"
   ]
  },
  {
   "cell_type": "code",
   "execution_count": 29,
   "id": "011cd0e0-956c-4a63-8ec3-f7dfed31764e",
   "metadata": {},
   "outputs": [
    {
     "name": "stdout",
     "output_type": "stream",
     "text": [
      "\n",
      "generated text:\n",
      "recipe for chocolate ice cream | combine\n",
      "\n",
      "\n",
      "PROMPT: recipe for chocolate ice cream |\n",
      "in:   \t64.85%\n",
      "combine:   \t21.34%\n",
      "bring:   \t11.66%\n",
      "preheat:   \t1.24%\n",
      "whisk:   \t0.86%\n",
      "--------\n",
      "\n"
     ]
    }
   ],
   "source": [
    "info = text_generator.generate(\n",
    "    \"recipe for chocolate ice cream |\", max_tokens=7, temperature=0.2\n",
    ")\n",
    "print_probs(info, vocab)"
   ]
  },
  {
   "cell_type": "code",
   "execution_count": null,
   "id": "dd36ba18-7abc-487b-b886-3f428908b8d8",
   "metadata": {},
   "outputs": [],
   "source": []
  }
 ],
 "metadata": {
  "kernelspec": {
   "display_name": "Python 3 (ipykernel)",
   "language": "python",
   "name": "python3"
  },
  "language_info": {
   "codemirror_mode": {
    "name": "ipython",
    "version": 3
   },
   "file_extension": ".py",
   "mimetype": "text/x-python",
   "name": "python",
   "nbconvert_exporter": "python",
   "pygments_lexer": "ipython3",
   "version": "3.9.21"
  }
 },
 "nbformat": 4,
 "nbformat_minor": 5
}
