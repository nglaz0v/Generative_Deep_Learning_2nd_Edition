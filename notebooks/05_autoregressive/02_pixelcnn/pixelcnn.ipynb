{
 "cells": [
  {
   "cell_type": "markdown",
   "id": "206a93a2-e9b0-4ea2-a43f-696faa83ea03",
   "metadata": {},
   "source": [
    "# 👾 PixelCNN from scratch"
   ]
  },
  {
   "cell_type": "markdown",
   "id": "1af9e216-7e84-4f5b-a2db-26aca3bea464",
   "metadata": {},
   "source": [
    "In this notebook, we'll walk through the steps required to train your own PixelCNN on the fashion MNIST dataset from scratch"
   ]
  },
  {
   "cell_type": "markdown",
   "id": "9c1e6bbc-6f3b-48ac-a4f3-fde6f739f0ca",
   "metadata": {},
   "source": [
    "The code has been adapted from the excellent [PixelCNN tutorial](https://keras.io/examples/generative/pixelcnn/) created by ADMoreau, available on the Keras website."
   ]
  },
  {
   "cell_type": "code",
   "execution_count": 1,
   "id": "6acebfa8-4546-41fd-adaa-2307c65b1b8e",
   "metadata": {},
   "outputs": [],
   "source": [
    "%load_ext autoreload\n",
    "%autoreload 2\n",
    "import numpy as np\n",
    "\n",
    "import tensorflow as tf\n",
    "from tensorflow.keras import datasets, layers, models, optimizers, callbacks\n",
    "\n",
    "import sys\n",
    "import os\n",
    "sys.path.append(os.path.abspath(os.path.join(os.getcwd(), '../../..')))\n",
    "from notebooks.utils import display"
   ]
  },
  {
   "cell_type": "markdown",
   "id": "8543166d-f4c7-43f8-a452-21ccbf2a0496",
   "metadata": {},
   "source": [
    "## 0. Parameters <a name=\"parameters\"></a>"
   ]
  },
  {
   "cell_type": "code",
   "execution_count": 2,
   "id": "444d84de-2843-40d6-8e2e-93691a5393ab",
   "metadata": {},
   "outputs": [],
   "source": [
    "IMAGE_SIZE = 16\n",
    "PIXEL_LEVELS = 4\n",
    "N_FILTERS = 128\n",
    "RESIDUAL_BLOCKS = 5\n",
    "BATCH_SIZE = 128\n",
    "EPOCHS = 150"
   ]
  },
  {
   "cell_type": "markdown",
   "id": "d65dac68-d20b-4ed9-a136-eed57095ce4f",
   "metadata": {},
   "source": [
    "## 1. Prepare the data <a name=\"prepare\"></a>"
   ]
  },
  {
   "cell_type": "code",
   "execution_count": 3,
   "id": "0ed0fc56-d1b0-4d42-b029-f4198f78e666",
   "metadata": {},
   "outputs": [],
   "source": [
    "# Load the data\n",
    "(x_train, _), (_, _) = datasets.fashion_mnist.load_data()"
   ]
  },
  {
   "cell_type": "code",
   "execution_count": 4,
   "id": "b667e78c-8fa7-4e5b-a2c0-69e50166ef77",
   "metadata": {},
   "outputs": [],
   "source": [
    "# Preprocess the data\n",
    "def preprocess(imgs_int):\n",
    "    imgs_int = np.expand_dims(imgs_int, -1)\n",
    "    imgs_int = tf.image.resize(imgs_int, (IMAGE_SIZE, IMAGE_SIZE)).numpy()\n",
    "    imgs_int = (imgs_int / (256 / PIXEL_LEVELS)).astype(int)\n",
    "    imgs = imgs_int.astype(\"float32\")\n",
    "    imgs = imgs / PIXEL_LEVELS\n",
    "    return imgs, imgs_int\n",
    "\n",
    "\n",
    "input_data, output_data = preprocess(x_train)"
   ]
  },
  {
   "cell_type": "code",
   "execution_count": 5,
   "id": "e3c2b304-8385-4931-8291-9b7cc462c95e",
   "metadata": {},
   "outputs": [
    {
     "data": {
      "image/png": "[encoded data removed]",
      "text/plain": [
       "<Figure size 2000x300 with 10 Axes>"
      ]
     },
     "metadata": {},
     "output_type": "display_data"
    }
   ],
   "source": [
    "# Show some items of clothing from the training set\n",
    "display(input_data)"
   ]
  },
  {
   "cell_type": "markdown",
   "id": "5ccd5cb2-8c7b-4667-8adb-4902f3fa60cf",
   "metadata": {},
   "source": [
    "## 2. Build the PixelCNN"
   ]
  },
  {
   "cell_type": "code",
   "execution_count": 6,
   "id": "847050a5-e4e6-4134-9bfc-c690cb8cb44d",
   "metadata": {},
   "outputs": [],
   "source": [
    "# The first layer is the PixelCNN layer. This layer simply\n",
    "# builds on the 2D convolutional layer, but includes masking.\n",
    "class MaskedConv2D(layers.Layer):\n",
    "    def __init__(self, mask_type, **kwargs):\n",
    "        super(MaskedConv2D, self).__init__()\n",
    "        self.mask_type = mask_type\n",
    "        self.conv = layers.Conv2D(**kwargs)\n",
    "\n",
    "    def build(self, input_shape):\n",
    "        # Build the conv2d layer to initialize kernel variables\n",
    "        self.conv.build(input_shape)\n",
    "        # Use the initialized kernel to create the mask\n",
    "        kernel_shape = self.conv.kernel.get_shape()\n",
    "        self.mask = np.zeros(shape=kernel_shape)\n",
    "        self.mask[: kernel_shape[0] // 2, ...] = 1.0\n",
    "        self.mask[kernel_shape[0] // 2, : kernel_shape[1] // 2, ...] = 1.0\n",
    "        if self.mask_type == \"B\":\n",
    "            self.mask[kernel_shape[0] // 2, kernel_shape[1] // 2, ...] = 1.0\n",
    "\n",
    "    def call(self, inputs):\n",
    "        self.conv.kernel.assign(self.conv.kernel * self.mask)\n",
    "        return self.conv(inputs)\n",
    "\n",
    "    def get_config(self):\n",
    "        cfg = super().get_config()\n",
    "        return cfg"
   ]
  },
  {
   "cell_type": "code",
   "execution_count": 7,
   "id": "a52f7795-790e-47b0-b724-80be3e3c3666",
   "metadata": {},
   "outputs": [],
   "source": [
    "class ResidualBlock(layers.Layer):\n",
    "    def __init__(self, filters, **kwargs):\n",
    "        super(ResidualBlock, self).__init__(**kwargs)\n",
    "        self.conv1 = layers.Conv2D(\n",
    "            filters=filters // 2, kernel_size=1, activation=\"relu\"\n",
    "        )\n",
    "        self.pixel_conv = MaskedConv2D(\n",
    "            mask_type=\"B\",\n",
    "            filters=filters // 2,\n",
    "            kernel_size=3,\n",
    "            activation=\"relu\",\n",
    "            padding=\"same\",\n",
    "        )\n",
    "        self.conv2 = layers.Conv2D(\n",
    "            filters=filters, kernel_size=1, activation=\"relu\"\n",
    "        )\n",
    "\n",
    "    def call(self, inputs):\n",
    "        x = self.conv1(inputs)\n",
    "        x = self.pixel_conv(x)\n",
    "        x = self.conv2(x)\n",
    "        return layers.add([inputs, x])\n",
    "\n",
    "    def get_config(self):\n",
    "        cfg = super().get_config()\n",
    "        return cfg"
   ]
  },
  {
   "cell_type": "code",
   "execution_count": 8,
   "id": "19b4508f-84de-42a9-a77f-950fb493db13",
   "metadata": {},
   "outputs": [
    {
     "name": "stdout",
     "output_type": "stream",
     "text": [
      "Model: \"model\"\n",
      "_________________________________________________________________\n",
      " Layer (type)                Output Shape              Param #   \n",
      "=================================================================\n",
      " input_1 (InputLayer)        [(None, 16, 16, 1)]       0         \n",
      "                                                                 \n",
      " masked_conv2d (MaskedConv2D  (None, 16, 16, 128)      6400      \n",
      " )                                                               \n",
      "                                                                 \n",
      " residual_block (ResidualBlo  (None, 16, 16, 128)      53504     \n",
      " ck)                                                             \n",
      "                                                                 \n",
      " residual_block_1 (ResidualB  (None, 16, 16, 128)      53504     \n",
      " lock)                                                           \n",
      "                                                                 \n",
      " residual_block_2 (ResidualB  (None, 16, 16, 128)      53504     \n",
      " lock)                                                           \n",
      "                                                                 \n",
      " residual_block_3 (ResidualB  (None, 16, 16, 128)      53504     \n",
      " lock)                                                           \n",
      "                                                                 \n",
      " residual_block_4 (ResidualB  (None, 16, 16, 128)      53504     \n",
      " lock)                                                           \n",
      "                                                                 \n",
      " masked_conv2d_6 (MaskedConv  (None, 16, 16, 128)      16512     \n",
      " 2D)                                                             \n",
      "                                                                 \n",
      " masked_conv2d_7 (MaskedConv  (None, 16, 16, 128)      16512     \n",
      " 2D)                                                             \n",
      "                                                                 \n",
      " conv2d_18 (Conv2D)          (None, 16, 16, 4)         516       \n",
      "                                                                 \n",
      "=================================================================\n",
      "Total params: 307,460\n",
      "Trainable params: 307,460\n",
      "Non-trainable params: 0\n",
      "_________________________________________________________________\n"
     ]
    }
   ],
   "source": [
    "inputs = layers.Input(shape=(IMAGE_SIZE, IMAGE_SIZE, 1))\n",
    "x = MaskedConv2D(\n",
    "    mask_type=\"A\",\n",
    "    filters=N_FILTERS,\n",
    "    kernel_size=7,\n",
    "    activation=\"relu\",\n",
    "    padding=\"same\",\n",
    ")(inputs)\n",
    "\n",
    "for _ in range(RESIDUAL_BLOCKS):\n",
    "    x = ResidualBlock(filters=N_FILTERS)(x)\n",
    "\n",
    "for _ in range(2):\n",
    "    x = MaskedConv2D(\n",
    "        mask_type=\"B\",\n",
    "        filters=N_FILTERS,\n",
    "        kernel_size=1,\n",
    "        strides=1,\n",
    "        activation=\"relu\",\n",
    "        padding=\"valid\",\n",
    "    )(x)\n",
    "\n",
    "out = layers.Conv2D(\n",
    "    filters=PIXEL_LEVELS,\n",
    "    kernel_size=1,\n",
    "    strides=1,\n",
    "    activation=\"softmax\",\n",
    "    padding=\"valid\",\n",
    ")(x)\n",
    "\n",
    "pixel_cnn = models.Model(inputs, out)\n",
    "pixel_cnn.summary()"
   ]
  },
  {
   "cell_type": "markdown",
   "id": "442b5ffa-67a3-4b15-a342-eb1eed5e87ac",
   "metadata": {},
   "source": [
    "## 3. Train the PixelCNN <a name=\"train\"></a>"
   ]
  },
  {
   "cell_type": "code",
   "execution_count": 9,
   "id": "7204789a-2ad3-48bf-b7e8-00d4cab10d9c",
   "metadata": {},
   "outputs": [],
   "source": [
    "adam = optimizers.Adam(learning_rate=0.0005)\n",
    "pixel_cnn.compile(optimizer=adam, loss=\"sparse_categorical_crossentropy\")"
   ]
  },
  {
   "cell_type": "code",
   "execution_count": 10,
   "id": "09d327fc-aff8-40e6-b390-d1bff4c06ea6",
   "metadata": {},
   "outputs": [],
   "source": [
    "tensorboard_callback = callbacks.TensorBoard(log_dir=\"./logs\")\n",
    "\n",
    "\n",
    "class ImageGenerator(callbacks.Callback):\n",
    "    def __init__(self, num_img):\n",
    "        self.num_img = num_img\n",
    "\n",
    "    def sample_from(self, probs, temperature):  # <2>\n",
    "        probs = probs ** (1 / temperature)\n",
    "        probs = probs / np.sum(probs)\n",
    "        return np.random.choice(len(probs), p=probs)\n",
    "\n",
    "    def generate(self, temperature):\n",
    "        generated_images = np.zeros(\n",
    "            shape=(self.num_img,) + (pixel_cnn.input_shape)[1:]\n",
    "        )\n",
    "        batch, rows, cols, channels = generated_images.shape\n",
    "\n",
    "        for row in range(rows):\n",
    "            for col in range(cols):\n",
    "                for channel in range(channels):\n",
    "                    probs = self.model.predict(generated_images, verbose=0)[\n",
    "                        :, row, col, :\n",
    "                    ]\n",
    "                    generated_images[:, row, col, channel] = [\n",
    "                        self.sample_from(x, temperature) for x in probs\n",
    "                    ]\n",
    "                    generated_images[:, row, col, channel] /= PIXEL_LEVELS\n",
    "\n",
    "        return generated_images\n",
    "\n",
    "    def on_epoch_end(self, epoch, logs=None):\n",
    "        generated_images = self.generate(temperature=1.0)\n",
    "        display(\n",
    "            generated_images,\n",
    "            save_to=\"./output/generated_img_%03d.png\" % (epoch),\n",
    "        )\n",
    "\n",
    "\n",
    "img_generator_callback = ImageGenerator(num_img=10)"
   ]
  },
  {
   "cell_type": "code",
   "execution_count": 11,
   "id": "85231056-d4a4-4897-ab91-065325a18d93",
   "metadata": {
    "tags": []
   },
   "outputs": [
    {
     "name": "stdout",
     "output_type": "stream",
     "text": [
      "Epoch 1/150\n",
      "WARNING:tensorflow:Callback method `on_train_batch_end` is slow compared to the batch time (batch time: 0.0167s vs `on_train_batch_end` time: 0.0179s). Check your callbacks.\n",
      "469/469 [==============================] - ETA: 0s - loss: 0.4880 \n",
      "Saved to ./output/generated_img_000.png\n"
     ]
    },
    {
     "data": {
      "image/png": "[encoded data removed]",
      "text/plain": [
       "<Figure size 2000x300 with 10 Axes>"
      ]
     },
     "metadata": {},
     "output_type": "display_data"
    },
    {
     "name": "stdout",
     "output_type": "stream",
     "text": [
      "469/469 [==============================] - 34s 61ms/step - loss: 0.4880\n",
      "Epoch 2/150\n",
      "468/469 [============================>.] - ETA: 0s - loss: 0.3979  \n",
      "Saved to ./output/generated_img_001.png\n"
     ]
    },
    {
     "data": {
      "image/png": "[encoded data removed]",
      "text/plain": [
       "<Figure size 2000x300 with 10 Axes>"
      ]
     },
     "metadata": {},
     "output_type": "display_data"
    },
    {
     "name": "stdout",
     "output_type": "stream",
     "text": [
      "469/469 [==============================] - 28s 59ms/step - loss: 0.3978\n",
      "Epoch 3/150\n",
      "468/469 [============================>.] - ETA: 0s - loss: 0.3852  \n",
      "Saved to ./output/generated_img_002.png\n"
     ]
    },
    {
     "data": {
      "image/png": "[encoded data removed]",
      "text/plain": [
       "<Figure size 2000x300 with 10 Axes>"
      ]
     },
     "metadata": {},
     "output_type": "display_data"
    },
    {
     "name": "stdout",
     "output_type": "stream",
     "text": [
      "469/469 [==============================] - 28s 60ms/step - loss: 0.3852\n",
      "Epoch 4/150\n",
      "468/469 [============================>.] - ETA: 0s - loss: 0.3791  \n",
      "Saved to ./output/generated_img_003.png\n"
     ]
    },
    {
     "data": {
      "image/png": "[encoded data removed]",
      "text/plain": [
       "<Figure size 2000x300 with 10 Axes>"
      ]
     },
     "metadata": {},
     "output_type": "display_data"
    },
    {
     "name": "stdout",
     "output_type": "stream",
     "text": [
      "469/469 [==============================] - 28s 59ms/step - loss: 0.3791\n",
      "Epoch 5/150\n",
      "469/469 [==============================] - ETA: 0s - loss: 0.3747  \n",
      "Saved to ./output/generated_img_004.png\n"
     ]
    },
    {
     "data": {
      "image/png": "[encoded data removed]",
      "text/plain": [
       "<Figure size 2000x300 with 10 Axes>"
      ]
     },
     "metadata": {},
     "output_type": "display_data"
    },
    {
     "name": "stdout",
     "output_type": "stream",
     "text": [
      "469/469 [==============================] - 28s 59ms/step - loss: 0.3747\n",
      "Epoch 6/150\n",
      "469/469 [==============================] - ETA: 0s - loss: 0.3714  \n",
      "Saved to ./output/generated_img_005.png\n"
     ]
    },
    {
     "data": {
      "image/png": "[encoded data removed]",
      "text/plain": [
       "<Figure size 2000x300 with 10 Axes>"
      ]
     },
     "metadata": {},
     "output_type": "display_data"
    },
    {
     "name": "stdout",
     "output_type": "stream",
     "text": [
      "469/469 [==============================] - 28s 60ms/step - loss: 0.3714\n",
      "Epoch 7/150\n",
      "468/469 [============================>.] - ETA: 0s - loss: 0.3684  \n",
      "Saved to ./output/generated_img_006.png\n"
     ]
    },
    {
     "data": {
      "image/png": "[encoded data removed]",
      "text/plain": [
       "<Figure size 2000x300 with 10 Axes>"
      ]
     },
     "metadata": {},
     "output_type": "display_data"
    },
    {
     "name": "stdout",
     "output_type": "stream",
     "text": [
      "469/469 [==============================] - 28s 59ms/step - loss: 0.3683\n",
      "Epoch 8/150\n",
      "468/469 [============================>.] - ETA: 0s - loss: 0.3657  \n",
      "Saved to ./output/generated_img_007.png\n"
     ]
    },
    {
     "data": {
      "image/png": "[encoded data removed]",
      "text/plain": [
       "<Figure size 2000x300 with 10 Axes>"
      ]
     },
     "metadata": {},
     "output_type": "display_data"
    },
    {
     "name": "stdout",
     "output_type": "stream",
     "text": [
      "469/469 [==============================] - 28s 59ms/step - loss: 0.3657\n",
      "Epoch 9/150\n",
      "468/469 [============================>.] - ETA: 0s - loss: 0.3629  \n",
      "Saved to ./output/generated_img_008.png\n"
     ]
    },
    {
     "data": {
      "image/png": "[encoded data removed]",
      "text/plain": [
       "<Figure size 2000x300 with 10 Axes>"
      ]
     },
     "metadata": {},
     "output_type": "display_data"
    },
    {
     "name": "stdout",
     "output_type": "stream",
     "text": [
      "469/469 [==============================] - 28s 59ms/step - loss: 0.3629\n",
      "Epoch 10/150\n",
      "469/469 [==============================] - ETA: 0s - loss: 0.3605  \n",
      "Saved to ./output/generated_img_009.png\n"
     ]
    },
    {
     "data": {
      "image/png": "[encoded data removed]",
      "text/plain": [
       "<Figure size 2000x300 with 10 Axes>"
      ]
     },
     "metadata": {},
     "output_type": "display_data"
    },
    {
     "name": "stdout",
     "output_type": "stream",
     "text": [
      "469/469 [==============================] - 28s 59ms/step - loss: 0.3605\n",
      "Epoch 11/150\n",
      "469/469 [==============================] - ETA: 0s - loss: 0.3584  \n",
      "Saved to ./output/generated_img_010.png\n"
     ]
    },
    {
     "data": {
      "image/png": "[encoded data removed]",
      "text/plain": [
       "<Figure size 2000x300 with 10 Axes>"
      ]
     },
     "metadata": {},
     "output_type": "display_data"
    },
    {
     "name": "stdout",
     "output_type": "stream",
     "text": [
      "469/469 [==============================] - 28s 60ms/step - loss: 0.3584\n",
      "Epoch 12/150\n",
      "468/469 [============================>.] - ETA: 0s - loss: 0.3566  \n",
      "Saved to ./output/generated_img_011.png\n"
     ]
    },
    {
     "data": {
      "image/png": "[encoded data removed]",
      "text/plain": [
       "<Figure size 2000x300 with 10 Axes>"
      ]
     },
     "metadata": {},
     "output_type": "display_data"
    },
    {
     "name": "stdout",
     "output_type": "stream",
     "text": [
      "469/469 [==============================] - 30s 63ms/step - loss: 0.3566\n",
      "Epoch 13/150\n",
      "467/469 [============================>.] - ETA: 0s - loss: 0.3553  \n",
      "Saved to ./output/generated_img_012.png\n"
     ]
    },
    {
     "data": {
      "image/png": "[encoded data removed]",
      "text/plain": [
       "<Figure size 2000x300 with 10 Axes>"
      ]
     },
     "metadata": {},
     "output_type": "display_data"
    },
    {
     "name": "stdout",
     "output_type": "stream",
     "text": [
      "469/469 [==============================] - 29s 61ms/step - loss: 0.3553\n",
      "Epoch 14/150\n",
      "469/469 [==============================] - ETA: 0s - loss: 0.3537  \n",
      "Saved to ./output/generated_img_013.png\n"
     ]
    },
    {
     "data": {
      "image/png": "[encoded data removed]",
      "text/plain": [
       "<Figure size 2000x300 with 10 Axes>"
      ]
     },
     "metadata": {},
     "output_type": "display_data"
    },
    {
     "name": "stdout",
     "output_type": "stream",
     "text": [
      "469/469 [==============================] - 30s 64ms/step - loss: 0.3537\n",
      "Epoch 15/150\n",
      "468/469 [============================>.] - ETA: 0s - loss: 0.3525  \n",
      "Saved to ./output/generated_img_014.png\n"
     ]
    },
    {
     "data": {
      "image/png": "[encoded data removed]",
      "text/plain": [
       "<Figure size 2000x300 with 10 Axes>"
      ]
     },
     "metadata": {},
     "output_type": "display_data"
    },
    {
     "name": "stdout",
     "output_type": "stream",
     "text": [
      "469/469 [==============================] - 29s 62ms/step - loss: 0.3525\n",
      "Epoch 16/150\n",
      "468/469 [============================>.] - ETA: 0s - loss: 0.3515  \n",
      "Saved to ./output/generated_img_015.png\n"
     ]
    },
    {
     "data": {
      "image/png": "[encoded data removed]",
      "text/plain": [
       "<Figure size 2000x300 with 10 Axes>"
      ]
     },
     "metadata": {},
     "output_type": "display_data"
    },
    {
     "name": "stdout",
     "output_type": "stream",
     "text": [
      "469/469 [==============================] - 30s 63ms/step - loss: 0.3515\n",
      "Epoch 17/150\n",
      "468/469 [============================>.] - ETA: 0s - loss: 0.3502  \n",
      "Saved to ./output/generated_img_016.png\n"
     ]
    },
    {
     "data": {
      "image/png": "[encoded data removed]",
      "text/plain": [
       "<Figure size 2000x300 with 10 Axes>"
      ]
     },
     "metadata": {},
     "output_type": "display_data"
    },
    {
     "name": "stdout",
     "output_type": "stream",
     "text": [
      "469/469 [==============================] - 30s 63ms/step - loss: 0.3501\n",
      "Epoch 18/150\n",
      "468/469 [============================>.] - ETA: 0s - loss: 0.3496  \n",
      "Saved to ./output/generated_img_017.png\n"
     ]
    },
    {
     "data": {
      "image/png": "[encoded data removed]",
      "text/plain": [
       "<Figure size 2000x300 with 10 Axes>"
      ]
     },
     "metadata": {},
     "output_type": "display_data"
    },
    {
     "name": "stdout",
     "output_type": "stream",
     "text": [
      "469/469 [==============================] - 29s 62ms/step - loss: 0.3495\n",
      "Epoch 19/150\n",
      "468/469 [============================>.] - ETA: 0s - loss: 0.3483  \n",
      "Saved to ./output/generated_img_018.png\n"
     ]
    },
    {
     "data": {
      "image/png": "[encoded data removed]",
      "text/plain": [
       "<Figure size 2000x300 with 10 Axes>"
      ]
     },
     "metadata": {},
     "output_type": "display_data"
    },
    {
     "name": "stdout",
     "output_type": "stream",
     "text": [
      "469/469 [==============================] - 30s 64ms/step - loss: 0.3483\n",
      "Epoch 20/150\n",
      "467/469 [============================>.] - ETA: 0s - loss: 0.3478  \n",
      "Saved to ./output/generated_img_019.png\n"
     ]
    },
    {
     "data": {
      "image/png": "[encoded data removed]",
      "text/plain": [
       "<Figure size 2000x300 with 10 Axes>"
      ]
     },
     "metadata": {},
     "output_type": "display_data"
    },
    {
     "name": "stdout",
     "output_type": "stream",
     "text": [
      "469/469 [==============================] - 29s 60ms/step - loss: 0.3478\n",
      "Epoch 21/150\n",
      "468/469 [============================>.] - ETA: 0s - loss: 0.3469  \n",
      "Saved to ./output/generated_img_020.png\n"
     ]
    },
    {
     "data": {
      "image/png": "[encoded data removed]",
      "text/plain": [
       "<Figure size 2000x300 with 10 Axes>"
      ]
     },
     "metadata": {},
     "output_type": "display_data"
    },
    {
     "name": "stdout",
     "output_type": "stream",
     "text": [
      "469/469 [==============================] - 31s 66ms/step - loss: 0.3469\n",
      "Epoch 22/150\n",
      "469/469 [==============================] - ETA: 0s - loss: 0.3462  \n",
      "Saved to ./output/generated_img_021.png\n"
     ]
    },
    {
     "data": {
      "image/png": "[encoded data removed]",
      "text/plain": [
       "<Figure size 2000x300 with 10 Axes>"
      ]
     },
     "metadata": {},
     "output_type": "display_data"
    },
    {
     "name": "stdout",
     "output_type": "stream",
     "text": [
      "469/469 [==============================] - 31s 65ms/step - loss: 0.3462\n",
      "Epoch 23/150\n",
      "467/469 [============================>.] - ETA: 0s - loss: 0.3453  \n",
      "Saved to ./output/generated_img_022.png\n"
     ]
    },
    {
     "data": {
      "image/png": "[encoded data removed]",
      "text/plain": [
       "<Figure size 2000x300 with 10 Axes>"
      ]
     },
     "metadata": {},
     "output_type": "display_data"
    },
    {
     "name": "stdout",
     "output_type": "stream",
     "text": [
      "469/469 [==============================] - 31s 66ms/step - loss: 0.3453\n",
      "Epoch 24/150\n",
      "468/469 [============================>.] - ETA: 0s - loss: 0.3449  \n",
      "Saved to ./output/generated_img_023.png\n"
     ]
    },
    {
     "data": {
      "image/png": "[encoded data removed]",
      "text/plain": [
       "<Figure size 2000x300 with 10 Axes>"
      ]
     },
     "metadata": {},
     "output_type": "display_data"
    },
    {
     "name": "stdout",
     "output_type": "stream",
     "text": [
      "469/469 [==============================] - 30s 65ms/step - loss: 0.3449\n",
      "Epoch 25/150\n",
      "468/469 [============================>.] - ETA: 0s - loss: 0.3441  \n",
      "Saved to ./output/generated_img_024.png\n"
     ]
    },
    {
     "data": {
      "image/png": "[encoded data removed]",
      "text/plain": [
       "<Figure size 2000x300 with 10 Axes>"
      ]
     },
     "metadata": {},
     "output_type": "display_data"
    },
    {
     "name": "stdout",
     "output_type": "stream",
     "text": [
      "469/469 [==============================] - 31s 65ms/step - loss: 0.3441\n",
      "Epoch 26/150\n",
      "469/469 [==============================] - ETA: 0s - loss: 0.3438  \n",
      "Saved to ./output/generated_img_025.png\n"
     ]
    },
    {
     "data": {
      "image/png": "[encoded data removed]",
      "text/plain": [
       "<Figure size 2000x300 with 10 Axes>"
      ]
     },
     "metadata": {},
     "output_type": "display_data"
    },
    {
     "name": "stdout",
     "output_type": "stream",
     "text": [
      "469/469 [==============================] - 31s 66ms/step - loss: 0.3438\n",
      "Epoch 27/150\n",
      "469/469 [==============================] - ETA: 0s - loss: 0.3431  \n",
      "Saved to ./output/generated_img_026.png\n"
     ]
    },
    {
     "data": {
      "image/png": "[encoded data removed]",
      "text/plain": [
       "<Figure size 2000x300 with 10 Axes>"
      ]
     },
     "metadata": {},
     "output_type": "display_data"
    },
    {
     "name": "stdout",
     "output_type": "stream",
     "text": [
      "469/469 [==============================] - 31s 65ms/step - loss: 0.3431\n",
      "Epoch 28/150\n",
      "469/469 [==============================] - ETA: 0s - loss: 0.3426  \n",
      "Saved to ./output/generated_img_027.png\n"
     ]
    },
    {
     "data": {
      "image/png": "[encoded data removed]",
      "text/plain": [
       "<Figure size 2000x300 with 10 Axes>"
      ]
     },
     "metadata": {},
     "output_type": "display_data"
    },
    {
     "name": "stdout",
     "output_type": "stream",
     "text": [
      "469/469 [==============================] - 31s 66ms/step - loss: 0.3426\n",
      "Epoch 29/150\n",
      "468/469 [============================>.] - ETA: 0s - loss: 0.3423  \n",
      "Saved to ./output/generated_img_028.png\n"
     ]
    },
    {
     "data": {
      "image/png": "[encoded data removed]",
      "text/plain": [
       "<Figure size 2000x300 with 10 Axes>"
      ]
     },
     "metadata": {},
     "output_type": "display_data"
    },
    {
     "name": "stdout",
     "output_type": "stream",
     "text": [
      "469/469 [==============================] - 28s 59ms/step - loss: 0.3423\n",
      "Epoch 30/150\n",
      "468/469 [============================>.] - ETA: 0s - loss: 0.3416  \n",
      "Saved to ./output/generated_img_029.png\n"
     ]
    },
    {
     "data": {
      "image/png": "[encoded data removed]",
      "text/plain": [
       "<Figure size 2000x300 with 10 Axes>"
      ]
     },
     "metadata": {},
     "output_type": "display_data"
    },
    {
     "name": "stdout",
     "output_type": "stream",
     "text": [
      "469/469 [==============================] - 28s 60ms/step - loss: 0.3415\n",
      "Epoch 31/150\n",
      "468/469 [============================>.] - ETA: 0s - loss: 0.3412  \n",
      "Saved to ./output/generated_img_030.png\n"
     ]
    },
    {
     "data": {
      "image/png": "[encoded data removed]",
      "text/plain": [
       "<Figure size 2000x300 with 10 Axes>"
      ]
     },
     "metadata": {},
     "output_type": "display_data"
    },
    {
     "name": "stdout",
     "output_type": "stream",
     "text": [
      "469/469 [==============================] - 29s 61ms/step - loss: 0.3412\n",
      "Epoch 32/150\n",
      "468/469 [============================>.] - ETA: 0s - loss: 0.3409  \n",
      "Saved to ./output/generated_img_031.png\n"
     ]
    },
    {
     "data": {
      "image/png": "[encoded data removed]",
      "text/plain": [
       "<Figure size 2000x300 with 10 Axes>"
      ]
     },
     "metadata": {},
     "output_type": "display_data"
    },
    {
     "name": "stdout",
     "output_type": "stream",
     "text": [
      "469/469 [==============================] - 28s 59ms/step - loss: 0.3408\n",
      "Epoch 33/150\n",
      "468/469 [============================>.] - ETA: 0s - loss: 0.3403  \n",
      "Saved to ./output/generated_img_032.png\n"
     ]
    },
    {
     "data": {
      "image/png": "[encoded data removed]",
      "text/plain": [
       "<Figure size 2000x300 with 10 Axes>"
      ]
     },
     "metadata": {},
     "output_type": "display_data"
    },
    {
     "name": "stdout",
     "output_type": "stream",
     "text": [
      "469/469 [==============================] - 30s 64ms/step - loss: 0.3403\n",
      "Epoch 34/150\n",
      "467/469 [============================>.] - ETA: 0s - loss: 0.3401  \n",
      "Saved to ./output/generated_img_033.png\n"
     ]
    },
    {
     "data": {
      "image/png": "[encoded data removed]",
      "text/plain": [
       "<Figure size 2000x300 with 10 Axes>"
      ]
     },
     "metadata": {},
     "output_type": "display_data"
    },
    {
     "name": "stdout",
     "output_type": "stream",
     "text": [
      "469/469 [==============================] - 28s 60ms/step - loss: 0.3401\n",
      "Epoch 35/150\n",
      "468/469 [============================>.] - ETA: 0s - loss: 0.3396  \n",
      "Saved to ./output/generated_img_034.png\n"
     ]
    },
    {
     "data": {
      "image/png": "[encoded data removed]",
      "text/plain": [
       "<Figure size 2000x300 with 10 Axes>"
      ]
     },
     "metadata": {},
     "output_type": "display_data"
    },
    {
     "name": "stdout",
     "output_type": "stream",
     "text": [
      "469/469 [==============================] - 30s 63ms/step - loss: 0.3396\n",
      "Epoch 36/150\n",
      "469/469 [==============================] - ETA: 0s - loss: 0.3391  \n",
      "Saved to ./output/generated_img_035.png\n"
     ]
    },
    {
     "data": {
      "image/png": "[encoded data removed]",
      "text/plain": [
       "<Figure size 2000x300 with 10 Axes>"
      ]
     },
     "metadata": {},
     "output_type": "display_data"
    },
    {
     "name": "stdout",
     "output_type": "stream",
     "text": [
      "469/469 [==============================] - 31s 65ms/step - loss: 0.3391\n",
      "Epoch 37/150\n",
      "468/469 [============================>.] - ETA: 0s - loss: 0.3390  \n",
      "Saved to ./output/generated_img_036.png\n"
     ]
    },
    {
     "data": {
      "image/png": "[encoded data removed]",
      "text/plain": [
       "<Figure size 2000x300 with 10 Axes>"
      ]
     },
     "metadata": {},
     "output_type": "display_data"
    },
    {
     "name": "stdout",
     "output_type": "stream",
     "text": [
      "469/469 [==============================] - 30s 64ms/step - loss: 0.3390\n",
      "Epoch 38/150\n",
      "468/469 [============================>.] - ETA: 0s - loss: 0.3384  \n",
      "Saved to ./output/generated_img_037.png\n"
     ]
    },
    {
     "data": {
      "image/png": "[encoded data removed]",
      "text/plain": [
       "<Figure size 2000x300 with 10 Axes>"
      ]
     },
     "metadata": {},
     "output_type": "display_data"
    },
    {
     "name": "stdout",
     "output_type": "stream",
     "text": [
      "469/469 [==============================] - 30s 64ms/step - loss: 0.3384\n",
      "Epoch 39/150\n",
      "468/469 [============================>.] - ETA: 0s - loss: 0.3382  \n",
      "Saved to ./output/generated_img_038.png\n"
     ]
    },
    {
     "data": {
      "image/png": "[encoded data removed]",
      "text/plain": [
       "<Figure size 2000x300 with 10 Axes>"
      ]
     },
     "metadata": {},
     "output_type": "display_data"
    },
    {
     "name": "stdout",
     "output_type": "stream",
     "text": [
      "469/469 [==============================] - 30s 64ms/step - loss: 0.3382\n",
      "Epoch 40/150\n",
      "468/469 [============================>.] - ETA: 0s - loss: 0.3379  \n",
      "Saved to ./output/generated_img_039.png\n"
     ]
    },
    {
     "data": {
      "image/png": "[encoded data removed]",
      "text/plain": [
       "<Figure size 2000x300 with 10 Axes>"
      ]
     },
     "metadata": {},
     "output_type": "display_data"
    },
    {
     "name": "stdout",
     "output_type": "stream",
     "text": [
      "469/469 [==============================] - 30s 64ms/step - loss: 0.3379\n",
      "Epoch 41/150\n",
      "469/469 [==============================] - ETA: 0s - loss: 0.3374  \n",
      "Saved to ./output/generated_img_040.png\n"
     ]
    },
    {
     "data": {
      "image/png": "[encoded data removed]",
      "text/plain": [
       "<Figure size 2000x300 with 10 Axes>"
      ]
     },
     "metadata": {},
     "output_type": "display_data"
    },
    {
     "name": "stdout",
     "output_type": "stream",
     "text": [
      "469/469 [==============================] - 30s 64ms/step - loss: 0.3374\n",
      "Epoch 42/150\n",
      "468/469 [============================>.] - ETA: 0s - loss: 0.3372  \n",
      "Saved to ./output/generated_img_041.png\n"
     ]
    },
    {
     "data": {
      "image/png": "[encoded data removed]",
      "text/plain": [
       "<Figure size 2000x300 with 10 Axes>"
      ]
     },
     "metadata": {},
     "output_type": "display_data"
    },
    {
     "name": "stdout",
     "output_type": "stream",
     "text": [
      "469/469 [==============================] - 30s 64ms/step - loss: 0.3372\n",
      "Epoch 43/150\n",
      "468/469 [============================>.] - ETA: 0s - loss: 0.3368  \n",
      "Saved to ./output/generated_img_042.png\n"
     ]
    },
    {
     "data": {
      "image/png": "[encoded data removed]",
      "text/plain": [
       "<Figure size 2000x300 with 10 Axes>"
      ]
     },
     "metadata": {},
     "output_type": "display_data"
    },
    {
     "name": "stdout",
     "output_type": "stream",
     "text": [
      "469/469 [==============================] - 31s 66ms/step - loss: 0.3369\n",
      "Epoch 44/150\n",
      "468/469 [============================>.] - ETA: 0s - loss: 0.3367  \n",
      "Saved to ./output/generated_img_043.png\n"
     ]
    },
    {
     "data": {
      "image/png": "[encoded data removed]",
      "text/plain": [
       "<Figure size 2000x300 with 10 Axes>"
      ]
     },
     "metadata": {},
     "output_type": "display_data"
    },
    {
     "name": "stdout",
     "output_type": "stream",
     "text": [
      "469/469 [==============================] - 30s 64ms/step - loss: 0.3367\n",
      "Epoch 45/150\n",
      "468/469 [============================>.] - ETA: 0s - loss: 0.3362  \n",
      "Saved to ./output/generated_img_044.png\n"
     ]
    },
    {
     "data": {
      "image/png": "[encoded data removed]",
      "text/plain": [
       "<Figure size 2000x300 with 10 Axes>"
      ]
     },
     "metadata": {},
     "output_type": "display_data"
    },
    {
     "name": "stdout",
     "output_type": "stream",
     "text": [
      "469/469 [==============================] - 30s 64ms/step - loss: 0.3362\n",
      "Epoch 46/150\n",
      "468/469 [============================>.] - ETA: 0s - loss: 0.3361  \n",
      "Saved to ./output/generated_img_045.png\n"
     ]
    },
    {
     "data": {
      "image/png": "[encoded data removed]",
      "text/plain": [
       "<Figure size 2000x300 with 10 Axes>"
      ]
     },
     "metadata": {},
     "output_type": "display_data"
    },
    {
     "name": "stdout",
     "output_type": "stream",
     "text": [
      "469/469 [==============================] - 31s 65ms/step - loss: 0.3360\n",
      "Epoch 47/150\n",
      "467/469 [============================>.] - ETA: 0s - loss: 0.3358  \n",
      "Saved to ./output/generated_img_046.png\n"
     ]
    },
    {
     "data": {
      "image/png": "[encoded data removed]",
      "text/plain": [
       "<Figure size 2000x300 with 10 Axes>"
      ]
     },
     "metadata": {},
     "output_type": "display_data"
    },
    {
     "name": "stdout",
     "output_type": "stream",
     "text": [
      "469/469 [==============================] - 32s 69ms/step - loss: 0.3358\n",
      "Epoch 48/150\n",
      "468/469 [============================>.] - ETA: 0s - loss: 0.3356  \n",
      "Saved to ./output/generated_img_047.png\n"
     ]
    },
    {
     "data": {
      "image/png": "[encoded data removed]",
      "text/plain": [
       "<Figure size 2000x300 with 10 Axes>"
      ]
     },
     "metadata": {},
     "output_type": "display_data"
    },
    {
     "name": "stdout",
     "output_type": "stream",
     "text": [
      "469/469 [==============================] - 33s 69ms/step - loss: 0.3356\n",
      "Epoch 49/150\n",
      "469/469 [==============================] - ETA: 0s - loss: 0.3353  \n",
      "Saved to ./output/generated_img_048.png\n"
     ]
    },
    {
     "data": {
      "image/png": "[encoded data removed]",
      "text/plain": [
       "<Figure size 2000x300 with 10 Axes>"
      ]
     },
     "metadata": {},
     "output_type": "display_data"
    },
    {
     "name": "stdout",
     "output_type": "stream",
     "text": [
      "469/469 [==============================] - 33s 69ms/step - loss: 0.3353\n",
      "Epoch 50/150\n",
      "469/469 [==============================] - ETA: 0s - loss: 0.3350  \n",
      "Saved to ./output/generated_img_049.png\n"
     ]
    },
    {
     "data": {
      "image/png": "[encoded data removed]",
      "text/plain": [
       "<Figure size 2000x300 with 10 Axes>"
      ]
     },
     "metadata": {},
     "output_type": "display_data"
    },
    {
     "name": "stdout",
     "output_type": "stream",
     "text": [
      "469/469 [==============================] - 31s 65ms/step - loss: 0.3350\n",
      "Epoch 51/150\n",
      "468/469 [============================>.] - ETA: 0s - loss: 0.3351  \n",
      "Saved to ./output/generated_img_050.png\n"
     ]
    },
    {
     "data": {
      "image/png": "[encoded data removed]",
      "text/plain": [
       "<Figure size 2000x300 with 10 Axes>"
      ]
     },
     "metadata": {},
     "output_type": "display_data"
    },
    {
     "name": "stdout",
     "output_type": "stream",
     "text": [
      "469/469 [==============================] - 29s 61ms/step - loss: 0.3351\n",
      "Epoch 52/150\n",
      "468/469 [============================>.] - ETA: 0s - loss: 0.3345  \n",
      "Saved to ./output/generated_img_051.png\n"
     ]
    },
    {
     "data": {
      "image/png": "[encoded data removed]",
      "text/plain": [
       "<Figure size 2000x300 with 10 Axes>"
      ]
     },
     "metadata": {},
     "output_type": "display_data"
    },
    {
     "name": "stdout",
     "output_type": "stream",
     "text": [
      "469/469 [==============================] - 30s 64ms/step - loss: 0.3345\n",
      "Epoch 53/150\n",
      "469/469 [==============================] - ETA: 0s - loss: 0.3344  \n",
      "Saved to ./output/generated_img_052.png\n"
     ]
    },
    {
     "data": {
      "image/png": "[encoded data removed]",
      "text/plain": [
       "<Figure size 2000x300 with 10 Axes>"
      ]
     },
     "metadata": {},
     "output_type": "display_data"
    },
    {
     "name": "stdout",
     "output_type": "stream",
     "text": [
      "469/469 [==============================] - 28s 59ms/step - loss: 0.3344\n",
      "Epoch 54/150\n",
      "468/469 [============================>.] - ETA: 0s - loss: 0.3340  \n",
      "Saved to ./output/generated_img_053.png\n"
     ]
    },
    {
     "data": {
      "image/png": "[encoded data removed]",
      "text/plain": [
       "<Figure size 2000x300 with 10 Axes>"
      ]
     },
     "metadata": {},
     "output_type": "display_data"
    },
    {
     "name": "stdout",
     "output_type": "stream",
     "text": [
      "469/469 [==============================] - 28s 59ms/step - loss: 0.3340\n",
      "Epoch 55/150\n",
      "468/469 [============================>.] - ETA: 0s - loss: 0.3338  \n",
      "Saved to ./output/generated_img_054.png\n"
     ]
    },
    {
     "data": {
      "image/png": "[encoded data removed]",
      "text/plain": [
       "<Figure size 2000x300 with 10 Axes>"
      ]
     },
     "metadata": {},
     "output_type": "display_data"
    },
    {
     "name": "stdout",
     "output_type": "stream",
     "text": [
      "469/469 [==============================] - 28s 60ms/step - loss: 0.3338\n",
      "Epoch 56/150\n",
      "469/469 [==============================] - ETA: 0s - loss: 0.3339  \n",
      "Saved to ./output/generated_img_055.png\n"
     ]
    },
    {
     "data": {
      "image/png": "[encoded data removed]",
      "text/plain": [
       "<Figure size 2000x300 with 10 Axes>"
      ]
     },
     "metadata": {},
     "output_type": "display_data"
    },
    {
     "name": "stdout",
     "output_type": "stream",
     "text": [
      "469/469 [==============================] - 28s 60ms/step - loss: 0.3339\n",
      "Epoch 57/150\n",
      "468/469 [============================>.] - ETA: 0s - loss: 0.3334  \n",
      "Saved to ./output/generated_img_056.png\n"
     ]
    },
    {
     "data": {
      "image/png": "[encoded data removed]",
      "text/plain": [
       "<Figure size 2000x300 with 10 Axes>"
      ]
     },
     "metadata": {},
     "output_type": "display_data"
    },
    {
     "name": "stdout",
     "output_type": "stream",
     "text": [
      "469/469 [==============================] - 28s 59ms/step - loss: 0.3334\n",
      "Epoch 58/150\n",
      "468/469 [============================>.] - ETA: 0s - loss: 0.3333  \n",
      "Saved to ./output/generated_img_057.png\n"
     ]
    },
    {
     "data": {
      "image/png": "[encoded data removed]",
      "text/plain": [
       "<Figure size 2000x300 with 10 Axes>"
      ]
     },
     "metadata": {},
     "output_type": "display_data"
    },
    {
     "name": "stdout",
     "output_type": "stream",
     "text": [
      "469/469 [==============================] - 28s 59ms/step - loss: 0.3333\n",
      "Epoch 59/150\n",
      "467/469 [============================>.] - ETA: 0s - loss: 0.3332  \n",
      "Saved to ./output/generated_img_058.png\n"
     ]
    },
    {
     "data": {
      "image/png": "[encoded data removed]",
      "text/plain": [
       "<Figure size 2000x300 with 10 Axes>"
      ]
     },
     "metadata": {},
     "output_type": "display_data"
    },
    {
     "name": "stdout",
     "output_type": "stream",
     "text": [
      "469/469 [==============================] - 28s 59ms/step - loss: 0.3331\n",
      "Epoch 60/150\n",
      "469/469 [==============================] - ETA: 0s - loss: 0.3329  \n",
      "Saved to ./output/generated_img_059.png\n"
     ]
    },
    {
     "data": {
      "image/png": "[encoded data removed]",
      "text/plain": [
       "<Figure size 2000x300 with 10 Axes>"
      ]
     },
     "metadata": {},
     "output_type": "display_data"
    },
    {
     "name": "stdout",
     "output_type": "stream",
     "text": [
      "469/469 [==============================] - 28s 59ms/step - loss: 0.3329\n",
      "Epoch 61/150\n",
      "469/469 [==============================] - ETA: 0s - loss: 0.3326  \n",
      "Saved to ./output/generated_img_060.png\n"
     ]
    },
    {
     "data": {
      "image/png": "[encoded data removed]",
      "text/plain": [
       "<Figure size 2000x300 with 10 Axes>"
      ]
     },
     "metadata": {},
     "output_type": "display_data"
    },
    {
     "name": "stdout",
     "output_type": "stream",
     "text": [
      "469/469 [==============================] - 28s 59ms/step - loss: 0.3326\n",
      "Epoch 62/150\n",
      "468/469 [============================>.] - ETA: 0s - loss: 0.3327  \n",
      "Saved to ./output/generated_img_061.png\n"
     ]
    },
    {
     "data": {
      "image/png": "[encoded data removed]",
      "text/plain": [
       "<Figure size 2000x300 with 10 Axes>"
      ]
     },
     "metadata": {},
     "output_type": "display_data"
    },
    {
     "name": "stdout",
     "output_type": "stream",
     "text": [
      "469/469 [==============================] - 28s 59ms/step - loss: 0.3327\n",
      "Epoch 63/150\n",
      "468/469 [============================>.] - ETA: 0s - loss: 0.3324  \n",
      "Saved to ./output/generated_img_062.png\n"
     ]
    },
    {
     "data": {
      "image/png": "[encoded data removed]",
      "text/plain": [
       "<Figure size 2000x300 with 10 Axes>"
      ]
     },
     "metadata": {},
     "output_type": "display_data"
    },
    {
     "name": "stdout",
     "output_type": "stream",
     "text": [
      "469/469 [==============================] - 29s 60ms/step - loss: 0.3324\n",
      "Epoch 64/150\n",
      "468/469 [============================>.] - ETA: 0s - loss: 0.3321  \n",
      "Saved to ./output/generated_img_063.png\n"
     ]
    },
    {
     "data": {
      "image/png": "[encoded data removed]",
      "text/plain": [
       "<Figure size 2000x300 with 10 Axes>"
      ]
     },
     "metadata": {},
     "output_type": "display_data"
    },
    {
     "name": "stdout",
     "output_type": "stream",
     "text": [
      "469/469 [==============================] - 28s 60ms/step - loss: 0.3321\n",
      "Epoch 65/150\n",
      "468/469 [============================>.] - ETA: 0s - loss: 0.3319  \n",
      "Saved to ./output/generated_img_064.png\n"
     ]
    },
    {
     "data": {
      "image/png": "[encoded data removed]",
      "text/plain": [
       "<Figure size 2000x300 with 10 Axes>"
      ]
     },
     "metadata": {},
     "output_type": "display_data"
    },
    {
     "name": "stdout",
     "output_type": "stream",
     "text": [
      "469/469 [==============================] - 28s 59ms/step - loss: 0.3320\n",
      "Epoch 66/150\n",
      "469/469 [==============================] - ETA: 0s - loss: 0.3318  \n",
      "Saved to ./output/generated_img_065.png\n"
     ]
    },
    {
     "data": {
      "image/png": "[encoded data removed]",
      "text/plain": [
       "<Figure size 2000x300 with 10 Axes>"
      ]
     },
     "metadata": {},
     "output_type": "display_data"
    },
    {
     "name": "stdout",
     "output_type": "stream",
     "text": [
      "469/469 [==============================] - 28s 59ms/step - loss: 0.3318\n",
      "Epoch 67/150\n",
      "469/469 [==============================] - ETA: 0s - loss: 0.3316  \n",
      "Saved to ./output/generated_img_066.png\n"
     ]
    },
    {
     "data": {
      "image/png": "[encoded data removed]",
      "text/plain": [
       "<Figure size 2000x300 with 10 Axes>"
      ]
     },
     "metadata": {},
     "output_type": "display_data"
    },
    {
     "name": "stdout",
     "output_type": "stream",
     "text": [
      "469/469 [==============================] - 28s 59ms/step - loss: 0.3316\n",
      "Epoch 68/150\n",
      "469/469 [==============================] - ETA: 0s - loss: 0.3315  \n",
      "Saved to ./output/generated_img_067.png\n"
     ]
    },
    {
     "data": {
      "image/png": "[encoded data removed]",
      "text/plain": [
       "<Figure size 2000x300 with 10 Axes>"
      ]
     },
     "metadata": {},
     "output_type": "display_data"
    },
    {
     "name": "stdout",
     "output_type": "stream",
     "text": [
      "469/469 [==============================] - 28s 59ms/step - loss: 0.3315\n",
      "Epoch 69/150\n",
      "469/469 [==============================] - ETA: 0s - loss: 0.3314  \n",
      "Saved to ./output/generated_img_068.png\n"
     ]
    },
    {
     "data": {
      "image/png": "[encoded data removed]",
      "text/plain": [
       "<Figure size 2000x300 with 10 Axes>"
      ]
     },
     "metadata": {},
     "output_type": "display_data"
    },
    {
     "name": "stdout",
     "output_type": "stream",
     "text": [
      "469/469 [==============================] - 28s 60ms/step - loss: 0.3314\n",
      "Epoch 70/150\n",
      "467/469 [============================>.] - ETA: 0s - loss: 0.3312  \n",
      "Saved to ./output/generated_img_069.png\n"
     ]
    },
    {
     "data": {
      "image/png": "[encoded data removed]",
      "text/plain": [
       "<Figure size 2000x300 with 10 Axes>"
      ]
     },
     "metadata": {},
     "output_type": "display_data"
    },
    {
     "name": "stdout",
     "output_type": "stream",
     "text": [
      "469/469 [==============================] - 28s 59ms/step - loss: 0.3312\n",
      "Epoch 71/150\n",
      "467/469 [============================>.] - ETA: 0s - loss: 0.3311  \n",
      "Saved to ./output/generated_img_070.png\n"
     ]
    },
    {
     "data": {
      "image/png": "[encoded data removed]",
      "text/plain": [
       "<Figure size 2000x300 with 10 Axes>"
      ]
     },
     "metadata": {},
     "output_type": "display_data"
    },
    {
     "name": "stdout",
     "output_type": "stream",
     "text": [
      "469/469 [==============================] - 28s 60ms/step - loss: 0.3311\n",
      "Epoch 72/150\n",
      "468/469 [============================>.] - ETA: 0s - loss: 0.3309  \n",
      "Saved to ./output/generated_img_071.png\n"
     ]
    },
    {
     "data": {
      "image/png": "[encoded data removed]",
      "text/plain": [
       "<Figure size 2000x300 with 10 Axes>"
      ]
     },
     "metadata": {},
     "output_type": "display_data"
    },
    {
     "name": "stdout",
     "output_type": "stream",
     "text": [
      "469/469 [==============================] - 28s 60ms/step - loss: 0.3310\n",
      "Epoch 73/150\n",
      "468/469 [============================>.] - ETA: 0s - loss: 0.3307  \n",
      "Saved to ./output/generated_img_072.png\n"
     ]
    },
    {
     "data": {
      "image/png": "[encoded data removed]",
      "text/plain": [
       "<Figure size 2000x300 with 10 Axes>"
      ]
     },
     "metadata": {},
     "output_type": "display_data"
    },
    {
     "name": "stdout",
     "output_type": "stream",
     "text": [
      "469/469 [==============================] - 32s 67ms/step - loss: 0.3307\n",
      "Epoch 74/150\n",
      "468/469 [============================>.] - ETA: 0s - loss: 0.3304  \n",
      "Saved to ./output/generated_img_073.png\n"
     ]
    },
    {
     "data": {
      "image/png": "[encoded data removed]",
      "text/plain": [
       "<Figure size 2000x300 with 10 Axes>"
      ]
     },
     "metadata": {},
     "output_type": "display_data"
    },
    {
     "name": "stdout",
     "output_type": "stream",
     "text": [
      "469/469 [==============================] - 31s 65ms/step - loss: 0.3304\n",
      "Epoch 75/150\n",
      "468/469 [============================>.] - ETA: 0s - loss: 0.3305  \n",
      "Saved to ./output/generated_img_074.png\n"
     ]
    },
    {
     "data": {
      "image/png": "[encoded data removed]",
      "text/plain": [
       "<Figure size 2000x300 with 10 Axes>"
      ]
     },
     "metadata": {},
     "output_type": "display_data"
    },
    {
     "name": "stdout",
     "output_type": "stream",
     "text": [
      "469/469 [==============================] - 31s 65ms/step - loss: 0.3305\n",
      "Epoch 76/150\n",
      "469/469 [==============================] - ETA: 0s - loss: 0.3302  \n",
      "Saved to ./output/generated_img_075.png\n"
     ]
    },
    {
     "data": {
      "image/png": "[encoded data removed]",
      "text/plain": [
       "<Figure size 2000x300 with 10 Axes>"
      ]
     },
     "metadata": {},
     "output_type": "display_data"
    },
    {
     "name": "stdout",
     "output_type": "stream",
     "text": [
      "469/469 [==============================] - 30s 64ms/step - loss: 0.3302\n",
      "Epoch 77/150\n",
      "469/469 [==============================] - ETA: 0s - loss: 0.3302  \n",
      "Saved to ./output/generated_img_076.png\n"
     ]
    },
    {
     "data": {
      "image/png": "[encoded data removed]",
      "text/plain": [
       "<Figure size 2000x300 with 10 Axes>"
      ]
     },
     "metadata": {},
     "output_type": "display_data"
    },
    {
     "name": "stdout",
     "output_type": "stream",
     "text": [
      "469/469 [==============================] - 30s 65ms/step - loss: 0.3302\n",
      "Epoch 78/150\n",
      "468/469 [============================>.] - ETA: 0s - loss: 0.3300  \n",
      "Saved to ./output/generated_img_077.png\n"
     ]
    },
    {
     "data": {
      "image/png": "[encoded data removed]",
      "text/plain": [
       "<Figure size 2000x300 with 10 Axes>"
      ]
     },
     "metadata": {},
     "output_type": "display_data"
    },
    {
     "name": "stdout",
     "output_type": "stream",
     "text": [
      "469/469 [==============================] - 30s 64ms/step - loss: 0.3300\n",
      "Epoch 79/150\n",
      "468/469 [============================>.] - ETA: 0s - loss: 0.3298  \n",
      "Saved to ./output/generated_img_078.png\n"
     ]
    },
    {
     "data": {
      "image/png": "[encoded data removed]",
      "text/plain": [
       "<Figure size 2000x300 with 10 Axes>"
      ]
     },
     "metadata": {},
     "output_type": "display_data"
    },
    {
     "name": "stdout",
     "output_type": "stream",
     "text": [
      "469/469 [==============================] - 31s 65ms/step - loss: 0.3298\n",
      "Epoch 80/150\n",
      "468/469 [============================>.] - ETA: 0s - loss: 0.3299  \n",
      "Saved to ./output/generated_img_079.png\n"
     ]
    },
    {
     "data": {
      "image/png": "[encoded data removed]",
      "text/plain": [
       "<Figure size 2000x300 with 10 Axes>"
      ]
     },
     "metadata": {},
     "output_type": "display_data"
    },
    {
     "name": "stdout",
     "output_type": "stream",
     "text": [
      "469/469 [==============================] - 31s 65ms/step - loss: 0.3298\n",
      "Epoch 81/150\n",
      "468/469 [============================>.] - ETA: 0s - loss: 0.3296  \n",
      "Saved to ./output/generated_img_080.png\n"
     ]
    },
    {
     "data": {
      "image/png": "[encoded data removed]",
      "text/plain": [
       "<Figure size 2000x300 with 10 Axes>"
      ]
     },
     "metadata": {},
     "output_type": "display_data"
    },
    {
     "name": "stdout",
     "output_type": "stream",
     "text": [
      "469/469 [==============================] - 31s 65ms/step - loss: 0.3296\n",
      "Epoch 82/150\n",
      "468/469 [============================>.] - ETA: 0s - loss: 0.3294  \n",
      "Saved to ./output/generated_img_081.png\n"
     ]
    },
    {
     "data": {
      "image/png": "[encoded data removed]",
      "text/plain": [
       "<Figure size 2000x300 with 10 Axes>"
      ]
     },
     "metadata": {},
     "output_type": "display_data"
    },
    {
     "name": "stdout",
     "output_type": "stream",
     "text": [
      "469/469 [==============================] - 31s 64ms/step - loss: 0.3294\n",
      "Epoch 83/150\n",
      "468/469 [============================>.] - ETA: 0s - loss: 0.3293  \n",
      "Saved to ./output/generated_img_082.png\n"
     ]
    },
    {
     "data": {
      "image/png": "[encoded data removed]",
      "text/plain": [
       "<Figure size 2000x300 with 10 Axes>"
      ]
     },
     "metadata": {},
     "output_type": "display_data"
    },
    {
     "name": "stdout",
     "output_type": "stream",
     "text": [
      "469/469 [==============================] - 31s 66ms/step - loss: 0.3293\n",
      "Epoch 84/150\n",
      "469/469 [==============================] - ETA: 0s - loss: 0.3291  \n",
      "Saved to ./output/generated_img_083.png\n"
     ]
    },
    {
     "data": {
      "image/png": "[encoded data removed]",
      "text/plain": [
       "<Figure size 2000x300 with 10 Axes>"
      ]
     },
     "metadata": {},
     "output_type": "display_data"
    },
    {
     "name": "stdout",
     "output_type": "stream",
     "text": [
      "469/469 [==============================] - 30s 64ms/step - loss: 0.3291\n",
      "Epoch 85/150\n",
      "469/469 [==============================] - ETA: 0s - loss: 0.3291  \n",
      "Saved to ./output/generated_img_084.png\n"
     ]
    },
    {
     "data": {
      "image/png": "[encoded data removed]",
      "text/plain": [
       "<Figure size 2000x300 with 10 Axes>"
      ]
     },
     "metadata": {},
     "output_type": "display_data"
    },
    {
     "name": "stdout",
     "output_type": "stream",
     "text": [
      "469/469 [==============================] - 31s 65ms/step - loss: 0.3291\n",
      "Epoch 86/150\n",
      "469/469 [==============================] - ETA: 0s - loss: 0.3291  \n",
      "Saved to ./output/generated_img_085.png\n"
     ]
    },
    {
     "data": {
      "image/png": "[encoded data removed]",
      "text/plain": [
       "<Figure size 2000x300 with 10 Axes>"
      ]
     },
     "metadata": {},
     "output_type": "display_data"
    },
    {
     "name": "stdout",
     "output_type": "stream",
     "text": [
      "469/469 [==============================] - 28s 60ms/step - loss: 0.3291\n",
      "Epoch 87/150\n",
      "468/469 [============================>.] - ETA: 0s - loss: 0.3287  \n",
      "Saved to ./output/generated_img_086.png\n"
     ]
    },
    {
     "data": {
      "image/png": "[encoded data removed]",
      "text/plain": [
       "<Figure size 2000x300 with 10 Axes>"
      ]
     },
     "metadata": {},
     "output_type": "display_data"
    },
    {
     "name": "stdout",
     "output_type": "stream",
     "text": [
      "469/469 [==============================] - 31s 66ms/step - loss: 0.3287\n",
      "Epoch 88/150\n",
      "469/469 [==============================] - ETA: 0s - loss: 0.3287  \n",
      "Saved to ./output/generated_img_087.png\n"
     ]
    },
    {
     "data": {
      "image/png": "[encoded data removed]",
      "text/plain": [
       "<Figure size 2000x300 with 10 Axes>"
      ]
     },
     "metadata": {},
     "output_type": "display_data"
    },
    {
     "name": "stdout",
     "output_type": "stream",
     "text": [
      "469/469 [==============================] - 32s 68ms/step - loss: 0.3287\n",
      "Epoch 89/150\n",
      "468/469 [============================>.] - ETA: 0s - loss: 0.3285  \n",
      "Saved to ./output/generated_img_088.png\n"
     ]
    },
    {
     "data": {
      "image/png": "[encoded data removed]",
      "text/plain": [
       "<Figure size 2000x300 with 10 Axes>"
      ]
     },
     "metadata": {},
     "output_type": "display_data"
    },
    {
     "name": "stdout",
     "output_type": "stream",
     "text": [
      "469/469 [==============================] - 31s 66ms/step - loss: 0.3286\n",
      "Epoch 90/150\n",
      "468/469 [============================>.] - ETA: 0s - loss: 0.3285  \n",
      "Saved to ./output/generated_img_089.png\n"
     ]
    },
    {
     "data": {
      "image/png": "[encoded data removed]",
      "text/plain": [
       "<Figure size 2000x300 with 10 Axes>"
      ]
     },
     "metadata": {},
     "output_type": "display_data"
    },
    {
     "name": "stdout",
     "output_type": "stream",
     "text": [
      "469/469 [==============================] - 32s 67ms/step - loss: 0.3285\n",
      "Epoch 91/150\n",
      "469/469 [==============================] - ETA: 0s - loss: 0.3284  \n",
      "Saved to ./output/generated_img_090.png\n"
     ]
    },
    {
     "data": {
      "image/png": "[encoded data removed]",
      "text/plain": [
       "<Figure size 2000x300 with 10 Axes>"
      ]
     },
     "metadata": {},
     "output_type": "display_data"
    },
    {
     "name": "stdout",
     "output_type": "stream",
     "text": [
      "469/469 [==============================] - 31s 65ms/step - loss: 0.3284\n",
      "Epoch 92/150\n",
      "467/469 [============================>.] - ETA: 0s - loss: 0.3282  \n",
      "Saved to ./output/generated_img_091.png\n"
     ]
    },
    {
     "data": {
      "image/png": "[encoded data removed]",
      "text/plain": [
       "<Figure size 2000x300 with 10 Axes>"
      ]
     },
     "metadata": {},
     "output_type": "display_data"
    },
    {
     "name": "stdout",
     "output_type": "stream",
     "text": [
      "469/469 [==============================] - 30s 63ms/step - loss: 0.3282\n",
      "Epoch 93/150\n",
      "468/469 [============================>.] - ETA: 0s - loss: 0.3283  \n",
      "Saved to ./output/generated_img_092.png\n"
     ]
    },
    {
     "data": {
      "image/png": "[encoded data removed]",
      "text/plain": [
       "<Figure size 2000x300 with 10 Axes>"
      ]
     },
     "metadata": {},
     "output_type": "display_data"
    },
    {
     "name": "stdout",
     "output_type": "stream",
     "text": [
      "469/469 [==============================] - 28s 60ms/step - loss: 0.3283\n",
      "Epoch 94/150\n",
      "468/469 [============================>.] - ETA: 0s - loss: 0.3280  \n",
      "Saved to ./output/generated_img_093.png\n"
     ]
    },
    {
     "data": {
      "image/png": "[encoded data removed]",
      "text/plain": [
       "<Figure size 2000x300 with 10 Axes>"
      ]
     },
     "metadata": {},
     "output_type": "display_data"
    },
    {
     "name": "stdout",
     "output_type": "stream",
     "text": [
      "469/469 [==============================] - 28s 60ms/step - loss: 0.3280\n",
      "Epoch 95/150\n",
      "469/469 [==============================] - ETA: 0s - loss: 0.3279  \n",
      "Saved to ./output/generated_img_094.png\n"
     ]
    },
    {
     "data": {
      "image/png": "[encoded data removed]",
      "text/plain": [
       "<Figure size 2000x300 with 10 Axes>"
      ]
     },
     "metadata": {},
     "output_type": "display_data"
    },
    {
     "name": "stdout",
     "output_type": "stream",
     "text": [
      "469/469 [==============================] - 29s 61ms/step - loss: 0.3279\n",
      "Epoch 96/150\n",
      "468/469 [============================>.] - ETA: 0s - loss: 0.3278  \n",
      "Saved to ./output/generated_img_095.png\n"
     ]
    },
    {
     "data": {
      "image/png": "[encoded data removed]",
      "text/plain": [
       "<Figure size 2000x300 with 10 Axes>"
      ]
     },
     "metadata": {},
     "output_type": "display_data"
    },
    {
     "name": "stdout",
     "output_type": "stream",
     "text": [
      "469/469 [==============================] - 28s 60ms/step - loss: 0.3278\n",
      "Epoch 97/150\n",
      "468/469 [============================>.] - ETA: 0s - loss: 0.3276  \n",
      "Saved to ./output/generated_img_096.png\n"
     ]
    },
    {
     "data": {
      "image/png": "[encoded data removed]",
      "text/plain": [
       "<Figure size 2000x300 with 10 Axes>"
      ]
     },
     "metadata": {},
     "output_type": "display_data"
    },
    {
     "name": "stdout",
     "output_type": "stream",
     "text": [
      "469/469 [==============================] - 28s 60ms/step - loss: 0.3276\n",
      "Epoch 98/150\n",
      "469/469 [==============================] - ETA: 0s - loss: 0.3277  \n",
      "Saved to ./output/generated_img_097.png\n"
     ]
    },
    {
     "data": {
      "image/png": "[encoded data removed]",
      "text/plain": [
       "<Figure size 2000x300 with 10 Axes>"
      ]
     },
     "metadata": {},
     "output_type": "display_data"
    },
    {
     "name": "stdout",
     "output_type": "stream",
     "text": [
      "469/469 [==============================] - 29s 61ms/step - loss: 0.3277\n",
      "Epoch 99/150\n",
      "468/469 [============================>.] - ETA: 0s - loss: 0.3273  \n",
      "Saved to ./output/generated_img_098.png\n"
     ]
    },
    {
     "data": {
      "image/png": "[encoded data removed]",
      "text/plain": [
       "<Figure size 2000x300 with 10 Axes>"
      ]
     },
     "metadata": {},
     "output_type": "display_data"
    },
    {
     "name": "stdout",
     "output_type": "stream",
     "text": [
      "469/469 [==============================] - 29s 61ms/step - loss: 0.3273\n",
      "Epoch 100/150\n",
      "467/469 [============================>.] - ETA: 0s - loss: 0.3274  \n",
      "Saved to ./output/generated_img_099.png\n"
     ]
    },
    {
     "data": {
      "image/png": "[encoded data removed]",
      "text/plain": [
       "<Figure size 2000x300 with 10 Axes>"
      ]
     },
     "metadata": {},
     "output_type": "display_data"
    },
    {
     "name": "stdout",
     "output_type": "stream",
     "text": [
      "469/469 [==============================] - 29s 61ms/step - loss: 0.3274\n",
      "Epoch 101/150\n",
      "469/469 [==============================] - ETA: 0s - loss: 0.3273  \n",
      "Saved to ./output/generated_img_100.png\n"
     ]
    },
    {
     "data": {
      "image/png": "[encoded data removed]",
      "text/plain": [
       "<Figure size 2000x300 with 10 Axes>"
      ]
     },
     "metadata": {},
     "output_type": "display_data"
    },
    {
     "name": "stdout",
     "output_type": "stream",
     "text": [
      "469/469 [==============================] - 29s 60ms/step - loss: 0.3273\n",
      "Epoch 102/150\n",
      "468/469 [============================>.] - ETA: 0s - loss: 0.3272  \n",
      "Saved to ./output/generated_img_101.png\n"
     ]
    },
    {
     "data": {
      "image/png": "[encoded data removed]",
      "text/plain": [
       "<Figure size 2000x300 with 10 Axes>"
      ]
     },
     "metadata": {},
     "output_type": "display_data"
    },
    {
     "name": "stdout",
     "output_type": "stream",
     "text": [
      "469/469 [==============================] - 28s 60ms/step - loss: 0.3272\n",
      "Epoch 103/150\n",
      "468/469 [============================>.] - ETA: 0s - loss: 0.3271  \n",
      "Saved to ./output/generated_img_102.png\n"
     ]
    },
    {
     "data": {
      "image/png": "[encoded data removed]",
      "text/plain": [
       "<Figure size 2000x300 with 10 Axes>"
      ]
     },
     "metadata": {},
     "output_type": "display_data"
    },
    {
     "name": "stdout",
     "output_type": "stream",
     "text": [
      "469/469 [==============================] - 29s 61ms/step - loss: 0.3271\n",
      "Epoch 104/150\n",
      "468/469 [============================>.] - ETA: 0s - loss: 0.3271  \n",
      "Saved to ./output/generated_img_103.png\n"
     ]
    },
    {
     "data": {
      "image/png": "[encoded data removed]",
      "text/plain": [
       "<Figure size 2000x300 with 10 Axes>"
      ]
     },
     "metadata": {},
     "output_type": "display_data"
    },
    {
     "name": "stdout",
     "output_type": "stream",
     "text": [
      "469/469 [==============================] - 29s 61ms/step - loss: 0.3271\n",
      "Epoch 105/150\n",
      "468/469 [============================>.] - ETA: 0s - loss: 0.3270  \n",
      "Saved to ./output/generated_img_104.png\n"
     ]
    },
    {
     "data": {
      "image/png": "[encoded data removed]",
      "text/plain": [
       "<Figure size 2000x300 with 10 Axes>"
      ]
     },
     "metadata": {},
     "output_type": "display_data"
    },
    {
     "name": "stdout",
     "output_type": "stream",
     "text": [
      "469/469 [==============================] - 28s 60ms/step - loss: 0.3270\n",
      "Epoch 106/150\n",
      "468/469 [============================>.] - ETA: 0s - loss: 0.3268  \n",
      "Saved to ./output/generated_img_105.png\n"
     ]
    },
    {
     "data": {
      "image/png": "[encoded data removed]",
      "text/plain": [
       "<Figure size 2000x300 with 10 Axes>"
      ]
     },
     "metadata": {},
     "output_type": "display_data"
    },
    {
     "name": "stdout",
     "output_type": "stream",
     "text": [
      "469/469 [==============================] - 29s 61ms/step - loss: 0.3268\n",
      "Epoch 107/150\n",
      "469/469 [==============================] - ETA: 0s - loss: 0.3267  \n",
      "Saved to ./output/generated_img_106.png\n"
     ]
    },
    {
     "data": {
      "image/png": "[encoded data removed]",
      "text/plain": [
       "<Figure size 2000x300 with 10 Axes>"
      ]
     },
     "metadata": {},
     "output_type": "display_data"
    },
    {
     "name": "stdout",
     "output_type": "stream",
     "text": [
      "469/469 [==============================] - 29s 61ms/step - loss: 0.3267\n",
      "Epoch 108/150\n",
      "468/469 [============================>.] - ETA: 0s - loss: 0.3268  \n",
      "Saved to ./output/generated_img_107.png\n"
     ]
    },
    {
     "data": {
      "image/png": "[encoded data removed]",
      "text/plain": [
       "<Figure size 2000x300 with 10 Axes>"
      ]
     },
     "metadata": {},
     "output_type": "display_data"
    },
    {
     "name": "stdout",
     "output_type": "stream",
     "text": [
      "469/469 [==============================] - 29s 61ms/step - loss: 0.3268\n",
      "Epoch 109/150\n",
      "469/469 [==============================] - ETA: 0s - loss: 0.3264  \n",
      "Saved to ./output/generated_img_108.png\n"
     ]
    },
    {
     "data": {
      "image/png": "[encoded data removed]",
      "text/plain": [
       "<Figure size 2000x300 with 10 Axes>"
      ]
     },
     "metadata": {},
     "output_type": "display_data"
    },
    {
     "name": "stdout",
     "output_type": "stream",
     "text": [
      "469/469 [==============================] - 29s 61ms/step - loss: 0.3264\n",
      "Epoch 110/150\n",
      "469/469 [==============================] - ETA: 0s - loss: 0.3264  \n",
      "Saved to ./output/generated_img_109.png\n"
     ]
    },
    {
     "data": {
      "image/png": "[encoded data removed]",
      "text/plain": [
       "<Figure size 2000x300 with 10 Axes>"
      ]
     },
     "metadata": {},
     "output_type": "display_data"
    },
    {
     "name": "stdout",
     "output_type": "stream",
     "text": [
      "469/469 [==============================] - 29s 61ms/step - loss: 0.3264\n",
      "Epoch 111/150\n",
      "469/469 [==============================] - ETA: 0s - loss: 0.3265  \n",
      "Saved to ./output/generated_img_110.png\n"
     ]
    },
    {
     "data": {
      "image/png": "[encoded data removed]",
      "text/plain": [
       "<Figure size 2000x300 with 10 Axes>"
      ]
     },
     "metadata": {},
     "output_type": "display_data"
    },
    {
     "name": "stdout",
     "output_type": "stream",
     "text": [
      "469/469 [==============================] - 28s 60ms/step - loss: 0.3265\n",
      "Epoch 112/150\n",
      "468/469 [============================>.] - ETA: 0s - loss: 0.3263  \n",
      "Saved to ./output/generated_img_111.png\n"
     ]
    },
    {
     "data": {
      "image/png": "[encoded data removed]",
      "text/plain": [
       "<Figure size 2000x300 with 10 Axes>"
      ]
     },
     "metadata": {},
     "output_type": "display_data"
    },
    {
     "name": "stdout",
     "output_type": "stream",
     "text": [
      "469/469 [==============================] - 29s 61ms/step - loss: 0.3263\n",
      "Epoch 113/150\n",
      "468/469 [============================>.] - ETA: 0s - loss: 0.3262  \n",
      "Saved to ./output/generated_img_112.png\n"
     ]
    },
    {
     "data": {
      "image/png": "[encoded data removed]",
      "text/plain": [
       "<Figure size 2000x300 with 10 Axes>"
      ]
     },
     "metadata": {},
     "output_type": "display_data"
    },
    {
     "name": "stdout",
     "output_type": "stream",
     "text": [
      "469/469 [==============================] - 28s 60ms/step - loss: 0.3262\n",
      "Epoch 114/150\n",
      "469/469 [==============================] - ETA: 0s - loss: 0.3261  \n",
      "Saved to ./output/generated_img_113.png\n"
     ]
    },
    {
     "data": {
      "image/png": "[encoded data removed]",
      "text/plain": [
       "<Figure size 2000x300 with 10 Axes>"
      ]
     },
     "metadata": {},
     "output_type": "display_data"
    },
    {
     "name": "stdout",
     "output_type": "stream",
     "text": [
      "469/469 [==============================] - 29s 61ms/step - loss: 0.3261\n",
      "Epoch 115/150\n",
      "469/469 [==============================] - ETA: 0s - loss: 0.3259  \n",
      "Saved to ./output/generated_img_114.png\n"
     ]
    },
    {
     "data": {
      "image/png": "[encoded data removed]",
      "text/plain": [
       "<Figure size 2000x300 with 10 Axes>"
      ]
     },
     "metadata": {},
     "output_type": "display_data"
    },
    {
     "name": "stdout",
     "output_type": "stream",
     "text": [
      "469/469 [==============================] - 29s 60ms/step - loss: 0.3259\n",
      "Epoch 116/150\n",
      "468/469 [============================>.] - ETA: 0s - loss: 0.3262  \n",
      "Saved to ./output/generated_img_115.png\n"
     ]
    },
    {
     "data": {
      "image/png": "[encoded data removed]",
      "text/plain": [
       "<Figure size 2000x300 with 10 Axes>"
      ]
     },
     "metadata": {},
     "output_type": "display_data"
    },
    {
     "name": "stdout",
     "output_type": "stream",
     "text": [
      "469/469 [==============================] - 29s 60ms/step - loss: 0.3261\n",
      "Epoch 117/150\n",
      "468/469 [============================>.] - ETA: 0s - loss: 0.3259  \n",
      "Saved to ./output/generated_img_116.png\n"
     ]
    },
    {
     "data": {
      "image/png": "[encoded data removed]",
      "text/plain": [
       "<Figure size 2000x300 with 10 Axes>"
      ]
     },
     "metadata": {},
     "output_type": "display_data"
    },
    {
     "name": "stdout",
     "output_type": "stream",
     "text": [
      "469/469 [==============================] - 29s 61ms/step - loss: 0.3259\n",
      "Epoch 118/150\n",
      "468/469 [============================>.] - ETA: 0s - loss: 0.3257  \n",
      "Saved to ./output/generated_img_117.png\n"
     ]
    },
    {
     "data": {
      "image/png": "[encoded data removed]",
      "text/plain": [
       "<Figure size 2000x300 with 10 Axes>"
      ]
     },
     "metadata": {},
     "output_type": "display_data"
    },
    {
     "name": "stdout",
     "output_type": "stream",
     "text": [
      "469/469 [==============================] - 29s 60ms/step - loss: 0.3257\n",
      "Epoch 119/150\n",
      "469/469 [==============================] - ETA: 0s - loss: 0.3256  \n",
      "Saved to ./output/generated_img_118.png\n"
     ]
    },
    {
     "data": {
      "image/png": "[encoded data removed]",
      "text/plain": [
       "<Figure size 2000x300 with 10 Axes>"
      ]
     },
     "metadata": {},
     "output_type": "display_data"
    },
    {
     "name": "stdout",
     "output_type": "stream",
     "text": [
      "469/469 [==============================] - 29s 62ms/step - loss: 0.3256\n",
      "Epoch 120/150\n",
      "469/469 [==============================] - ETA: 0s - loss: 0.3258  \n",
      "Saved to ./output/generated_img_119.png\n"
     ]
    },
    {
     "data": {
      "image/png": "[encoded data removed]",
      "text/plain": [
       "<Figure size 2000x300 with 10 Axes>"
      ]
     },
     "metadata": {},
     "output_type": "display_data"
    },
    {
     "name": "stdout",
     "output_type": "stream",
     "text": [
      "469/469 [==============================] - 29s 61ms/step - loss: 0.3258\n",
      "Epoch 121/150\n",
      "469/469 [==============================] - ETA: 0s - loss: 0.3254  \n",
      "Saved to ./output/generated_img_120.png\n"
     ]
    },
    {
     "data": {
      "image/png": "[encoded data removed]",
      "text/plain": [
       "<Figure size 2000x300 with 10 Axes>"
      ]
     },
     "metadata": {},
     "output_type": "display_data"
    },
    {
     "name": "stdout",
     "output_type": "stream",
     "text": [
      "469/469 [==============================] - 29s 61ms/step - loss: 0.3254\n",
      "Epoch 122/150\n",
      "468/469 [============================>.] - ETA: 0s - loss: 0.3255  \n",
      "Saved to ./output/generated_img_121.png\n"
     ]
    },
    {
     "data": {
      "image/png": "[encoded data removed]",
      "text/plain": [
       "<Figure size 2000x300 with 10 Axes>"
      ]
     },
     "metadata": {},
     "output_type": "display_data"
    },
    {
     "name": "stdout",
     "output_type": "stream",
     "text": [
      "469/469 [==============================] - 29s 61ms/step - loss: 0.3255\n",
      "Epoch 123/150\n",
      "469/469 [==============================] - ETA: 0s - loss: 0.3254  \n",
      "Saved to ./output/generated_img_122.png\n"
     ]
    },
    {
     "data": {
      "image/png": "[encoded data removed]",
      "text/plain": [
       "<Figure size 2000x300 with 10 Axes>"
      ]
     },
     "metadata": {},
     "output_type": "display_data"
    },
    {
     "name": "stdout",
     "output_type": "stream",
     "text": [
      "469/469 [==============================] - 29s 61ms/step - loss: 0.3254\n",
      "Epoch 124/150\n",
      "469/469 [==============================] - ETA: 0s - loss: 0.3252  \n",
      "Saved to ./output/generated_img_123.png\n"
     ]
    },
    {
     "data": {
      "image/png": "[encoded data removed]",
      "text/plain": [
       "<Figure size 2000x300 with 10 Axes>"
      ]
     },
     "metadata": {},
     "output_type": "display_data"
    },
    {
     "name": "stdout",
     "output_type": "stream",
     "text": [
      "469/469 [==============================] - 29s 61ms/step - loss: 0.3252\n",
      "Epoch 125/150\n",
      "468/469 [============================>.] - ETA: 0s - loss: 0.3253  \n",
      "Saved to ./output/generated_img_124.png\n"
     ]
    },
    {
     "data": {
      "image/png": "[encoded data removed]",
      "text/plain": [
       "<Figure size 2000x300 with 10 Axes>"
      ]
     },
     "metadata": {},
     "output_type": "display_data"
    },
    {
     "name": "stdout",
     "output_type": "stream",
     "text": [
      "469/469 [==============================] - 32s 68ms/step - loss: 0.3253\n",
      "Epoch 126/150\n",
      "469/469 [==============================] - ETA: 0s - loss: 0.3253  \n",
      "Saved to ./output/generated_img_125.png\n"
     ]
    },
    {
     "data": {
      "image/png": "[encoded data removed]",
      "text/plain": [
       "<Figure size 2000x300 with 10 Axes>"
      ]
     },
     "metadata": {},
     "output_type": "display_data"
    },
    {
     "name": "stdout",
     "output_type": "stream",
     "text": [
      "469/469 [==============================] - 31s 65ms/step - loss: 0.3253\n",
      "Epoch 127/150\n",
      "469/469 [==============================] - ETA: 0s - loss: 0.3251  \n",
      "Saved to ./output/generated_img_126.png\n"
     ]
    },
    {
     "data": {
      "image/png": "[encoded data removed]",
      "text/plain": [
       "<Figure size 2000x300 with 10 Axes>"
      ]
     },
     "metadata": {},
     "output_type": "display_data"
    },
    {
     "name": "stdout",
     "output_type": "stream",
     "text": [
      "469/469 [==============================] - 31s 65ms/step - loss: 0.3251\n",
      "Epoch 128/150\n",
      "469/469 [==============================] - ETA: 0s - loss: 0.3250  \n",
      "Saved to ./output/generated_img_127.png\n"
     ]
    },
    {
     "data": {
      "image/png": "[encoded data removed]",
      "text/plain": [
       "<Figure size 2000x300 with 10 Axes>"
      ]
     },
     "metadata": {},
     "output_type": "display_data"
    },
    {
     "name": "stdout",
     "output_type": "stream",
     "text": [
      "469/469 [==============================] - 31s 65ms/step - loss: 0.3250\n",
      "Epoch 129/150\n",
      "469/469 [==============================] - ETA: 0s - loss: 0.3249  \n",
      "Saved to ./output/generated_img_128.png\n"
     ]
    },
    {
     "data": {
      "image/png": "[encoded data removed]",
      "text/plain": [
       "<Figure size 2000x300 with 10 Axes>"
      ]
     },
     "metadata": {},
     "output_type": "display_data"
    },
    {
     "name": "stdout",
     "output_type": "stream",
     "text": [
      "469/469 [==============================] - 31s 66ms/step - loss: 0.3249\n",
      "Epoch 130/150\n",
      "468/469 [============================>.] - ETA: 0s - loss: 0.3248  \n",
      "Saved to ./output/generated_img_129.png\n"
     ]
    },
    {
     "data": {
      "image/png": "[encoded data removed]",
      "text/plain": [
       "<Figure size 2000x300 with 10 Axes>"
      ]
     },
     "metadata": {},
     "output_type": "display_data"
    },
    {
     "name": "stdout",
     "output_type": "stream",
     "text": [
      "469/469 [==============================] - 31s 66ms/step - loss: 0.3248\n",
      "Epoch 131/150\n",
      "469/469 [==============================] - ETA: 0s - loss: 0.3249  \n",
      "Saved to ./output/generated_img_130.png\n"
     ]
    },
    {
     "data": {
      "image/png": "[encoded data removed]",
      "text/plain": [
       "<Figure size 2000x300 with 10 Axes>"
      ]
     },
     "metadata": {},
     "output_type": "display_data"
    },
    {
     "name": "stdout",
     "output_type": "stream",
     "text": [
      "469/469 [==============================] - 31s 65ms/step - loss: 0.3249\n",
      "Epoch 132/150\n",
      "469/469 [==============================] - ETA: 0s - loss: 0.3246  \n",
      "Saved to ./output/generated_img_131.png\n"
     ]
    },
    {
     "data": {
      "image/png": "[encoded data removed]",
      "text/plain": [
       "<Figure size 2000x300 with 10 Axes>"
      ]
     },
     "metadata": {},
     "output_type": "display_data"
    },
    {
     "name": "stdout",
     "output_type": "stream",
     "text": [
      "469/469 [==============================] - 31s 65ms/step - loss: 0.3246\n",
      "Epoch 133/150\n",
      "468/469 [============================>.] - ETA: 0s - loss: 0.3247  \n",
      "Saved to ./output/generated_img_132.png\n"
     ]
    },
    {
     "data": {
      "image/png": "[encoded data removed]",
      "text/plain": [
       "<Figure size 2000x300 with 10 Axes>"
      ]
     },
     "metadata": {},
     "output_type": "display_data"
    },
    {
     "name": "stdout",
     "output_type": "stream",
     "text": [
      "469/469 [==============================] - 31s 66ms/step - loss: 0.3247\n",
      "Epoch 134/150\n",
      "468/469 [============================>.] - ETA: 0s - loss: 0.3246  \n",
      "Saved to ./output/generated_img_133.png\n"
     ]
    },
    {
     "data": {
      "image/png": "[encoded data removed]",
      "text/plain": [
       "<Figure size 2000x300 with 10 Axes>"
      ]
     },
     "metadata": {},
     "output_type": "display_data"
    },
    {
     "name": "stdout",
     "output_type": "stream",
     "text": [
      "469/469 [==============================] - 31s 66ms/step - loss: 0.3247\n",
      "Epoch 135/150\n",
      "468/469 [============================>.] - ETA: 0s - loss: 0.3245  \n",
      "Saved to ./output/generated_img_134.png\n"
     ]
    },
    {
     "data": {
      "image/png": "[encoded data removed]",
      "text/plain": [
       "<Figure size 2000x300 with 10 Axes>"
      ]
     },
     "metadata": {},
     "output_type": "display_data"
    },
    {
     "name": "stdout",
     "output_type": "stream",
     "text": [
      "469/469 [==============================] - 31s 66ms/step - loss: 0.3245\n",
      "Epoch 136/150\n",
      "469/469 [==============================] - ETA: 0s - loss: 0.3245  \n",
      "Saved to ./output/generated_img_135.png\n"
     ]
    },
    {
     "data": {
      "image/png": "[encoded data removed]",
      "text/plain": [
       "<Figure size 2000x300 with 10 Axes>"
      ]
     },
     "metadata": {},
     "output_type": "display_data"
    },
    {
     "name": "stdout",
     "output_type": "stream",
     "text": [
      "469/469 [==============================] - 31s 65ms/step - loss: 0.3245\n",
      "Epoch 137/150\n",
      "468/469 [============================>.] - ETA: 0s - loss: 0.3244  \n",
      "Saved to ./output/generated_img_136.png\n"
     ]
    },
    {
     "data": {
      "image/png": "[encoded data removed]",
      "text/plain": [
       "<Figure size 2000x300 with 10 Axes>"
      ]
     },
     "metadata": {},
     "output_type": "display_data"
    },
    {
     "name": "stdout",
     "output_type": "stream",
     "text": [
      "469/469 [==============================] - 31s 65ms/step - loss: 0.3244\n",
      "Epoch 138/150\n",
      "469/469 [==============================] - ETA: 0s - loss: 0.3243  \n",
      "Saved to ./output/generated_img_137.png\n"
     ]
    },
    {
     "data": {
      "image/png": "[encoded data removed]",
      "text/plain": [
       "<Figure size 2000x300 with 10 Axes>"
      ]
     },
     "metadata": {},
     "output_type": "display_data"
    },
    {
     "name": "stdout",
     "output_type": "stream",
     "text": [
      "469/469 [==============================] - 29s 61ms/step - loss: 0.3243\n",
      "Epoch 139/150\n",
      "468/469 [============================>.] - ETA: 0s - loss: 0.3244  \n",
      "Saved to ./output/generated_img_138.png\n"
     ]
    },
    {
     "data": {
      "image/png": "[encoded data removed]",
      "text/plain": [
       "<Figure size 2000x300 with 10 Axes>"
      ]
     },
     "metadata": {},
     "output_type": "display_data"
    },
    {
     "name": "stdout",
     "output_type": "stream",
     "text": [
      "469/469 [==============================] - 29s 61ms/step - loss: 0.3244\n",
      "Epoch 140/150\n",
      "469/469 [==============================] - ETA: 0s - loss: 0.3242  \n",
      "Saved to ./output/generated_img_139.png\n"
     ]
    },
    {
     "data": {
      "image/png": "[encoded data removed]",
      "text/plain": [
       "<Figure size 2000x300 with 10 Axes>"
      ]
     },
     "metadata": {},
     "output_type": "display_data"
    },
    {
     "name": "stdout",
     "output_type": "stream",
     "text": [
      "469/469 [==============================] - 29s 61ms/step - loss: 0.3242\n",
      "Epoch 141/150\n",
      "469/469 [==============================] - ETA: 0s - loss: 0.3241  \n",
      "Saved to ./output/generated_img_140.png\n"
     ]
    },
    {
     "data": {
      "image/png": "[encoded data removed]",
      "text/plain": [
       "<Figure size 2000x300 with 10 Axes>"
      ]
     },
     "metadata": {},
     "output_type": "display_data"
    },
    {
     "name": "stdout",
     "output_type": "stream",
     "text": [
      "469/469 [==============================] - 29s 62ms/step - loss: 0.3241\n",
      "Epoch 142/150\n",
      "468/469 [============================>.] - ETA: 0s - loss: 0.3240  \n",
      "Saved to ./output/generated_img_141.png\n"
     ]
    },
    {
     "data": {
      "image/png": "[encoded data removed]",
      "text/plain": [
       "<Figure size 2000x300 with 10 Axes>"
      ]
     },
     "metadata": {},
     "output_type": "display_data"
    },
    {
     "name": "stdout",
     "output_type": "stream",
     "text": [
      "469/469 [==============================] - 29s 61ms/step - loss: 0.3240\n",
      "Epoch 143/150\n",
      "468/469 [============================>.] - ETA: 0s - loss: 0.3241  \n",
      "Saved to ./output/generated_img_142.png\n"
     ]
    },
    {
     "data": {
      "image/png": "[encoded data removed]",
      "text/plain": [
       "<Figure size 2000x300 with 10 Axes>"
      ]
     },
     "metadata": {},
     "output_type": "display_data"
    },
    {
     "name": "stdout",
     "output_type": "stream",
     "text": [
      "469/469 [==============================] - 29s 61ms/step - loss: 0.3241\n",
      "Epoch 144/150\n",
      "468/469 [============================>.] - ETA: 0s - loss: 0.3239  \n",
      "Saved to ./output/generated_img_143.png\n"
     ]
    },
    {
     "data": {
      "image/png": "[encoded data removed]",
      "text/plain": [
       "<Figure size 2000x300 with 10 Axes>"
      ]
     },
     "metadata": {},
     "output_type": "display_data"
    },
    {
     "name": "stdout",
     "output_type": "stream",
     "text": [
      "469/469 [==============================] - 29s 62ms/step - loss: 0.3240\n",
      "Epoch 145/150\n",
      "469/469 [==============================] - ETA: 0s - loss: 0.3239  \n",
      "Saved to ./output/generated_img_144.png\n"
     ]
    },
    {
     "data": {
      "image/png": "[encoded data removed]",
      "text/plain": [
       "<Figure size 2000x300 with 10 Axes>"
      ]
     },
     "metadata": {},
     "output_type": "display_data"
    },
    {
     "name": "stdout",
     "output_type": "stream",
     "text": [
      "469/469 [==============================] - 29s 61ms/step - loss: 0.3239\n",
      "Epoch 146/150\n",
      "468/469 [============================>.] - ETA: 0s - loss: 0.3240  \n",
      "Saved to ./output/generated_img_145.png\n"
     ]
    },
    {
     "data": {
      "image/png": "[encoded data removed]",
      "text/plain": [
       "<Figure size 2000x300 with 10 Axes>"
      ]
     },
     "metadata": {},
     "output_type": "display_data"
    },
    {
     "name": "stdout",
     "output_type": "stream",
     "text": [
      "469/469 [==============================] - 29s 61ms/step - loss: 0.3240\n",
      "Epoch 147/150\n",
      "469/469 [==============================] - ETA: 0s - loss: 0.3237  \n",
      "Saved to ./output/generated_img_146.png\n"
     ]
    },
    {
     "data": {
      "image/png": "[encoded data removed]",
      "text/plain": [
       "<Figure size 2000x300 with 10 Axes>"
      ]
     },
     "metadata": {},
     "output_type": "display_data"
    },
    {
     "name": "stdout",
     "output_type": "stream",
     "text": [
      "469/469 [==============================] - 29s 61ms/step - loss: 0.3237\n",
      "Epoch 148/150\n",
      "468/469 [============================>.] - ETA: 0s - loss: 0.3236  \n",
      "Saved to ./output/generated_img_147.png\n"
     ]
    },
    {
     "data": {
      "image/png": "[encoded data removed]",
      "text/plain": [
       "<Figure size 2000x300 with 10 Axes>"
      ]
     },
     "metadata": {},
     "output_type": "display_data"
    },
    {
     "name": "stdout",
     "output_type": "stream",
     "text": [
      "469/469 [==============================] - 29s 60ms/step - loss: 0.3236\n",
      "Epoch 149/150\n",
      "469/469 [==============================] - ETA: 0s - loss: 0.3236  \n",
      "Saved to ./output/generated_img_148.png\n"
     ]
    },
    {
     "data": {
      "image/png": "[encoded data removed]",
      "text/plain": [
       "<Figure size 2000x300 with 10 Axes>"
      ]
     },
     "metadata": {},
     "output_type": "display_data"
    },
    {
     "name": "stdout",
     "output_type": "stream",
     "text": [
      "469/469 [==============================] - 29s 60ms/step - loss: 0.3236\n",
      "Epoch 150/150\n",
      "468/469 [============================>.] - ETA: 0s - loss: 0.3235  \n",
      "Saved to ./output/generated_img_149.png\n"
     ]
    },
    {
     "data": {
      "image/png": "[encoded data removed]",
      "text/plain": [
       "<Figure size 2000x300 with 10 Axes>"
      ]
     },
     "metadata": {},
     "output_type": "display_data"
    },
    {
     "name": "stdout",
     "output_type": "stream",
     "text": [
      "469/469 [==============================] - 28s 60ms/step - loss: 0.3235\n"
     ]
    },
    {
     "data": {
      "text/plain": [
       "<keras.callbacks.History at 0x2330a9a3100>"
      ]
     },
     "execution_count": 11,
     "metadata": {},
     "output_type": "execute_result"
    }
   ],
   "source": [
    "pixel_cnn.fit(\n",
    "    input_data,\n",
    "    output_data,\n",
    "    batch_size=BATCH_SIZE,\n",
    "    epochs=EPOCHS,\n",
    "    callbacks=[tensorboard_callback, img_generator_callback],\n",
    ")"
   ]
  },
  {
   "cell_type": "markdown",
   "id": "cfb4fa72-dd2d-44c1-ad18-9c965060683e",
   "metadata": {},
   "source": [
    "## 4. Generate images <a name=\"generate\"></a>"
   ]
  },
  {
   "cell_type": "code",
   "execution_count": 12,
   "id": "7bbd4643-be09-49ba-b7bc-a524a2f00806",
   "metadata": {},
   "outputs": [],
   "source": [
    "generated_images = img_generator_callback.generate(temperature=1.0)"
   ]
  },
  {
   "cell_type": "code",
   "execution_count": 13,
   "id": "52cadb4b-ae2c-42a9-92ac-68e2131380ef",
   "metadata": {},
   "outputs": [
    {
     "data": {
      "image/png": "[encoded data removed]",
      "text/plain": [
       "<Figure size 2000x300 with 10 Axes>"
      ]
     },
     "metadata": {},
     "output_type": "display_data"
    }
   ],
   "source": [
    "display(generated_images)"
   ]
  },
  {
   "cell_type": "code",
   "execution_count": null,
   "id": "d1596f4e-3830-4e4b-93eb-30cd4032e97e",
   "metadata": {},
   "outputs": [],
   "source": []
  }
 ],
 "metadata": {
  "kernelspec": {
   "display_name": "Python 3 (ipykernel)",
   "language": "python",
   "name": "python3"
  },
  "language_info": {
   "codemirror_mode": {
    "name": "ipython",
    "version": 3
   },
   "file_extension": ".py",
   "mimetype": "text/x-python",
   "name": "python",
   "nbconvert_exporter": "python",
   "pygments_lexer": "ipython3",
   "version": "3.9.21"
  }
 },
 "nbformat": 4,
 "nbformat_minor": 5
}
